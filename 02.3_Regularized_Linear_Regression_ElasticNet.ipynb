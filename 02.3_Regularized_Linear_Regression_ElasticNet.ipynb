{
 "cells": [
  {
   "cell_type": "code",
   "execution_count": 1,
   "id": "36445b86",
   "metadata": {},
   "outputs": [],
   "source": [
    "import mlflow\n",
    "import os\n",
    "import numpy as np\n",
    "from sklearn.model_selection import train_test_split\n",
    "\n",
    "from pickle import dump\n",
    "\n",
    "from hyperopt import fmin, tpe, Trials, STATUS_OK, hp, space_eval\n",
    "from functools import partial\n",
    "\n",
    "from scripts.Preprocessing import Preprocessing\n",
    "from scripts.LinearRegressionTraining import LinearRegressionTraining\n",
    "from scripts.config import (year_month_train,\n",
    "    model_name_pref,\n",
    "    input_data_path_train,\n",
    "    seed)"
   ]
  },
  {
   "cell_type": "code",
   "execution_count": 2,
   "id": "4d3016c7",
   "metadata": {},
   "outputs": [],
   "source": [
    "local_path_save = './local_artifacts_tmp/02_3_ElasticNet_Regression/'\n",
    "year_month = year_month_train\n",
    "input_data_path = input_data_path_train"
   ]
  },
  {
   "cell_type": "markdown",
   "id": "0b32d9f2",
   "metadata": {},
   "source": [
    "### MLFlow setting"
   ]
  },
  {
   "cell_type": "code",
   "execution_count": 3,
   "id": "ebde894d",
   "metadata": {},
   "outputs": [
    {
     "name": "stderr",
     "output_type": "stream",
     "text": [
      "2023/01/17 17:00:57 INFO mlflow.tracking.fluent: Experiment with name '02.3 - Regularized Linear Regression - Elastic Net' does not exist. Creating a new experiment.\n"
     ]
    }
   ],
   "source": [
    "if not os.path.exists(local_path_save):\n",
    "    os.makedirs(local_path_save)\n",
    "\n",
    "#save all metadata in a sqlite db. Artifacts will be saved on local folder ./mlflow    \n",
    "mlflow.set_tracking_uri(\"sqlite:///mlflow.db\")\n",
    "\n",
    "# Name of the experiment\n",
    "exp_name = \"02.3 - Regularized Linear Regression - Elastic Net\"\n",
    "# set up MlFlow axperiment\n",
    "experiment_id = mlflow.set_experiment(exp_name)"
   ]
  },
  {
   "cell_type": "markdown",
   "id": "9cd22cc8",
   "metadata": {},
   "source": [
    "### Experiment"
   ]
  },
  {
   "cell_type": "code",
   "execution_count": 4,
   "id": "babd4fb6",
   "metadata": {},
   "outputs": [],
   "source": [
    "run_name = 'base'"
   ]
  },
  {
   "cell_type": "code",
   "execution_count": 5,
   "id": "9f666d88",
   "metadata": {},
   "outputs": [],
   "source": [
    "elastic_net_regression_training = LinearRegressionTraining(\n",
    "    input_data_path,\n",
    "    local_path_save,\n",
    "    year_month,\n",
    "    'elastic_net')"
   ]
  },
  {
   "cell_type": "code",
   "execution_count": 6,
   "id": "a4f2e9f8",
   "metadata": {},
   "outputs": [],
   "source": [
    "max_evals = 10\n",
    "\n",
    "# Here we can decide which hyperparameters we want to tune\n",
    "# For the Elastic Net regression, alpha tunes the amount of regularization\n",
    "# Alpha = 0 means no regularization == Linear Regression\n",
    "# l1_ratio is the mixing parameter: 0 means only L2 reg, 1 means only L1 reg\n",
    "elastic_net_parameters_search = {\n",
    "    'alpha': hp.lognormal('alpha', 0, 1),\n",
    "    'l1_ratio': hp.uniform('l1_ratio', 0, 1),\n",
    "    'random_state': seed\n",
    "}\n",
    "\n",
    "elastic_net_regression_training.set_hyperparameter_space(elastic_net_parameters_search)"
   ]
  },
  {
   "cell_type": "code",
   "execution_count": 7,
   "id": "9e387976",
   "metadata": {
    "scrolled": true
   },
   "outputs": [
    {
     "name": "stderr",
     "output_type": "stream",
     "text": [
      "/Users/davideposillipo/Documents/Didattica.nosync/DSR_ML_Fundamentals_2023/scripts/Preprocessing.py:83: FutureWarning: Series.dt.weekofyear and Series.dt.week have been deprecated.  Please use Series.dt.isocalendar().week instead.\n",
      "  df['lpep_pickup_datetime_week'] = df['lpep_pickup_datetime'].dt.week\n",
      "/Users/davideposillipo/Documents/Didattica.nosync/DSR_ML_Fundamentals_2023/scripts/Preprocessing.py:83: FutureWarning: Series.dt.weekofyear and Series.dt.week have been deprecated.  Please use Series.dt.isocalendar().week instead.\n",
      "  df['lpep_pickup_datetime_week'] = df['lpep_pickup_datetime'].dt.week\n"
     ]
    }
   ],
   "source": [
    "#### Data Preprocessing ####\n",
    "\n",
    "prepr = Preprocessing(input_data_path_train)\n",
    "X, Y = prepr.read_dataframe(request_tgt=True)\n",
    "\n",
    "X_train, X_test, Y_train, Y_test = train_test_split(X, Y, test_size=0.3, random_state=seed)\n",
    "\n",
    "#preprocessing ohe\n",
    "shapes_pre = (X_train.shape[0], X_test.shape[0])\n",
    "X_train_ohe, ohe = prepr.preprocess_for_regression(df=X_train, fit_ohe=True)\n",
    "X_test_ohe, _ = prepr.preprocess_for_regression(df=X_test, fit_ohe=False, ohe=ohe)\n",
    "\n",
    "assert shapes_pre == (X_train.shape[0], X_test.shape[0])\n",
    "dump(ohe, open(local_path_save + run_name + '_ohe.pkl', 'wb'))"
   ]
  },
  {
   "cell_type": "code",
   "execution_count": 8,
   "id": "b6860ca0",
   "metadata": {},
   "outputs": [
    {
     "data": {
      "text/plain": [
       "{'loss': 7.211841215227615, 'status': 'ok'}"
      ]
     },
     "execution_count": 8,
     "metadata": {},
     "output_type": "execute_result"
    }
   ],
   "source": [
    "# Calculating regression baseline\n",
    "elastic_net_regression_training.calculate_regression_baseline(Y_train=Y_train, Y_test=Y_test, run_name=run_name)"
   ]
  },
  {
   "cell_type": "code",
   "execution_count": 9,
   "id": "6094dc2e",
   "metadata": {
    "scrolled": true
   },
   "outputs": [
    {
     "name": "stdout",
     "output_type": "stream",
     "text": [
      " 10%|█████████▊                                                                                        | 1/10 [00:04<00:37,  4.16s/trial, best loss: 7.185427432825792]"
     ]
    },
    {
     "name": "stderr",
     "output_type": "stream",
     "text": [
      "/Users/davideposillipo/.pyenv/versions/3.10.9/envs/prova/lib/python3.10/site-packages/_distutils_hack/__init__.py:33: UserWarning: Setuptools is replacing distutils.\n",
      "  warnings.warn(\"Setuptools is replacing distutils.\")\n",
      "\n"
     ]
    },
    {
     "name": "stdout",
     "output_type": "stream",
     "text": [
      "100%|█████████████████████████████████████████████████████████████████████████████████████████████████| 10/10 [00:21<00:00,  2.20s/trial, best loss: 7.138472522669373]\n"
     ]
    },
    {
     "data": {
      "text/plain": [
       "{'alpha': 0.2295290212848985, 'l1_ratio': 0.04778800292810059}"
      ]
     },
     "execution_count": 9,
     "metadata": {},
     "output_type": "execute_result"
    }
   ],
   "source": [
    "trials = Trials()\n",
    "\n",
    "best_result = fmin(\n",
    "    fn=partial(elastic_net_regression_training.objective_lr_elastic_net, \n",
    "        X_train=X_train_ohe,\n",
    "        X_test=X_test_ohe,\n",
    "        Y_train=Y_train,\n",
    "        Y_test=Y_test,\n",
    "        run_name=run_name),\n",
    "    space=elastic_net_parameters_search,\n",
    "    algo=tpe.suggest,\n",
    "    max_evals=max_evals,\n",
    "    trials=trials,\n",
    "    rstate=np.random.default_rng(seed)\n",
    ")\n",
    "\n",
    "best_result"
   ]
  },
  {
   "cell_type": "code",
   "execution_count": 10,
   "id": "f8ed7288",
   "metadata": {},
   "outputs": [],
   "source": [
    "from sklearn.linear_model import enet_path\n",
    "alphas_enet, coefs_enet, _ = enet_path(X_train_ohe, Y_train, n_alphas=30)"
   ]
  },
  {
   "cell_type": "code",
   "execution_count": 11,
   "id": "223ef20f",
   "metadata": {},
   "outputs": [
    {
     "data": {
      "text/plain": [
       "(-2.9906738609267287,\n",
       " 0.30932613907327144,\n",
       " -0.03713248051851537,\n",
       " 0.7797820908888228)"
      ]
     },
     "execution_count": 11,
     "metadata": {},
     "output_type": "execute_result"
    },
    {
     "data": {
      "image/png": "[encoded data removed]",
      "text/plain": [
       "<Figure size 640x480 with 1 Axes>"
      ]
     },
     "metadata": {},
     "output_type": "display_data"
    }
   ],
   "source": [
    "import matplotlib.pyplot as plt\n",
    "from itertools import cycle\n",
    "\n",
    "colors = cycle([\"b\", \"r\", \"g\", \"c\", \"k\"])\n",
    "neg_log_alphas_enet = -np.log10(alphas_enet)\n",
    "\n",
    "for coef_en, c in zip(coefs_enet, colors):\n",
    "    l1 = plt.plot(neg_log_alphas_enet, coef_en, c=c)\n",
    "    \n",
    "\n",
    "plt.xlabel(\"-Log(alpha)\")\n",
    "plt.ylabel(\"coefficients\")\n",
    "plt.title(\"Elastic Net Path\")\n",
    "plt.axis(\"tight\")"
   ]
  },
  {
   "cell_type": "code",
   "execution_count": null,
   "id": "07ac66a8",
   "metadata": {},
   "outputs": [],
   "source": []
  },
  {
   "cell_type": "code",
   "execution_count": null,
   "id": "e96758f4",
   "metadata": {},
   "outputs": [],
   "source": []
  }
 ],
 "metadata": {
  "kernelspec": {
   "display_name": "Python 3 (ipykernel)",
   "language": "python",
   "name": "python3"
  },
  "language_info": {
   "codemirror_mode": {
    "name": "ipython",
    "version": 3
   },
   "file_extension": ".py",
   "mimetype": "text/x-python",
   "name": "python",
   "nbconvert_exporter": "python",
   "pygments_lexer": "ipython3",
   "version": "3.10.9"
  }
 },
 "nbformat": 4,
 "nbformat_minor": 5
}
