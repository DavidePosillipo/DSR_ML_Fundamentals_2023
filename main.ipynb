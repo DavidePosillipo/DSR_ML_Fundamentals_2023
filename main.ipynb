{
 "cells": [
  {
   "cell_type": "code",
   "execution_count": 1,
   "metadata": {},
   "outputs": [],
   "source": [
    "import mlflow\n",
    "import os\n",
    "from scripts.training_regression_models import Training\n",
    "from scripts.model_registry import ModelRegistry\n",
    "from scripts.scoring import Scoring\n",
    "from scripts.monitoring import Monitoring\n",
    "from scripts.config_regression import *"
   ]
  },
  {
   "cell_type": "markdown",
   "metadata": {},
   "source": [
    "## MLflow setup"
   ]
  },
  {
   "cell_type": "code",
   "execution_count": 3,
   "metadata": {},
   "outputs": [
    {
     "name": "stderr",
     "output_type": "stream",
     "text": [
      "2022/12/31 14:22:08 INFO mlflow.tracking.fluent: Experiment with name 'test' does not exist. Creating a new experiment.\n"
     ]
    }
   ],
   "source": [
    "exp_name = \"test\"\n",
    "\n",
    "if not os.path.exists(local_path_save):\n",
    "    os.makedirs(local_path_save)\n",
    "\n",
    "#save all metadata in a sqlite db. Artifacts will be saved on local folder ./mlflow    \n",
    "mlflow.set_tracking_uri(\"sqlite:///mlflow.db\")\n",
    "\n",
    "# set up MlFlow axperiment\n",
    "experiment_id = mlflow.set_experiment(exp_name)"
   ]
  },
  {
   "cell_type": "markdown",
   "metadata": {},
   "source": [
    "## Model training\n",
    "Train one or more ml models with fixed or grid-like parameters (define desired parameters in scripts/config.py file. Currently only random forest 'rf' and gradient boosting 'gb' are supported)\n",
    "\n",
    "All results will be tracked in the MLFlow UI (from a terminal positioned on the root run the command 'mlflow ui --backend-store-uri sqlite:///mlflow.db', then browse to http://127.0.0.1:5000/)"
   ]
  },
  {
   "cell_type": "code",
   "execution_count": 4,
   "metadata": {},
   "outputs": [
    {
     "name": "stdout",
     "output_type": "stream",
     "text": [
      "df shape (3576, 20)\n",
      "###################### training  lr model #########################\n",
      "rmse_train =  3.340266027366716 \n",
      " rmse_test 16291.005898020625 \n",
      " mae_train 2.3235100430914657 \n",
      " mae_test 513.3030565867936\n",
      "###################### training  gb model #########################\n",
      "  0%|                                                                            | 0/5 [00:00<?, ?trial/s, best loss=?]"
     ]
    },
    {
     "name": "stderr",
     "output_type": "stream",
     "text": [
      "/Users/davideposillipo/.pyenv/versions/3.10.9/envs/mlops/lib/python3.10/site-packages/_distutils_hack/__init__.py:33: UserWarning: Setuptools is replacing distutils.\n",
      "  warnings.warn(\"Setuptools is replacing distutils.\")\n"
     ]
    },
    {
     "name": "stdout",
     "output_type": "stream",
     "text": [
      "                                                                                                                       \n",
      " rmse_train = \n",
      "5.040272642618933                                                                                                      \n",
      "rmse_test                                                                                                              \n",
      "4.8022233511927155                                                                                                     \n",
      "                                                                                                                       \n",
      " rmse_train = \n",
      "4.938273994042314                                                                                                      \n",
      "rmse_test                                                                                                              \n",
      "4.766068821068128                                                                                                      \n",
      "                                                                                                                       \n",
      " rmse_train = \n",
      "4.608465363097284                                                                                                      \n",
      "rmse_test                                                                                                              \n",
      "4.430555283720094                                                                                                      \n",
      "                                                                                                                       \n",
      " rmse_train = \n",
      "5.003576190692791                                                                                                      \n",
      "rmse_test                                                                                                              \n",
      "4.818259521531302                                                                                                      \n",
      "                                                                                                                       \n",
      " rmse_train = \n",
      "4.811105416116507                                                                                                      \n",
      "rmse_test                                                                                                              \n",
      "4.595740677100895                                                                                                      \n",
      "100%|███████████████████████████████████████████████████| 5/5 [00:06<00:00,  1.25s/trial, best loss: 4.430555283720094]\n",
      "###################### training  rf model #########################\n",
      "rmse_train =                                                                                                           \n",
      "5.031955091873342                                                                                                      \n",
      "                                                                                                                       \n",
      " rmse_test\n",
      "4.687997774501628                                                                                                      \n",
      "rmse_train =                                                                                                           \n",
      "4.86159297964427                                                                                                       \n",
      "                                                                                                                       \n",
      " rmse_test\n",
      "4.544265942561309                                                                                                      \n",
      "rmse_train =                                                                                                           \n",
      "4.873160000823415                                                                                                      \n",
      "                                                                                                                       \n",
      " rmse_test\n",
      "4.559212809027804                                                                                                      \n",
      "rmse_train =                                                                                                           \n",
      "4.408765401413205                                                                                                      \n",
      "                                                                                                                       \n",
      " rmse_test\n",
      "4.144407582815977                                                                                                      \n",
      "rmse_train =                                                                                                           \n",
      "4.965553258115242                                                                                                      \n",
      "                                                                                                                       \n",
      " rmse_test\n",
      "4.615747983064779                                                                                                      \n",
      "100%|███████████████████████████████████████████████████| 5/5 [00:05<00:00,  1.01s/trial, best loss: 4.144407582815977]\n",
      "###################### training  xgb model #########################\n",
      "[0]\tvalidation_0-rmse:10.62335\tvalidation_1-rmse:10.36906                                                              \n",
      "[1]\tvalidation_0-rmse:9.93448\tvalidation_1-rmse:9.73521                                                                \n",
      "[2]\tvalidation_0-rmse:9.30319\tvalidation_1-rmse:9.17366                                                                \n",
      "[3]\tvalidation_0-rmse:8.72007\tvalidation_1-rmse:8.62700                                                                \n",
      "[4]\tvalidation_0-rmse:8.18686\tvalidation_1-rmse:8.11409                                                                \n",
      "                                                                                                                       \n",
      " rmse_train = \n",
      "8.186864870324108                                                                                                      \n",
      "rmse_test                                                                                                              \n",
      "8.114090940963392                                                                                                      \n",
      "[0]\tvalidation_0-rmse:10.23287\tvalidation_1-rmse:10.02967                                                              \n",
      "[1]\tvalidation_0-rmse:9.22933\tvalidation_1-rmse:9.12941                                                                \n",
      "[2]\tvalidation_0-rmse:8.34382\tvalidation_1-rmse:8.40229                                                                \n",
      "[3]\tvalidation_0-rmse:7.56892\tvalidation_1-rmse:7.76983                                                                \n",
      "[4]\tvalidation_0-rmse:6.88728\tvalidation_1-rmse:7.22336                                                                \n",
      "                                                                                                                       \n",
      " rmse_train = \n",
      "6.887282772323599                                                                                                      \n",
      "rmse_test                                                                                                              \n",
      "7.223355960670643                                                                                                      \n",
      "[0]\tvalidation_0-rmse:6.92613\tvalidation_1-rmse:7.03100                                                                \n",
      "[1]\tvalidation_0-rmse:4.65358\tvalidation_1-rmse:5.45838                                                                \n",
      "[2]\tvalidation_0-rmse:3.61029\tvalidation_1-rmse:4.78413                                                                \n",
      "[3]\tvalidation_0-rmse:3.15794\tvalidation_1-rmse:4.69823                                                                \n",
      "[4]\tvalidation_0-rmse:2.94863\tvalidation_1-rmse:4.66973                                                                \n"
     ]
    },
    {
     "name": "stdout",
     "output_type": "stream",
     "text": [
      "                                                                                                                       \n",
      " rmse_train = \n",
      "2.948631454439178                                                                                                      \n",
      "rmse_test                                                                                                              \n",
      "4.669732792790688                                                                                                      \n",
      "[0]\tvalidation_0-rmse:10.70285\tvalidation_1-rmse:10.46221                                                              \n",
      "[1]\tvalidation_0-rmse:10.08031\tvalidation_1-rmse:9.89532                                                               \n",
      "[2]\tvalidation_0-rmse:9.50023\tvalidation_1-rmse:9.41953                                                                \n",
      "[3]\tvalidation_0-rmse:8.96150\tvalidation_1-rmse:8.97089                                                                \n",
      "[4]\tvalidation_0-rmse:8.46229\tvalidation_1-rmse:8.54441                                                                \n",
      "                                                                                                                       \n",
      " rmse_train = \n",
      "8.462288275191744                                                                                                      \n",
      "rmse_test                                                                                                              \n",
      "8.544409858419778                                                                                                      \n",
      "[0]\tvalidation_0-rmse:8.76339\tvalidation_1-rmse:8.68549                                                                \n",
      "[1]\tvalidation_0-rmse:6.87301\tvalidation_1-rmse:7.16345                                                                \n",
      "[2]\tvalidation_0-rmse:5.53892\tvalidation_1-rmse:6.16004                                                                \n",
      "[3]\tvalidation_0-rmse:4.60588\tvalidation_1-rmse:5.54002                                                                \n",
      "[4]\tvalidation_0-rmse:3.98001\tvalidation_1-rmse:5.14497                                                                \n",
      "                                                                                                                       \n",
      " rmse_train = \n",
      "3.98001149463269                                                                                                       \n",
      "rmse_test                                                                                                              \n",
      "5.144965253294009                                                                                                      \n",
      "100%|███████████████████████████████████████████████████| 5/5 [00:06<00:00,  1.28s/trial, best loss: 4.669732792790688]\n"
     ]
    },
    {
     "data": {
      "text/plain": [
       "{'eta': 0.44838218635600224, 'max_depth': 1}"
      ]
     },
     "execution_count": 4,
     "metadata": {},
     "output_type": "execute_result"
    }
   ],
   "source": [
    "models = models\n",
    "train = Training(input_data_path_train, local_path_save, year_month_train)\n",
    "train.preprocess_and_train(models)"
   ]
  },
  {
   "cell_type": "markdown",
   "metadata": {},
   "source": [
    "## Model registry management\n",
    "Identify the best(*) run and store the relative model as 'Production' model. \n",
    "\n",
    "Archive former model from 'Production' to 'Archived'\n",
    "\n",
    "(*) model with lowest test error that doesn't overfit the data: (train -test)/train < of_treshold"
   ]
  },
  {
   "cell_type": "code",
   "execution_count": null,
   "metadata": {
    "scrolled": true
   },
   "outputs": [],
   "source": [
    "#Save best model in model registry as 'Production'\n",
    "model_reg = ModelRegistry(exp_name, year_month_train, model_name_pref)\n",
    "model_reg.register_best_run(of_treshold=0.1)\n",
    "\n",
    "#Archive previous model (from Production to Archived)\n",
    "model_reg.archive_models(year_month_monitor)"
   ]
  },
  {
   "cell_type": "markdown",
   "metadata": {},
   "source": [
    "## Scoring \n",
    "Score latest available data using the Production model identified above, save scored data"
   ]
  },
  {
   "cell_type": "code",
   "execution_count": null,
   "metadata": {},
   "outputs": [],
   "source": [
    "scoring = Scoring(year_month_train, model_name_pref, local_path_save)\n",
    "scoring.preprocess_and_predict(input_data_path_to_score, scored_data_path)"
   ]
  },
  {
   "cell_type": "markdown",
   "metadata": {},
   "source": [
    "## Monitoring\n",
    "Evaluate the performance of the previous month model (the archived one), comparing its prediction with the now available observed target"
   ]
  },
  {
   "cell_type": "code",
   "execution_count": null,
   "metadata": {},
   "outputs": [],
   "source": [
    "if year_month_train != '2022-01': #if it is the first passage to production we don't have anything to monitor\n",
    "    monitor = Monitoring(input_data_path_to_score, scored_data_path, model_name_pref, year_month_monitor, local_path_save)\n",
    "    monitor.monitor()"
   ]
  }
 ],
 "metadata": {
  "kernelspec": {
   "display_name": "Python 3 (ipykernel)",
   "language": "python",
   "name": "python3"
  },
  "language_info": {
   "codemirror_mode": {
    "name": "ipython",
    "version": 3
   },
   "file_extension": ".py",
   "mimetype": "text/x-python",
   "name": "python",
   "nbconvert_exporter": "python",
   "pygments_lexer": "ipython3",
   "version": "3.10.9"
  },
  "vscode": {
   "interpreter": {
    "hash": "71f1ede1e9f9ff897339610604c3491238c9271b25825f5e2a3eeea3a19051df"
   }
  }
 },
 "nbformat": 4,
 "nbformat_minor": 2
}
