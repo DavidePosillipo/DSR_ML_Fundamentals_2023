{
 "cells": [
  {
   "cell_type": "code",
   "execution_count": 1,
   "metadata": {},
   "outputs": [],
   "source": [
    "import mlflow\n",
    "import os\n",
    "from scripts.training_regression_models import Training\n",
    "from scripts.model_registry import ModelRegistry\n",
    "from scripts.scoring import Scoring\n",
    "from scripts.monitoring import Monitoring\n",
    "from scripts.config_regression import *"
   ]
  },
  {
   "cell_type": "markdown",
   "metadata": {},
   "source": [
    "## MLflow setup"
   ]
  },
  {
   "cell_type": "code",
   "execution_count": 2,
   "metadata": {},
   "outputs": [],
   "source": [
    "exp_name = \"test1\"\n",
    "\n",
    "if not os.path.exists(local_path_save):\n",
    "    os.makedirs(local_path_save)\n",
    "\n",
    "#save all metadata in a sqlite db. Artifacts will be saved on local folder ./mlflow    \n",
    "mlflow.set_tracking_uri(\"sqlite:///mlflow.db\")\n",
    "\n",
    "# set up MlFlow axperiment\n",
    "experiment_id = mlflow.set_experiment(exp_name)"
   ]
  },
  {
   "cell_type": "markdown",
   "metadata": {},
   "source": [
    "## Model training\n",
    "Train one or more ml models with fixed or grid-like parameters (define desired parameters in scripts/config.py file. Currently only random forest 'rf' and gradient boosting 'gb' are supported)\n",
    "\n",
    "All results will be tracked in the MLFlow UI (from a terminal positioned on the root run the command 'mlflow ui --backend-store-uri sqlite:///mlflow.db', then browse to http://127.0.0.1:5000/)"
   ]
  },
  {
   "cell_type": "code",
   "execution_count": 3,
   "metadata": {},
   "outputs": [
    {
     "name": "stderr",
     "output_type": "stream",
     "text": [
      "/Users/davideposillipo/Documents/Didattica.nosync/DSR_ML_Fundamentals_2023/scripts/preprocessing_regression_models.py:71: FutureWarning: Series.dt.weekofyear and Series.dt.week have been deprecated.  Please use Series.dt.isocalendar().week instead.\n",
      "  df['lpep_pickup_datetime_week'] = df['lpep_pickup_datetime'].dt.week\n",
      "/Users/davideposillipo/Documents/Didattica.nosync/DSR_ML_Fundamentals_2023/scripts/preprocessing_regression_models.py:71: FutureWarning: Series.dt.weekofyear and Series.dt.week have been deprecated.  Please use Series.dt.isocalendar().week instead.\n",
      "  df['lpep_pickup_datetime_week'] = df['lpep_pickup_datetime'].dt.week\n",
      "/Users/davideposillipo/Documents/Didattica.nosync/DSR_ML_Fundamentals_2023/scripts/preprocessing_regression_models.py:71: FutureWarning: Series.dt.weekofyear and Series.dt.week have been deprecated.  Please use Series.dt.isocalendar().week instead.\n",
      "  df['lpep_pickup_datetime_week'] = df['lpep_pickup_datetime'].dt.week\n"
     ]
    },
    {
     "name": "stdout",
     "output_type": "stream",
     "text": [
      "###################### training  lr model #########################\n",
      "rmse_train =  4.220832331011555 \n",
      " rmse_test 4.467011358550497 \n",
      " mae_train 2.8836415617868596 \n",
      " mae_test 3.0855543440720643\n",
      "###################### training  gb model #########################\n",
      "  0%|                                                                            | 0/5 [00:00<?, ?trial/s, best loss=?]"
     ]
    },
    {
     "name": "stderr",
     "output_type": "stream",
     "text": [
      "/Users/davideposillipo/.pyenv/versions/3.10.9/envs/mlops/lib/python3.10/site-packages/_distutils_hack/__init__.py:33: UserWarning: Setuptools is replacing distutils.\n",
      "  warnings.warn(\"Setuptools is replacing distutils.\")\n"
     ]
    },
    {
     "name": "stdout",
     "output_type": "stream",
     "text": [
      "                                                                                                                       \n",
      " rmse_train = \n",
      "5.728637420057362                                                                                                      \n",
      "rmse_test                                                                                                              \n",
      "5.430789491239182                                                                                                      \n",
      "                                                                                                                       \n",
      " rmse_train = \n",
      "5.700972672397149                                                                                                      \n",
      "rmse_test                                                                                                              \n",
      "5.417670292541586                                                                                                      \n",
      "                                                                                                                       \n",
      " rmse_train = \n",
      "5.682921947163059                                                                                                      \n",
      "rmse_test                                                                                                              \n",
      "5.4004416666328225                                                                                                     \n",
      "                                                                                                                       \n",
      " rmse_train = \n",
      "5.70739530552543                                                                                                       \n",
      "rmse_test                                                                                                              \n",
      "5.420907485237764                                                                                                      \n",
      "                                                                                                                       \n",
      " rmse_train = \n",
      "5.706470656753851                                                                                                      \n",
      "rmse_test                                                                                                              \n",
      "5.413427697688819                                                                                                      \n",
      "100%|██████████████████████████████████████████████████| 5/5 [00:06<00:00,  1.27s/trial, best loss: 5.4004416666328225]\n",
      "###################### training  rf model #########################\n",
      "rmse_train =                                                                                                           \n",
      "5.753048616900683                                                                                                      \n",
      "                                                                                                                       \n",
      " rmse_test\n",
      "5.47391447434342                                                                                                       \n",
      "rmse_train =                                                                                                           \n",
      "5.71577556761363                                                                                                       \n",
      "                                                                                                                       \n",
      " rmse_test\n",
      "5.46866134414804                                                                                                       \n",
      "rmse_train =                                                                                                           \n",
      "5.761439679765883                                                                                                      \n",
      "                                                                                                                       \n",
      " rmse_test\n",
      "5.473704046612993                                                                                                      \n",
      "rmse_train =                                                                                                           \n",
      "5.7210078468644125                                                                                                     \n",
      "                                                                                                                       \n",
      " rmse_test\n",
      "5.453134634329728                                                                                                      \n",
      "rmse_train =                                                                                                           \n",
      "5.730617982075662                                                                                                      \n",
      "                                                                                                                       \n",
      " rmse_test\n",
      "5.451828763097089                                                                                                      \n",
      "100%|███████████████████████████████████████████████████| 5/5 [00:05<00:00,  1.02s/trial, best loss: 5.451828763097089]\n",
      "###################### training  xgb model #########################\n",
      "[0]\tvalidation_0-rmse:10.66203\tvalidation_1-rmse:10.39190                                                              \n",
      "[1]\tvalidation_0-rmse:10.01274\tvalidation_1-rmse:9.76879                                                               \n",
      "[2]\tvalidation_0-rmse:9.41889\tvalidation_1-rmse:9.22249                                                                \n",
      "[3]\tvalidation_0-rmse:8.87667\tvalidation_1-rmse:8.73690                                                                \n",
      "[4]\tvalidation_0-rmse:8.38182\tvalidation_1-rmse:8.30927                                                                \n",
      "                                                                                                                       \n",
      " rmse_train = \n",
      "8.381823215719367                                                                                                      \n",
      "rmse_test                                                                                                              \n",
      "8.30927200321301                                                                                                       \n",
      "[0]\tvalidation_0-rmse:10.29616\tvalidation_1-rmse:10.05842                                                              \n",
      "[1]\tvalidation_0-rmse:9.35723\tvalidation_1-rmse:9.18070                                                                \n",
      "[2]\tvalidation_0-rmse:8.53830\tvalidation_1-rmse:8.47205                                                                \n",
      "[3]\tvalidation_0-rmse:7.82901\tvalidation_1-rmse:7.90182                                                                \n",
      "[4]\tvalidation_0-rmse:7.21441\tvalidation_1-rmse:7.44595                                                                \n",
      "                                                                                                                       \n",
      " rmse_train = \n",
      "7.214412819317882                                                                                                      \n",
      "rmse_test                                                                                                              \n",
      "7.445946429161674                                                                                                      \n",
      "[0]\tvalidation_0-rmse:7.23407\tvalidation_1-rmse:7.49741                                                                \n",
      "[1]\tvalidation_0-rmse:5.27526\tvalidation_1-rmse:6.43433                                                                \n",
      "[2]\tvalidation_0-rmse:4.42326\tvalidation_1-rmse:6.42213                                                                \n",
      "[3]\tvalidation_0-rmse:4.07106\tvalidation_1-rmse:6.68535                                                                \n",
      "[4]\tvalidation_0-rmse:3.84974\tvalidation_1-rmse:6.88213                                                                \n"
     ]
    },
    {
     "name": "stdout",
     "output_type": "stream",
     "text": [
      "                                                                                                                       \n",
      " rmse_train = \n",
      "4.423264582539377                                                                                                      \n",
      "rmse_test                                                                                                              \n",
      "6.422131659177675                                                                                                      \n",
      "[0]\tvalidation_0-rmse:10.73914\tvalidation_1-rmse:10.47410                                                              \n",
      "[1]\tvalidation_0-rmse:10.15384\tvalidation_1-rmse:9.91189                                                               \n",
      "[2]\tvalidation_0-rmse:9.61201\tvalidation_1-rmse:9.41444                                                                \n",
      "[3]\tvalidation_0-rmse:9.11042\tvalidation_1-rmse:8.97390                                                                \n",
      "[4]\tvalidation_0-rmse:8.64712\tvalidation_1-rmse:8.57231                                                                \n",
      "                                                                                                                       \n",
      " rmse_train = \n",
      "8.647120166389685                                                                                                      \n",
      "rmse_test                                                                                                              \n",
      "8.572310311623637                                                                                                      \n",
      "[0]\tvalidation_0-rmse:8.92115\tvalidation_1-rmse:8.82561                                                                \n",
      "[1]\tvalidation_0-rmse:7.20165\tvalidation_1-rmse:7.43115                                                                \n",
      "[2]\tvalidation_0-rmse:6.01879\tvalidation_1-rmse:6.71646                                                                \n",
      "[3]\tvalidation_0-rmse:5.22642\tvalidation_1-rmse:6.40351                                                                \n",
      "[4]\tvalidation_0-rmse:4.71509\tvalidation_1-rmse:6.32235                                                                \n",
      "                                                                                                                       \n",
      " rmse_train = \n",
      "4.715094392937653                                                                                                      \n",
      "rmse_test                                                                                                              \n",
      "6.322349079944505                                                                                                      \n",
      "100%|███████████████████████████████████████████████████| 5/5 [00:06<00:00,  1.28s/trial, best loss: 6.322349079944505]\n"
     ]
    },
    {
     "data": {
      "text/plain": [
       "{'eta': 0.2582958975484436, 'max_depth': 1}"
      ]
     },
     "execution_count": 3,
     "metadata": {},
     "output_type": "execute_result"
    }
   ],
   "source": [
    "models = models\n",
    "train = Training(input_data_path_train, local_path_save, year_month_train)\n",
    "train.preprocess_and_train(models)"
   ]
  },
  {
   "cell_type": "markdown",
   "metadata": {},
   "source": [
    "## Model registry management\n",
    "Identify the best(*) run and store the relative model as 'Production' model. \n",
    "\n",
    "Archive former model from 'Production' to 'Archived'\n",
    "\n",
    "(*) model with lowest test error that doesn't overfit the data: (train -test)/train < of_treshold"
   ]
  },
  {
   "cell_type": "code",
   "execution_count": 4,
   "metadata": {
    "scrolled": true
   },
   "outputs": [
    {
     "name": "stderr",
     "output_type": "stream",
     "text": [
      "Successfully registered model 'NY2022-01'.\n",
      "2023/01/04 12:54:44 INFO mlflow.tracking._model_registry.client: Waiting up to 300 seconds for model version to finish creation.                     Model name: NY2022-01, version 1\n"
     ]
    },
    {
     "name": "stdout",
     "output_type": "stream",
     "text": [
      "previous models found: deleting them\n",
      "registering version 1 of model NY2022-01 into Production stage\n"
     ]
    },
    {
     "name": "stderr",
     "output_type": "stream",
     "text": [
      "Created version '1' of model 'NY2022-01'.\n"
     ]
    }
   ],
   "source": [
    "#Save best model in model registry as 'Production'\n",
    "model_reg = ModelRegistry(exp_name, year_month_train, model_name_pref)\n",
    "model_reg.register_best_run(of_treshold=0.1)\n",
    "\n",
    "#Archive previous model (from Production to Archived)\n",
    "model_reg.archive_models(year_month_monitor)"
   ]
  },
  {
   "cell_type": "markdown",
   "metadata": {},
   "source": [
    "## Scoring \n",
    "Score latest available data using the Production model identified above, save scored data"
   ]
  },
  {
   "cell_type": "code",
   "execution_count": 5,
   "metadata": {},
   "outputs": [
    {
     "name": "stderr",
     "output_type": "stream",
     "text": [
      "/Users/davideposillipo/Documents/Didattica.nosync/DSR_ML_Fundamentals_2023/scripts/preprocessing_regression_models.py:71: FutureWarning: Series.dt.weekofyear and Series.dt.week have been deprecated.  Please use Series.dt.isocalendar().week instead.\n",
      "  df['lpep_pickup_datetime_week'] = df['lpep_pickup_datetime'].dt.week\n",
      "/Users/davideposillipo/.pyenv/versions/3.10.9/envs/mlops/lib/python3.10/site-packages/sklearn/base.py:493: FutureWarning: The feature names should match those that were passed during fit. Starting version 1.2, an error will be raised.\n",
      "Feature names unseen at fit time:\n",
      "- lpep_pickup_datetime_day\n",
      "- lpep_pickup_datetime_dayofweek\n",
      "- lpep_pickup_datetime_hour\n",
      "- lpep_pickup_datetime_minute\n",
      "- lpep_pickup_datetime_week\n",
      "- ...\n",
      "Feature names seen at fit time, yet now missing:\n",
      "- trip_distance\n",
      "\n",
      "  warnings.warn(message, FutureWarning)\n"
     ]
    },
    {
     "ename": "ValueError",
     "evalue": "X has 215 features, but RandomForestRegressor is expecting 208 features as input.",
     "output_type": "error",
     "traceback": [
      "\u001b[0;31m---------------------------------------------------------------------------\u001b[0m",
      "\u001b[0;31mValueError\u001b[0m                                Traceback (most recent call last)",
      "\u001b[0;32m/var/folders/b1/3kx90hls3vb6pt3yflbcnlh40000gn/T/ipykernel_25380/1372322529.py\u001b[0m in \u001b[0;36m<cell line: 2>\u001b[0;34m()\u001b[0m\n\u001b[1;32m      1\u001b[0m \u001b[0mscoring\u001b[0m \u001b[0;34m=\u001b[0m \u001b[0mScoring\u001b[0m\u001b[0;34m(\u001b[0m\u001b[0myear_month_train\u001b[0m\u001b[0;34m,\u001b[0m \u001b[0mmodel_name_pref\u001b[0m\u001b[0;34m,\u001b[0m \u001b[0mlocal_path_save\u001b[0m\u001b[0;34m)\u001b[0m\u001b[0;34m\u001b[0m\u001b[0;34m\u001b[0m\u001b[0m\n\u001b[0;32m----> 2\u001b[0;31m \u001b[0mscoring\u001b[0m\u001b[0;34m.\u001b[0m\u001b[0mpreprocess_and_predict\u001b[0m\u001b[0;34m(\u001b[0m\u001b[0minput_data_path_to_score\u001b[0m\u001b[0;34m,\u001b[0m \u001b[0mscored_data_path\u001b[0m\u001b[0;34m)\u001b[0m\u001b[0;34m\u001b[0m\u001b[0;34m\u001b[0m\u001b[0m\n\u001b[0m",
      "\u001b[0;32m~/Documents/Didattica.nosync/DSR_ML_Fundamentals_2023/scripts/scoring.py\u001b[0m in \u001b[0;36mpreprocess_and_predict\u001b[0;34m(self, input_data_path, scored_data_path)\u001b[0m\n\u001b[1;32m     54\u001b[0m \u001b[0;34m\u001b[0m\u001b[0m\n\u001b[1;32m     55\u001b[0m         \u001b[0mmodel\u001b[0m \u001b[0;34m=\u001b[0m \u001b[0mself\u001b[0m\u001b[0;34m.\u001b[0m\u001b[0mget_production_model\u001b[0m\u001b[0;34m(\u001b[0m\u001b[0;34m)\u001b[0m\u001b[0;34m\u001b[0m\u001b[0;34m\u001b[0m\u001b[0m\n\u001b[0;32m---> 56\u001b[0;31m         \u001b[0mY_pred\u001b[0m \u001b[0;34m=\u001b[0m \u001b[0mmodel\u001b[0m\u001b[0;34m.\u001b[0m\u001b[0mpredict\u001b[0m\u001b[0;34m(\u001b[0m\u001b[0mX\u001b[0m\u001b[0;34m)\u001b[0m\u001b[0;34m\u001b[0m\u001b[0;34m\u001b[0m\u001b[0m\n\u001b[0m\u001b[1;32m     57\u001b[0m \u001b[0;34m\u001b[0m\u001b[0m\n\u001b[1;32m     58\u001b[0m         \u001b[0;31m#from sklearn.metrics import mean_squared_error\u001b[0m\u001b[0;34m\u001b[0m\u001b[0;34m\u001b[0m\u001b[0m\n",
      "\u001b[0;32m~/.pyenv/versions/3.10.9/envs/mlops/lib/python3.10/site-packages/mlflow/pyfunc/__init__.py\u001b[0m in \u001b[0;36mpredict\u001b[0;34m(self, data)\u001b[0m\n\u001b[1;32m    629\u001b[0m         \u001b[0;32mif\u001b[0m \u001b[0minput_schema\u001b[0m \u001b[0;32mis\u001b[0m \u001b[0;32mnot\u001b[0m \u001b[0;32mNone\u001b[0m\u001b[0;34m:\u001b[0m\u001b[0;34m\u001b[0m\u001b[0;34m\u001b[0m\u001b[0m\n\u001b[1;32m    630\u001b[0m             \u001b[0mdata\u001b[0m \u001b[0;34m=\u001b[0m \u001b[0m_enforce_schema\u001b[0m\u001b[0;34m(\u001b[0m\u001b[0mdata\u001b[0m\u001b[0;34m,\u001b[0m \u001b[0minput_schema\u001b[0m\u001b[0;34m)\u001b[0m\u001b[0;34m\u001b[0m\u001b[0;34m\u001b[0m\u001b[0m\n\u001b[0;32m--> 631\u001b[0;31m         \u001b[0;32mreturn\u001b[0m \u001b[0mself\u001b[0m\u001b[0;34m.\u001b[0m\u001b[0m_model_impl\u001b[0m\u001b[0;34m.\u001b[0m\u001b[0mpredict\u001b[0m\u001b[0;34m(\u001b[0m\u001b[0mdata\u001b[0m\u001b[0;34m)\u001b[0m\u001b[0;34m\u001b[0m\u001b[0;34m\u001b[0m\u001b[0m\n\u001b[0m\u001b[1;32m    632\u001b[0m \u001b[0;34m\u001b[0m\u001b[0m\n\u001b[1;32m    633\u001b[0m     \u001b[0;34m@\u001b[0m\u001b[0mproperty\u001b[0m\u001b[0;34m\u001b[0m\u001b[0;34m\u001b[0m\u001b[0m\n",
      "\u001b[0;32m~/.pyenv/versions/3.10.9/envs/mlops/lib/python3.10/site-packages/sklearn/ensemble/_forest.py\u001b[0m in \u001b[0;36mpredict\u001b[0;34m(self, X)\u001b[0m\n\u001b[1;32m    969\u001b[0m         \u001b[0mcheck_is_fitted\u001b[0m\u001b[0;34m(\u001b[0m\u001b[0mself\u001b[0m\u001b[0;34m)\u001b[0m\u001b[0;34m\u001b[0m\u001b[0;34m\u001b[0m\u001b[0m\n\u001b[1;32m    970\u001b[0m         \u001b[0;31m# Check data\u001b[0m\u001b[0;34m\u001b[0m\u001b[0;34m\u001b[0m\u001b[0m\n\u001b[0;32m--> 971\u001b[0;31m         \u001b[0mX\u001b[0m \u001b[0;34m=\u001b[0m \u001b[0mself\u001b[0m\u001b[0;34m.\u001b[0m\u001b[0m_validate_X_predict\u001b[0m\u001b[0;34m(\u001b[0m\u001b[0mX\u001b[0m\u001b[0;34m)\u001b[0m\u001b[0;34m\u001b[0m\u001b[0;34m\u001b[0m\u001b[0m\n\u001b[0m\u001b[1;32m    972\u001b[0m \u001b[0;34m\u001b[0m\u001b[0m\n\u001b[1;32m    973\u001b[0m         \u001b[0;31m# Assign chunk of trees to jobs\u001b[0m\u001b[0;34m\u001b[0m\u001b[0;34m\u001b[0m\u001b[0m\n",
      "\u001b[0;32m~/.pyenv/versions/3.10.9/envs/mlops/lib/python3.10/site-packages/sklearn/ensemble/_forest.py\u001b[0m in \u001b[0;36m_validate_X_predict\u001b[0;34m(self, X)\u001b[0m\n\u001b[1;32m    577\u001b[0m         Validate X whenever one tries to predict, apply, predict_proba.\"\"\"\n\u001b[1;32m    578\u001b[0m         \u001b[0mcheck_is_fitted\u001b[0m\u001b[0;34m(\u001b[0m\u001b[0mself\u001b[0m\u001b[0;34m)\u001b[0m\u001b[0;34m\u001b[0m\u001b[0;34m\u001b[0m\u001b[0m\n\u001b[0;32m--> 579\u001b[0;31m         \u001b[0mX\u001b[0m \u001b[0;34m=\u001b[0m \u001b[0mself\u001b[0m\u001b[0;34m.\u001b[0m\u001b[0m_validate_data\u001b[0m\u001b[0;34m(\u001b[0m\u001b[0mX\u001b[0m\u001b[0;34m,\u001b[0m \u001b[0mdtype\u001b[0m\u001b[0;34m=\u001b[0m\u001b[0mDTYPE\u001b[0m\u001b[0;34m,\u001b[0m \u001b[0maccept_sparse\u001b[0m\u001b[0;34m=\u001b[0m\u001b[0;34m\"csr\"\u001b[0m\u001b[0;34m,\u001b[0m \u001b[0mreset\u001b[0m\u001b[0;34m=\u001b[0m\u001b[0;32mFalse\u001b[0m\u001b[0;34m)\u001b[0m\u001b[0;34m\u001b[0m\u001b[0;34m\u001b[0m\u001b[0m\n\u001b[0m\u001b[1;32m    580\u001b[0m         \u001b[0;32mif\u001b[0m \u001b[0missparse\u001b[0m\u001b[0;34m(\u001b[0m\u001b[0mX\u001b[0m\u001b[0;34m)\u001b[0m \u001b[0;32mand\u001b[0m \u001b[0;34m(\u001b[0m\u001b[0mX\u001b[0m\u001b[0;34m.\u001b[0m\u001b[0mindices\u001b[0m\u001b[0;34m.\u001b[0m\u001b[0mdtype\u001b[0m \u001b[0;34m!=\u001b[0m \u001b[0mnp\u001b[0m\u001b[0;34m.\u001b[0m\u001b[0mintc\u001b[0m \u001b[0;32mor\u001b[0m \u001b[0mX\u001b[0m\u001b[0;34m.\u001b[0m\u001b[0mindptr\u001b[0m\u001b[0;34m.\u001b[0m\u001b[0mdtype\u001b[0m \u001b[0;34m!=\u001b[0m \u001b[0mnp\u001b[0m\u001b[0;34m.\u001b[0m\u001b[0mintc\u001b[0m\u001b[0;34m)\u001b[0m\u001b[0;34m:\u001b[0m\u001b[0;34m\u001b[0m\u001b[0;34m\u001b[0m\u001b[0m\n\u001b[1;32m    581\u001b[0m             \u001b[0;32mraise\u001b[0m \u001b[0mValueError\u001b[0m\u001b[0;34m(\u001b[0m\u001b[0;34m\"No support for np.int64 index based sparse matrices\"\u001b[0m\u001b[0;34m)\u001b[0m\u001b[0;34m\u001b[0m\u001b[0;34m\u001b[0m\u001b[0m\n",
      "\u001b[0;32m~/.pyenv/versions/3.10.9/envs/mlops/lib/python3.10/site-packages/sklearn/base.py\u001b[0m in \u001b[0;36m_validate_data\u001b[0;34m(self, X, y, reset, validate_separately, **check_params)\u001b[0m\n\u001b[1;32m    583\u001b[0m \u001b[0;34m\u001b[0m\u001b[0m\n\u001b[1;32m    584\u001b[0m         \u001b[0;32mif\u001b[0m \u001b[0;32mnot\u001b[0m \u001b[0mno_val_X\u001b[0m \u001b[0;32mand\u001b[0m \u001b[0mcheck_params\u001b[0m\u001b[0;34m.\u001b[0m\u001b[0mget\u001b[0m\u001b[0;34m(\u001b[0m\u001b[0;34m\"ensure_2d\"\u001b[0m\u001b[0;34m,\u001b[0m \u001b[0;32mTrue\u001b[0m\u001b[0;34m)\u001b[0m\u001b[0;34m:\u001b[0m\u001b[0;34m\u001b[0m\u001b[0;34m\u001b[0m\u001b[0m\n\u001b[0;32m--> 585\u001b[0;31m             \u001b[0mself\u001b[0m\u001b[0;34m.\u001b[0m\u001b[0m_check_n_features\u001b[0m\u001b[0;34m(\u001b[0m\u001b[0mX\u001b[0m\u001b[0;34m,\u001b[0m \u001b[0mreset\u001b[0m\u001b[0;34m=\u001b[0m\u001b[0mreset\u001b[0m\u001b[0;34m)\u001b[0m\u001b[0;34m\u001b[0m\u001b[0;34m\u001b[0m\u001b[0m\n\u001b[0m\u001b[1;32m    586\u001b[0m \u001b[0;34m\u001b[0m\u001b[0m\n\u001b[1;32m    587\u001b[0m         \u001b[0;32mreturn\u001b[0m \u001b[0mout\u001b[0m\u001b[0;34m\u001b[0m\u001b[0;34m\u001b[0m\u001b[0m\n",
      "\u001b[0;32m~/.pyenv/versions/3.10.9/envs/mlops/lib/python3.10/site-packages/sklearn/base.py\u001b[0m in \u001b[0;36m_check_n_features\u001b[0;34m(self, X, reset)\u001b[0m\n\u001b[1;32m    398\u001b[0m \u001b[0;34m\u001b[0m\u001b[0m\n\u001b[1;32m    399\u001b[0m         \u001b[0;32mif\u001b[0m \u001b[0mn_features\u001b[0m \u001b[0;34m!=\u001b[0m \u001b[0mself\u001b[0m\u001b[0;34m.\u001b[0m\u001b[0mn_features_in_\u001b[0m\u001b[0;34m:\u001b[0m\u001b[0;34m\u001b[0m\u001b[0;34m\u001b[0m\u001b[0m\n\u001b[0;32m--> 400\u001b[0;31m             raise ValueError(\n\u001b[0m\u001b[1;32m    401\u001b[0m                 \u001b[0;34mf\"X has {n_features} features, but {self.__class__.__name__} \"\u001b[0m\u001b[0;34m\u001b[0m\u001b[0;34m\u001b[0m\u001b[0m\n\u001b[1;32m    402\u001b[0m                 \u001b[0;34mf\"is expecting {self.n_features_in_} features as input.\"\u001b[0m\u001b[0;34m\u001b[0m\u001b[0;34m\u001b[0m\u001b[0m\n",
      "\u001b[0;31mValueError\u001b[0m: X has 215 features, but RandomForestRegressor is expecting 208 features as input."
     ]
    }
   ],
   "source": [
    "scoring = Scoring(year_month_train, model_name_pref, local_path_save)\n",
    "scoring.preprocess_and_predict(input_data_path_to_score, scored_data_path)"
   ]
  },
  {
   "cell_type": "markdown",
   "metadata": {},
   "source": [
    "## Monitoring\n",
    "Evaluate the performance of the previous month model (the archived one), comparing its prediction with the now available observed target"
   ]
  },
  {
   "cell_type": "code",
   "execution_count": null,
   "metadata": {},
   "outputs": [],
   "source": [
    "if year_month_train != '2022-01': #if it is the first passage to production we don't have anything to monitor\n",
    "    monitor = Monitoring(input_data_path_to_score, scored_data_path, model_name_pref, year_month_monitor, local_path_save)\n",
    "    monitor.monitor()"
   ]
  }
 ],
 "metadata": {
  "kernelspec": {
   "display_name": "Python 3 (ipykernel)",
   "language": "python",
   "name": "python3"
  },
  "language_info": {
   "codemirror_mode": {
    "name": "ipython",
    "version": 3
   },
   "file_extension": ".py",
   "mimetype": "text/x-python",
   "name": "python",
   "nbconvert_exporter": "python",
   "pygments_lexer": "ipython3",
   "version": "3.10.9"
  },
  "vscode": {
   "interpreter": {
    "hash": "71f1ede1e9f9ff897339610604c3491238c9271b25825f5e2a3eeea3a19051df"
   }
  }
 },
 "nbformat": 4,
 "nbformat_minor": 2
}
