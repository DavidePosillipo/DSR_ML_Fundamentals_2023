{
 "cells": [
  {
   "cell_type": "code",
   "execution_count": 1,
   "id": "36445b86",
   "metadata": {},
   "outputs": [],
   "source": [
    "import mlflow\n",
    "import os\n",
    "from sklearn.linear_model import LinearRegression\n",
    "from sklearn.model_selection import train_test_split\n",
    "from sklearn.metrics import mean_squared_error\n",
    "\n",
    "from pickle import dump\n",
    "\n",
    "from hyperopt import STATUS_OK\n",
    "\n",
    "from scripts.training_regression_models import Preprocess\n",
    "from scripts.model_registry import ModelRegistry\n",
    "from scripts.scoring import Scoring\n",
    "from scripts.monitoring import Monitoring\n",
    "from scripts.config_regression import *"
   ]
  },
  {
   "cell_type": "markdown",
   "id": "0b32d9f2",
   "metadata": {},
   "source": [
    "### MLFlow setting"
   ]
  },
  {
   "cell_type": "code",
   "execution_count": 12,
   "id": "ebde894d",
   "metadata": {},
   "outputs": [],
   "source": [
    "if not os.path.exists(local_path_save):\n",
    "    os.makedirs(local_path_save)\n",
    "\n",
    "#save all metadata in a sqlite db. Artifacts will be saved on local folder ./mlflow    \n",
    "#mlflow.set_backend_store_uri(\"sqlite:///mlflow.db\")\n",
    "\n",
    "mlflow.set_tracking_uri(\"file:///Users/davideposillipo/mlruns\")\n",
    "\n",
    "# set up MlFlow axperiment\n",
    "experiment_id = mlflow.set_experiment(exp_name)"
   ]
  },
  {
   "cell_type": "code",
   "execution_count": 13,
   "id": "569c1085",
   "metadata": {},
   "outputs": [],
   "source": [
    "year_month = year_month_train\n",
    "input_data_path = input_data_path_train"
   ]
  },
  {
   "cell_type": "code",
   "execution_count": 14,
   "id": "6a8dc721",
   "metadata": {
    "scrolled": true
   },
   "outputs": [],
   "source": [
    "def lr_evaluation(Y_train, Y_test, Y_pred_train, Y_pred_test):\n",
    "        ''' \n",
    "        Function for evaluation of Linear Regression goodness\n",
    "        '''\n",
    "        rmse_train = mean_squared_error(Y_train,Y_pred_train)**0.5\n",
    "        rmse_test = mean_squared_error(Y_test,Y_pred_test)**0.5\n",
    "    \n",
    "        return rmse_train, rmse_test"
   ]
  },
  {
   "cell_type": "code",
   "execution_count": 15,
   "id": "79a07ae9",
   "metadata": {},
   "outputs": [],
   "source": [
    "def objective_lr(X_train, X_test, Y_train, Y_test):\n",
    "        ''' \n",
    "        Fitting function for Linear Regression\n",
    "        '''\n",
    "        with mlflow.start_run():\n",
    "            mlflow.set_tag('model_type','LinearRegression')\n",
    "            mlflow.set_tag('year_month',year_month)\n",
    "            mlflow.log_param('model_type','LinearRegression')\n",
    "            mlflow.log_param('data',input_data_path)\n",
    "\n",
    "            lr = LinearRegression()\n",
    "\n",
    "            lr.fit(X_train, Y_train)\n",
    "\n",
    "            Y_pred_train = lr.predict(X_train)\n",
    "            Y_pred_test = lr.predict(X_test)\n",
    "            rmse_train, rmse_test = lr_evaluation(Y_train, Y_test, Y_pred_train, Y_pred_test)\n",
    "\n",
    "            mlflow.log_metrics({'rmse_train':rmse_train, 'rmse_test':rmse_test})\n",
    "            print('rmse_train = ', rmse_train, '\\n rmse_test', rmse_test)\n",
    "\n",
    "            mlflow.log_artifact(local_path = local_path_save+\"ohe.pkl\", artifact_path='preprocessing') \n",
    "            mlflow.sklearn.log_model(lr, artifact_path='model')\n",
    "    \n",
    "        #I'm minimizing test score. I could also minimize cross val score\n",
    "        #(above I would need to do cross_val_score(gb, X_train, Y_train, \n",
    "        #cv=10, scoring='neg_root_mean_squared_error', njobs=-1).mean() \n",
    "        #and loss = -neg_root_mean_squared_error )\n",
    "        return {'loss': rmse_test, 'status': STATUS_OK}"
   ]
  },
  {
   "cell_type": "code",
   "execution_count": 16,
   "id": "9e387976",
   "metadata": {},
   "outputs": [
    {
     "name": "stdout",
     "output_type": "stream",
     "text": [
      "df shape (3576, 20)\n"
     ]
    }
   ],
   "source": [
    "prepr = Preprocess(input_data_path_train)\n",
    "X, Y = prepr.read_dataframe(request_tgt=True)\n",
    "\n",
    "X_train, X_test, Y_train, Y_test = train_test_split(X,Y, test_size=0.3, random_state=seed)\n",
    "\n",
    "#preprocessing ohe\n",
    "shapes_pre = (X_train.shape[0], X_test.shape[0])\n",
    "X_train_ohe, ohe = prepr.preprocess(df=X_train, fit_ohe=True)\n",
    "X_test_ohe, _ = prepr.preprocess(df=X_test, fit_ohe=False, ohe=ohe)\n",
    "assert shapes_pre == (X_train.shape[0], X_test.shape[0])\n",
    "dump(ohe, open(local_path_save+'ohe.pkl', 'wb'))"
   ]
  },
  {
   "cell_type": "code",
   "execution_count": 17,
   "id": "6094dc2e",
   "metadata": {
    "scrolled": true
   },
   "outputs": [
    {
     "name": "stdout",
     "output_type": "stream",
     "text": [
      "rmse_train =  3.340266027366716 \n",
      " rmse_test 16291.005898020625\n"
     ]
    },
    {
     "data": {
      "text/plain": [
       "{'loss': 16291.005898020625, 'status': 'ok'}"
      ]
     },
     "execution_count": 17,
     "metadata": {},
     "output_type": "execute_result"
    }
   ],
   "source": [
    "objective_lr(X_train=X_train_ohe,\n",
    "             X_test=X_test_ohe,\n",
    "             Y_train=Y_train,\n",
    "             Y_test=Y_test)"
   ]
  },
  {
   "cell_type": "code",
   "execution_count": 18,
   "id": "d433c1fd",
   "metadata": {},
   "outputs": [
    {
     "name": "stdout",
     "output_type": "stream",
     "text": [
      "rmse_train =  3.340266027366716 \n",
      " rmse_test 3.340266027366716\n"
     ]
    },
    {
     "data": {
      "text/plain": [
       "{'loss': 3.340266027366716, 'status': 'ok'}"
      ]
     },
     "execution_count": 18,
     "metadata": {},
     "output_type": "execute_result"
    }
   ],
   "source": [
    "objective_lr(X_train=X_train_ohe,\n",
    "             X_test=X_train_ohe,\n",
    "             Y_train=Y_train,\n",
    "             Y_test=Y_train)"
   ]
  },
  {
   "cell_type": "code",
   "execution_count": 19,
   "id": "eca78f41",
   "metadata": {},
   "outputs": [
    {
     "data": {
      "text/html": [
       "<div>\n",
       "<style scoped>\n",
       "    .dataframe tbody tr th:only-of-type {\n",
       "        vertical-align: middle;\n",
       "    }\n",
       "\n",
       "    .dataframe tbody tr th {\n",
       "        vertical-align: top;\n",
       "    }\n",
       "\n",
       "    .dataframe thead th {\n",
       "        text-align: right;\n",
       "    }\n",
       "</style>\n",
       "<table border=\"1\" class=\"dataframe\">\n",
       "  <thead>\n",
       "    <tr style=\"text-align: right;\">\n",
       "      <th></th>\n",
       "      <th>VendorID</th>\n",
       "      <th>lpep_pickup_datetime</th>\n",
       "      <th>lpep_dropoff_datetime</th>\n",
       "      <th>store_and_fwd_flag</th>\n",
       "      <th>RatecodeID</th>\n",
       "      <th>PULocationID</th>\n",
       "      <th>DOLocationID</th>\n",
       "      <th>passenger_count</th>\n",
       "      <th>trip_distance</th>\n",
       "      <th>fare_amount</th>\n",
       "      <th>...</th>\n",
       "      <th>mta_tax</th>\n",
       "      <th>tip_amount</th>\n",
       "      <th>tolls_amount</th>\n",
       "      <th>ehail_fee</th>\n",
       "      <th>improvement_surcharge</th>\n",
       "      <th>total_amount</th>\n",
       "      <th>payment_type</th>\n",
       "      <th>trip_type</th>\n",
       "      <th>congestion_surcharge</th>\n",
       "      <th>PU_DO</th>\n",
       "    </tr>\n",
       "  </thead>\n",
       "  <tbody>\n",
       "    <tr>\n",
       "      <th>2339</th>\n",
       "      <td>2</td>\n",
       "      <td>2022-01-17 05:58:27</td>\n",
       "      <td>2022-01-17 06:07:59</td>\n",
       "      <td>N</td>\n",
       "      <td>1.0</td>\n",
       "      <td>74</td>\n",
       "      <td>262</td>\n",
       "      <td>1.0</td>\n",
       "      <td>2.95</td>\n",
       "      <td>10.5</td>\n",
       "      <td>...</td>\n",
       "      <td>0.5</td>\n",
       "      <td>0.00</td>\n",
       "      <td>0.0</td>\n",
       "      <td>None</td>\n",
       "      <td>0.3</td>\n",
       "      <td>14.55</td>\n",
       "      <td>2.0</td>\n",
       "      <td>1.0</td>\n",
       "      <td>2.75</td>\n",
       "      <td>74_262</td>\n",
       "    </tr>\n",
       "    <tr>\n",
       "      <th>3189</th>\n",
       "      <td>2</td>\n",
       "      <td>2022-01-18 20:34:52</td>\n",
       "      <td>2022-01-18 20:42:03</td>\n",
       "      <td>N</td>\n",
       "      <td>1.0</td>\n",
       "      <td>74</td>\n",
       "      <td>42</td>\n",
       "      <td>1.0</td>\n",
       "      <td>0.80</td>\n",
       "      <td>6.5</td>\n",
       "      <td>...</td>\n",
       "      <td>0.5</td>\n",
       "      <td>0.00</td>\n",
       "      <td>0.0</td>\n",
       "      <td>None</td>\n",
       "      <td>0.3</td>\n",
       "      <td>7.80</td>\n",
       "      <td>2.0</td>\n",
       "      <td>1.0</td>\n",
       "      <td>0.00</td>\n",
       "      <td>74_42</td>\n",
       "    </tr>\n",
       "    <tr>\n",
       "      <th>2135</th>\n",
       "      <td>2</td>\n",
       "      <td>2022-01-09 18:42:59</td>\n",
       "      <td>2022-01-09 18:50:17</td>\n",
       "      <td>N</td>\n",
       "      <td>1.0</td>\n",
       "      <td>75</td>\n",
       "      <td>263</td>\n",
       "      <td>1.0</td>\n",
       "      <td>0.95</td>\n",
       "      <td>6.5</td>\n",
       "      <td>...</td>\n",
       "      <td>0.5</td>\n",
       "      <td>0.73</td>\n",
       "      <td>0.0</td>\n",
       "      <td>None</td>\n",
       "      <td>0.3</td>\n",
       "      <td>8.03</td>\n",
       "      <td>1.0</td>\n",
       "      <td>1.0</td>\n",
       "      <td>0.00</td>\n",
       "      <td>75_263</td>\n",
       "    </tr>\n",
       "    <tr>\n",
       "      <th>779</th>\n",
       "      <td>2</td>\n",
       "      <td>2022-01-02 14:06:10</td>\n",
       "      <td>2022-01-02 14:14:16</td>\n",
       "      <td>N</td>\n",
       "      <td>1.0</td>\n",
       "      <td>74</td>\n",
       "      <td>263</td>\n",
       "      <td>1.0</td>\n",
       "      <td>1.74</td>\n",
       "      <td>8.0</td>\n",
       "      <td>...</td>\n",
       "      <td>0.5</td>\n",
       "      <td>1.00</td>\n",
       "      <td>0.0</td>\n",
       "      <td>None</td>\n",
       "      <td>0.3</td>\n",
       "      <td>12.55</td>\n",
       "      <td>1.0</td>\n",
       "      <td>1.0</td>\n",
       "      <td>2.75</td>\n",
       "      <td>74_263</td>\n",
       "    </tr>\n",
       "    <tr>\n",
       "      <th>2545</th>\n",
       "      <td>2</td>\n",
       "      <td>2022-01-14 22:35:56</td>\n",
       "      <td>2022-01-14 22:40:04</td>\n",
       "      <td>N</td>\n",
       "      <td>1.0</td>\n",
       "      <td>134</td>\n",
       "      <td>134</td>\n",
       "      <td>1.0</td>\n",
       "      <td>0.72</td>\n",
       "      <td>4.5</td>\n",
       "      <td>...</td>\n",
       "      <td>0.5</td>\n",
       "      <td>1.16</td>\n",
       "      <td>0.0</td>\n",
       "      <td>None</td>\n",
       "      <td>0.3</td>\n",
       "      <td>6.96</td>\n",
       "      <td>1.0</td>\n",
       "      <td>1.0</td>\n",
       "      <td>0.00</td>\n",
       "      <td>134_134</td>\n",
       "    </tr>\n",
       "  </tbody>\n",
       "</table>\n",
       "<p>5 rows × 21 columns</p>\n",
       "</div>"
      ],
      "text/plain": [
       "      VendorID lpep_pickup_datetime lpep_dropoff_datetime store_and_fwd_flag  \\\n",
       "2339         2  2022-01-17 05:58:27   2022-01-17 06:07:59                  N   \n",
       "3189         2  2022-01-18 20:34:52   2022-01-18 20:42:03                  N   \n",
       "2135         2  2022-01-09 18:42:59   2022-01-09 18:50:17                  N   \n",
       "779          2  2022-01-02 14:06:10   2022-01-02 14:14:16                  N   \n",
       "2545         2  2022-01-14 22:35:56   2022-01-14 22:40:04                  N   \n",
       "\n",
       "      RatecodeID PULocationID DOLocationID  passenger_count  trip_distance  \\\n",
       "2339         1.0           74          262              1.0           2.95   \n",
       "3189         1.0           74           42              1.0           0.80   \n",
       "2135         1.0           75          263              1.0           0.95   \n",
       "779          1.0           74          263              1.0           1.74   \n",
       "2545         1.0          134          134              1.0           0.72   \n",
       "\n",
       "      fare_amount  ...  mta_tax  tip_amount  tolls_amount  ehail_fee  \\\n",
       "2339         10.5  ...      0.5        0.00           0.0       None   \n",
       "3189          6.5  ...      0.5        0.00           0.0       None   \n",
       "2135          6.5  ...      0.5        0.73           0.0       None   \n",
       "779           8.0  ...      0.5        1.00           0.0       None   \n",
       "2545          4.5  ...      0.5        1.16           0.0       None   \n",
       "\n",
       "     improvement_surcharge  total_amount  payment_type  trip_type  \\\n",
       "2339                   0.3         14.55           2.0        1.0   \n",
       "3189                   0.3          7.80           2.0        1.0   \n",
       "2135                   0.3          8.03           1.0        1.0   \n",
       "779                    0.3         12.55           1.0        1.0   \n",
       "2545                   0.3          6.96           1.0        1.0   \n",
       "\n",
       "      congestion_surcharge    PU_DO  \n",
       "2339                  2.75   74_262  \n",
       "3189                  0.00    74_42  \n",
       "2135                  0.00   75_263  \n",
       "779                   2.75   74_263  \n",
       "2545                  0.00  134_134  \n",
       "\n",
       "[5 rows x 21 columns]"
      ]
     },
     "execution_count": 19,
     "metadata": {},
     "output_type": "execute_result"
    }
   ],
   "source": [
    "X_train.head()"
   ]
  },
  {
   "cell_type": "code",
   "execution_count": 10,
   "id": "d6d2d502",
   "metadata": {},
   "outputs": [
    {
     "data": {
      "text/plain": [
       "2339     9.533333\n",
       "3189     7.183333\n",
       "2135     7.300000\n",
       "779      8.100000\n",
       "2545     4.133333\n",
       "          ...    \n",
       "2154    11.266667\n",
       "3089    14.516667\n",
       "1766     6.566667\n",
       "1122    12.483333\n",
       "1346    15.116667\n",
       "Name: duration, Length: 2398, dtype: float64"
      ]
     },
     "execution_count": 10,
     "metadata": {},
     "output_type": "execute_result"
    }
   ],
   "source": [
    "Y_train"
   ]
  },
  {
   "cell_type": "code",
   "execution_count": null,
   "id": "d78f1c99",
   "metadata": {},
   "outputs": [],
   "source": []
  },
  {
   "cell_type": "code",
   "execution_count": 11,
   "id": "525a3059",
   "metadata": {},
   "outputs": [
    {
     "data": {
      "text/plain": [
       "'./data/input/green_tripdata_2022-01.parquet'"
      ]
     },
     "execution_count": 11,
     "metadata": {},
     "output_type": "execute_result"
    }
   ],
   "source": [
    "input_data_path_train"
   ]
  },
  {
   "cell_type": "code",
   "execution_count": null,
   "id": "68848815",
   "metadata": {},
   "outputs": [],
   "source": []
  }
 ],
 "metadata": {
  "kernelspec": {
   "display_name": "Python 3 (ipykernel)",
   "language": "python",
   "name": "python3"
  },
  "language_info": {
   "codemirror_mode": {
    "name": "ipython",
    "version": 3
   },
   "file_extension": ".py",
   "mimetype": "text/x-python",
   "name": "python",
   "nbconvert_exporter": "python",
   "pygments_lexer": "ipython3",
   "version": "3.10.9"
  }
 },
 "nbformat": 4,
 "nbformat_minor": 5
}
