{
 "cells": [
  {
   "cell_type": "code",
   "execution_count": 9,
   "id": "2f7a4975",
   "metadata": {},
   "outputs": [],
   "source": [
    "def ciao():\n",
    "    return \"ciao\""
   ]
  },
  {
   "cell_type": "code",
   "execution_count": 2,
   "id": "54c2f8e9",
   "metadata": {},
   "outputs": [],
   "source": [
    "def grazie():\n",
    "    return \"grazie\""
   ]
  },
  {
   "cell_type": "code",
   "execution_count": 10,
   "id": "76a401c0",
   "metadata": {},
   "outputs": [
    {
     "data": {
      "text/plain": [
       "'ciao'"
      ]
     },
     "execution_count": 10,
     "metadata": {},
     "output_type": "execute_result"
    }
   ],
   "source": [
    "ciao()"
   ]
  },
  {
   "cell_type": "code",
   "execution_count": 8,
   "id": "e6a9a3ae",
   "metadata": {},
   "outputs": [
    {
     "data": {
      "text/plain": [
       "'grazie'"
      ]
     },
     "execution_count": 8,
     "metadata": {},
     "output_type": "execute_result"
    }
   ],
   "source": [
    "grazie()"
   ]
  },
  {
   "cell_type": "code",
   "execution_count": null,
   "id": "29933cd3",
   "metadata": {},
   "outputs": [],
   "source": []
  }
 ],
 "metadata": {
  "kernelspec": {
   "display_name": "Python 3 (ipykernel)",
   "language": "python",
   "name": "python3"
  },
  "language_info": {
   "codemirror_mode": {
    "name": "ipython",
    "version": 3
   },
   "file_extension": ".py",
   "mimetype": "text/x-python",
   "name": "python",
   "nbconvert_exporter": "python",
   "pygments_lexer": "ipython3",
   "version": "3.10.9"
  }
 },
 "nbformat": 4,
 "nbformat_minor": 5
}
