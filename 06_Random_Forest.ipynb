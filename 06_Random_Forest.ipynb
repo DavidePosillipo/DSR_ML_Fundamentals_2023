{
 "cells": [
  {
   "cell_type": "code",
   "execution_count": 1,
   "id": "36445b86",
   "metadata": {},
   "outputs": [],
   "source": [
    "import mlflow\n",
    "import os\n",
    "import numpy as np\n",
    "import pandas as pd\n",
    "import matplotlib.pyplot as plt\n",
    "\n",
    "from sklearn.model_selection import train_test_split\n",
    "import seaborn as sns\n",
    "import matplotlib.pyplot as plt\n",
    "\n",
    "from hyperopt import fmin, tpe, Trials, STATUS_OK, hp, space_eval\n",
    "from functools import partial\n",
    "\n",
    "from pickle import dump\n",
    "\n",
    "from scripts.Preprocessing import Preprocessing\n",
    "from scripts.BinaryClassificationTraining import BinaryClassificationTraining\n",
    "\n",
    "from scripts.config import (year_month_train, \n",
    "    input_data_path_train,\n",
    "    seed)"
   ]
  },
  {
   "cell_type": "code",
   "execution_count": 2,
   "id": "36b31eef",
   "metadata": {},
   "outputs": [],
   "source": [
    "local_path_save = './local_artifacts_tmp/06_Random_Forest/'\n",
    "year_month = year_month_train\n",
    "input_data_path = input_data_path_train"
   ]
  },
  {
   "cell_type": "markdown",
   "id": "0b32d9f2",
   "metadata": {},
   "source": [
    "### MLFlow setting"
   ]
  },
  {
   "cell_type": "code",
   "execution_count": 3,
   "id": "ebde894d",
   "metadata": {},
   "outputs": [],
   "source": [
    "if not os.path.exists(local_path_save):\n",
    "    os.makedirs(local_path_save)\n",
    "\n",
    "#save all metadata in a sqlite db. Artifacts will be saved on local folder ./mlflow    \n",
    "mlflow.set_tracking_uri(\"sqlite:///mlflow.db\")\n",
    "\n",
    "# Name of the experiment\n",
    "exp_name = \"06 - Random Forest\"\n",
    "# set up MlFlow axperiment\n",
    "experiment_id = mlflow.set_experiment(exp_name)"
   ]
  },
  {
   "cell_type": "markdown",
   "id": "f28854fe",
   "metadata": {},
   "source": [
    "### Experiments"
   ]
  },
  {
   "cell_type": "code",
   "execution_count": 4,
   "id": "ec621add",
   "metadata": {},
   "outputs": [],
   "source": [
    "run_name = 'base'"
   ]
  },
  {
   "cell_type": "code",
   "execution_count": 5,
   "id": "364cb4ba",
   "metadata": {},
   "outputs": [],
   "source": [
    "random_forest_training = BinaryClassificationTraining(\n",
    "    input_data_path,\n",
    "    local_path_save,\n",
    "    year_month,\n",
    "    'random_forest')"
   ]
  },
  {
   "cell_type": "code",
   "execution_count": 6,
   "id": "60281d74",
   "metadata": {
    "scrolled": true
   },
   "outputs": [
    {
     "name": "stderr",
     "output_type": "stream",
     "text": [
      "/Users/davideposillipo/Documents/Didattica.nosync/DSR_ML_Fundamentals_2023/scripts/Preprocessing.py:161: FutureWarning: Series.dt.weekofyear and Series.dt.week have been deprecated.  Please use Series.dt.isocalendar().week instead.\n",
      "  df['lpep_pickup_datetime_week'] = df['lpep_pickup_datetime'].dt.week\n",
      "/Users/davideposillipo/Documents/Didattica.nosync/DSR_ML_Fundamentals_2023/scripts/Preprocessing.py:161: FutureWarning: Series.dt.weekofyear and Series.dt.week have been deprecated.  Please use Series.dt.isocalendar().week instead.\n",
      "  df['lpep_pickup_datetime_week'] = df['lpep_pickup_datetime'].dt.week\n"
     ]
    }
   ],
   "source": [
    "prepr = Preprocessing(input_data_path_train, task_type='classification')\n",
    "X, Y = prepr.read_dataframe(request_tgt=True)\n",
    "\n",
    "X_train, X_test, Y_train, Y_test = train_test_split(X,Y, test_size=0.3, random_state=seed)\n",
    "\n",
    "\n",
    "#preprocessing ohe\n",
    "shapes_pre = (X_train.shape[0], X_test.shape[0])\n",
    "X_train_ohe, ohe, scaler = prepr.preprocess_for_classification(df=X_train, fit_ohe=True, perform_scaling=True)\n",
    "X_test_ohe, _, _ = prepr.preprocess_for_classification(df=X_test, \n",
    "                                                    fit_ohe=False, \n",
    "                                                    ohe=ohe,\n",
    "                                                    perform_scaling=True,\n",
    "                                                    scaler=scaler)\n",
    "assert shapes_pre == (X_train.shape[0], X_test.shape[0])\n",
    "dump(ohe, open(local_path_save + run_name + '_ohe.pkl', 'wb'))\n",
    "dump(scaler, open(local_path_save + run_name + '_scaler.pkl', 'wb'))"
   ]
  },
  {
   "cell_type": "code",
   "execution_count": 7,
   "id": "80a8d945",
   "metadata": {},
   "outputs": [
    {
     "name": "stderr",
     "output_type": "stream",
     "text": [
      "/Users/davideposillipo/.pyenv/versions/3.10.9/envs/mlops/lib/python3.10/site-packages/sklearn/metrics/_classification.py:1318: UndefinedMetricWarning: Precision is ill-defined and being set to 0.0 due to no predicted samples. Use `zero_division` parameter to control this behavior.\n",
      "  _warn_prf(average, modifier, msg_start, len(result))\n",
      "/Users/davideposillipo/.pyenv/versions/3.10.9/envs/mlops/lib/python3.10/site-packages/sklearn/metrics/_classification.py:1318: UndefinedMetricWarning: Precision is ill-defined and being set to 0.0 due to no predicted samples. Use `zero_division` parameter to control this behavior.\n",
      "  _warn_prf(average, modifier, msg_start, len(result))\n"
     ]
    },
    {
     "data": {
      "text/plain": [
       "{'loss': 0.5, 'status': 'ok'}"
      ]
     },
     "execution_count": 7,
     "metadata": {},
     "output_type": "execute_result"
    }
   ],
   "source": [
    "# Calculating the baseline\n",
    "random_forest_training.calculate_classification_baseline(Y_train=Y_train, Y_test=Y_test, run_name=run_name)"
   ]
  },
  {
   "cell_type": "code",
   "execution_count": 8,
   "id": "865a9212",
   "metadata": {},
   "outputs": [],
   "source": [
    "# TODO complete the experiment using your implementation from BinaryClassificationTraining"
   ]
  },
  {
   "cell_type": "code",
   "execution_count": 9,
   "id": "5fcf2365",
   "metadata": {},
   "outputs": [
    {
     "data": {
      "text/plain": [
       "array([ 10, 110, 210, 310, 410, 510])"
      ]
     },
     "execution_count": 9,
     "metadata": {},
     "output_type": "execute_result"
    }
   ],
   "source": [
    "np.arange(10,600,100, dtype=int)"
   ]
  },
  {
   "cell_type": "code",
   "execution_count": 10,
   "id": "12ff2641",
   "metadata": {},
   "outputs": [],
   "source": [
    "max_evals = 6\n",
    "\n",
    "# Here we can decide which hyperparameters we want to tune\n",
    "rf_parameters_search = {\n",
    "    #'penalty': hp.choice('penalty', ['l1', 'l2', 'elasticnet', None]),\n",
    "    'n_estimators': hp.choice('x1', np.arange(10,600,100, dtype=int))\n",
    "}\n",
    "\n",
    "random_forest_training.set_hyperparameter_space(rf_parameters_search)"
   ]
  },
  {
   "cell_type": "code",
   "execution_count": 11,
   "id": "668afa6c",
   "metadata": {},
   "outputs": [
    {
     "name": "stdout",
     "output_type": "stream",
     "text": [
      "100%|██████████████████████████████████████████████████████████| 1/1 [00:01<00:00,  1.88s/trial, best loss: 0.6618323529516745]\n",
      "  0%|                                                                                    | 0/1 [00:00<?, ?trial/s, best loss=?]"
     ]
    },
    {
     "name": "stderr",
     "output_type": "stream",
     "text": [
      "/Users/davideposillipo/.pyenv/versions/3.10.9/envs/mlops/lib/python3.10/site-packages/_distutils_hack/__init__.py:33: UserWarning: Setuptools is replacing distutils.\n",
      "  warnings.warn(\"Setuptools is replacing distutils.\")\n",
      "\n"
     ]
    },
    {
     "name": "stdout",
     "output_type": "stream",
     "text": [
      "100%|██████████████████████████████████████████████████████████| 1/1 [00:02<00:00,  2.47s/trial, best loss: 0.7122591729338517]\n",
      "100%|███████████████████████████████████████████████████████████| 1/1 [00:03<00:00,  3.59s/trial, best loss: 0.716816267077856]\n",
      "100%|███████████████████████████████████████████████████████████| 1/1 [00:04<00:00,  4.70s/trial, best loss: 0.715088998785231]\n",
      "100%|██████████████████████████████████████████████████████████| 1/1 [00:05<00:00,  5.93s/trial, best loss: 0.7165670074206801]\n",
      "  0%|                                                                                    | 0/1 [00:06<?, ?trial/s, best loss=?]\n"
     ]
    },
    {
     "ename": "KeyboardInterrupt",
     "evalue": "",
     "output_type": "error",
     "traceback": [
      "\u001b[0;31m---------------------------------------------------------------------------\u001b[0m",
      "\u001b[0;31mKeyboardInterrupt\u001b[0m                         Traceback (most recent call last)",
      "\u001b[0;32m/var/folders/b1/3kx90hls3vb6pt3yflbcnlh40000gn/T/ipykernel_29132/821167364.py\u001b[0m in \u001b[0;36m<cell line: 1>\u001b[0;34m()\u001b[0m\n\u001b[1;32m     13\u001b[0m     \u001b[0mtrials\u001b[0m \u001b[0;34m=\u001b[0m \u001b[0mTrials\u001b[0m\u001b[0;34m(\u001b[0m\u001b[0;34m)\u001b[0m\u001b[0;34m\u001b[0m\u001b[0;34m\u001b[0m\u001b[0m\n\u001b[1;32m     14\u001b[0m \u001b[0;34m\u001b[0m\u001b[0m\n\u001b[0;32m---> 15\u001b[0;31m     best_result = fmin(\n\u001b[0m\u001b[1;32m     16\u001b[0m         fn=partial(random_forest_training.objective_random_forest, \n\u001b[1;32m     17\u001b[0m             \u001b[0mX_train\u001b[0m\u001b[0;34m=\u001b[0m\u001b[0mX_train_ohe\u001b[0m\u001b[0;34m,\u001b[0m\u001b[0;34m\u001b[0m\u001b[0;34m\u001b[0m\u001b[0m\n",
      "\u001b[0;32m~/.pyenv/versions/3.10.9/envs/mlops/lib/python3.10/site-packages/hyperopt/fmin.py\u001b[0m in \u001b[0;36mfmin\u001b[0;34m(fn, space, algo, max_evals, timeout, loss_threshold, trials, rstate, allow_trials_fmin, pass_expr_memo_ctrl, catch_eval_exceptions, verbose, return_argmin, points_to_evaluate, max_queue_len, show_progressbar, early_stop_fn, trials_save_file)\u001b[0m\n\u001b[1;32m    538\u001b[0m \u001b[0;34m\u001b[0m\u001b[0m\n\u001b[1;32m    539\u001b[0m     \u001b[0;32mif\u001b[0m \u001b[0mallow_trials_fmin\u001b[0m \u001b[0;32mand\u001b[0m \u001b[0mhasattr\u001b[0m\u001b[0;34m(\u001b[0m\u001b[0mtrials\u001b[0m\u001b[0;34m,\u001b[0m \u001b[0;34m\"fmin\"\u001b[0m\u001b[0;34m)\u001b[0m\u001b[0;34m:\u001b[0m\u001b[0;34m\u001b[0m\u001b[0;34m\u001b[0m\u001b[0m\n\u001b[0;32m--> 540\u001b[0;31m         return trials.fmin(\n\u001b[0m\u001b[1;32m    541\u001b[0m             \u001b[0mfn\u001b[0m\u001b[0;34m,\u001b[0m\u001b[0;34m\u001b[0m\u001b[0;34m\u001b[0m\u001b[0m\n\u001b[1;32m    542\u001b[0m             \u001b[0mspace\u001b[0m\u001b[0;34m,\u001b[0m\u001b[0;34m\u001b[0m\u001b[0;34m\u001b[0m\u001b[0m\n",
      "\u001b[0;32m~/.pyenv/versions/3.10.9/envs/mlops/lib/python3.10/site-packages/hyperopt/base.py\u001b[0m in \u001b[0;36mfmin\u001b[0;34m(self, fn, space, algo, max_evals, timeout, loss_threshold, max_queue_len, rstate, verbose, pass_expr_memo_ctrl, catch_eval_exceptions, return_argmin, show_progressbar, early_stop_fn, trials_save_file)\u001b[0m\n\u001b[1;32m    669\u001b[0m         \u001b[0;32mfrom\u001b[0m \u001b[0;34m.\u001b[0m\u001b[0mfmin\u001b[0m \u001b[0;32mimport\u001b[0m \u001b[0mfmin\u001b[0m\u001b[0;34m\u001b[0m\u001b[0;34m\u001b[0m\u001b[0m\n\u001b[1;32m    670\u001b[0m \u001b[0;34m\u001b[0m\u001b[0m\n\u001b[0;32m--> 671\u001b[0;31m         return fmin(\n\u001b[0m\u001b[1;32m    672\u001b[0m             \u001b[0mfn\u001b[0m\u001b[0;34m,\u001b[0m\u001b[0;34m\u001b[0m\u001b[0;34m\u001b[0m\u001b[0m\n\u001b[1;32m    673\u001b[0m             \u001b[0mspace\u001b[0m\u001b[0;34m,\u001b[0m\u001b[0;34m\u001b[0m\u001b[0;34m\u001b[0m\u001b[0m\n",
      "\u001b[0;32m~/.pyenv/versions/3.10.9/envs/mlops/lib/python3.10/site-packages/hyperopt/fmin.py\u001b[0m in \u001b[0;36mfmin\u001b[0;34m(fn, space, algo, max_evals, timeout, loss_threshold, trials, rstate, allow_trials_fmin, pass_expr_memo_ctrl, catch_eval_exceptions, verbose, return_argmin, points_to_evaluate, max_queue_len, show_progressbar, early_stop_fn, trials_save_file)\u001b[0m\n\u001b[1;32m    584\u001b[0m \u001b[0;34m\u001b[0m\u001b[0m\n\u001b[1;32m    585\u001b[0m     \u001b[0;31m# next line is where the fmin is actually executed\u001b[0m\u001b[0;34m\u001b[0m\u001b[0;34m\u001b[0m\u001b[0m\n\u001b[0;32m--> 586\u001b[0;31m     \u001b[0mrval\u001b[0m\u001b[0;34m.\u001b[0m\u001b[0mexhaust\u001b[0m\u001b[0;34m(\u001b[0m\u001b[0;34m)\u001b[0m\u001b[0;34m\u001b[0m\u001b[0;34m\u001b[0m\u001b[0m\n\u001b[0m\u001b[1;32m    587\u001b[0m \u001b[0;34m\u001b[0m\u001b[0m\n\u001b[1;32m    588\u001b[0m     \u001b[0;32mif\u001b[0m \u001b[0mreturn_argmin\u001b[0m\u001b[0;34m:\u001b[0m\u001b[0;34m\u001b[0m\u001b[0;34m\u001b[0m\u001b[0m\n",
      "\u001b[0;32m~/.pyenv/versions/3.10.9/envs/mlops/lib/python3.10/site-packages/hyperopt/fmin.py\u001b[0m in \u001b[0;36mexhaust\u001b[0;34m(self)\u001b[0m\n\u001b[1;32m    362\u001b[0m     \u001b[0;32mdef\u001b[0m \u001b[0mexhaust\u001b[0m\u001b[0;34m(\u001b[0m\u001b[0mself\u001b[0m\u001b[0;34m)\u001b[0m\u001b[0;34m:\u001b[0m\u001b[0;34m\u001b[0m\u001b[0;34m\u001b[0m\u001b[0m\n\u001b[1;32m    363\u001b[0m         \u001b[0mn_done\u001b[0m \u001b[0;34m=\u001b[0m \u001b[0mlen\u001b[0m\u001b[0;34m(\u001b[0m\u001b[0mself\u001b[0m\u001b[0;34m.\u001b[0m\u001b[0mtrials\u001b[0m\u001b[0;34m)\u001b[0m\u001b[0;34m\u001b[0m\u001b[0;34m\u001b[0m\u001b[0m\n\u001b[0;32m--> 364\u001b[0;31m         \u001b[0mself\u001b[0m\u001b[0;34m.\u001b[0m\u001b[0mrun\u001b[0m\u001b[0;34m(\u001b[0m\u001b[0mself\u001b[0m\u001b[0;34m.\u001b[0m\u001b[0mmax_evals\u001b[0m \u001b[0;34m-\u001b[0m \u001b[0mn_done\u001b[0m\u001b[0;34m,\u001b[0m \u001b[0mblock_until_done\u001b[0m\u001b[0;34m=\u001b[0m\u001b[0mself\u001b[0m\u001b[0;34m.\u001b[0m\u001b[0masynchronous\u001b[0m\u001b[0;34m)\u001b[0m\u001b[0;34m\u001b[0m\u001b[0;34m\u001b[0m\u001b[0m\n\u001b[0m\u001b[1;32m    365\u001b[0m         \u001b[0mself\u001b[0m\u001b[0;34m.\u001b[0m\u001b[0mtrials\u001b[0m\u001b[0;34m.\u001b[0m\u001b[0mrefresh\u001b[0m\u001b[0;34m(\u001b[0m\u001b[0;34m)\u001b[0m\u001b[0;34m\u001b[0m\u001b[0;34m\u001b[0m\u001b[0m\n\u001b[1;32m    366\u001b[0m         \u001b[0;32mreturn\u001b[0m \u001b[0mself\u001b[0m\u001b[0;34m\u001b[0m\u001b[0;34m\u001b[0m\u001b[0m\n",
      "\u001b[0;32m~/.pyenv/versions/3.10.9/envs/mlops/lib/python3.10/site-packages/hyperopt/fmin.py\u001b[0m in \u001b[0;36mrun\u001b[0;34m(self, N, block_until_done)\u001b[0m\n\u001b[1;32m    298\u001b[0m                 \u001b[0;32melse\u001b[0m\u001b[0;34m:\u001b[0m\u001b[0;34m\u001b[0m\u001b[0;34m\u001b[0m\u001b[0m\n\u001b[1;32m    299\u001b[0m                     \u001b[0;31m# -- loop over trials and do the jobs directly\u001b[0m\u001b[0;34m\u001b[0m\u001b[0;34m\u001b[0m\u001b[0m\n\u001b[0;32m--> 300\u001b[0;31m                     \u001b[0mself\u001b[0m\u001b[0;34m.\u001b[0m\u001b[0mserial_evaluate\u001b[0m\u001b[0;34m(\u001b[0m\u001b[0;34m)\u001b[0m\u001b[0;34m\u001b[0m\u001b[0;34m\u001b[0m\u001b[0m\n\u001b[0m\u001b[1;32m    301\u001b[0m \u001b[0;34m\u001b[0m\u001b[0m\n\u001b[1;32m    302\u001b[0m                 \u001b[0mself\u001b[0m\u001b[0;34m.\u001b[0m\u001b[0mtrials\u001b[0m\u001b[0;34m.\u001b[0m\u001b[0mrefresh\u001b[0m\u001b[0;34m(\u001b[0m\u001b[0;34m)\u001b[0m\u001b[0;34m\u001b[0m\u001b[0;34m\u001b[0m\u001b[0m\n",
      "\u001b[0;32m~/.pyenv/versions/3.10.9/envs/mlops/lib/python3.10/site-packages/hyperopt/fmin.py\u001b[0m in \u001b[0;36mserial_evaluate\u001b[0;34m(self, N)\u001b[0m\n\u001b[1;32m    176\u001b[0m                 \u001b[0mctrl\u001b[0m \u001b[0;34m=\u001b[0m \u001b[0mbase\u001b[0m\u001b[0;34m.\u001b[0m\u001b[0mCtrl\u001b[0m\u001b[0;34m(\u001b[0m\u001b[0mself\u001b[0m\u001b[0;34m.\u001b[0m\u001b[0mtrials\u001b[0m\u001b[0;34m,\u001b[0m \u001b[0mcurrent_trial\u001b[0m\u001b[0;34m=\u001b[0m\u001b[0mtrial\u001b[0m\u001b[0;34m)\u001b[0m\u001b[0;34m\u001b[0m\u001b[0;34m\u001b[0m\u001b[0m\n\u001b[1;32m    177\u001b[0m                 \u001b[0;32mtry\u001b[0m\u001b[0;34m:\u001b[0m\u001b[0;34m\u001b[0m\u001b[0;34m\u001b[0m\u001b[0m\n\u001b[0;32m--> 178\u001b[0;31m                     \u001b[0mresult\u001b[0m \u001b[0;34m=\u001b[0m \u001b[0mself\u001b[0m\u001b[0;34m.\u001b[0m\u001b[0mdomain\u001b[0m\u001b[0;34m.\u001b[0m\u001b[0mevaluate\u001b[0m\u001b[0;34m(\u001b[0m\u001b[0mspec\u001b[0m\u001b[0;34m,\u001b[0m \u001b[0mctrl\u001b[0m\u001b[0;34m)\u001b[0m\u001b[0;34m\u001b[0m\u001b[0;34m\u001b[0m\u001b[0m\n\u001b[0m\u001b[1;32m    179\u001b[0m                 \u001b[0;32mexcept\u001b[0m \u001b[0mException\u001b[0m \u001b[0;32mas\u001b[0m \u001b[0me\u001b[0m\u001b[0;34m:\u001b[0m\u001b[0;34m\u001b[0m\u001b[0;34m\u001b[0m\u001b[0m\n\u001b[1;32m    180\u001b[0m                     \u001b[0mlogger\u001b[0m\u001b[0;34m.\u001b[0m\u001b[0merror\u001b[0m\u001b[0;34m(\u001b[0m\u001b[0;34m\"job exception: %s\"\u001b[0m \u001b[0;34m%\u001b[0m \u001b[0mstr\u001b[0m\u001b[0;34m(\u001b[0m\u001b[0me\u001b[0m\u001b[0;34m)\u001b[0m\u001b[0;34m)\u001b[0m\u001b[0;34m\u001b[0m\u001b[0;34m\u001b[0m\u001b[0m\n",
      "\u001b[0;32m~/.pyenv/versions/3.10.9/envs/mlops/lib/python3.10/site-packages/hyperopt/base.py\u001b[0m in \u001b[0;36mevaluate\u001b[0;34m(self, config, ctrl, attach_attachments)\u001b[0m\n\u001b[1;32m    890\u001b[0m                 \u001b[0mprint_node_on_error\u001b[0m\u001b[0;34m=\u001b[0m\u001b[0mself\u001b[0m\u001b[0;34m.\u001b[0m\u001b[0mrec_eval_print_node_on_error\u001b[0m\u001b[0;34m,\u001b[0m\u001b[0;34m\u001b[0m\u001b[0;34m\u001b[0m\u001b[0m\n\u001b[1;32m    891\u001b[0m             )\n\u001b[0;32m--> 892\u001b[0;31m             \u001b[0mrval\u001b[0m \u001b[0;34m=\u001b[0m \u001b[0mself\u001b[0m\u001b[0;34m.\u001b[0m\u001b[0mfn\u001b[0m\u001b[0;34m(\u001b[0m\u001b[0mpyll_rval\u001b[0m\u001b[0;34m)\u001b[0m\u001b[0;34m\u001b[0m\u001b[0;34m\u001b[0m\u001b[0m\n\u001b[0m\u001b[1;32m    893\u001b[0m \u001b[0;34m\u001b[0m\u001b[0m\n\u001b[1;32m    894\u001b[0m         \u001b[0;32mif\u001b[0m \u001b[0misinstance\u001b[0m\u001b[0;34m(\u001b[0m\u001b[0mrval\u001b[0m\u001b[0;34m,\u001b[0m \u001b[0;34m(\u001b[0m\u001b[0mfloat\u001b[0m\u001b[0;34m,\u001b[0m \u001b[0mint\u001b[0m\u001b[0;34m,\u001b[0m \u001b[0mnp\u001b[0m\u001b[0;34m.\u001b[0m\u001b[0mnumber\u001b[0m\u001b[0;34m)\u001b[0m\u001b[0;34m)\u001b[0m\u001b[0;34m:\u001b[0m\u001b[0;34m\u001b[0m\u001b[0;34m\u001b[0m\u001b[0m\n",
      "\u001b[0;32m~/Documents/Didattica.nosync/DSR_ML_Fundamentals_2023/scripts/BinaryClassificationTraining.py\u001b[0m in \u001b[0;36mobjective_random_forest\u001b[0;34m(self, params, X_train, X_test, Y_train, Y_test, run_name, threshold)\u001b[0m\n\u001b[1;32m    164\u001b[0m                 )\n\u001b[1;32m    165\u001b[0m \u001b[0;34m\u001b[0m\u001b[0m\n\u001b[0;32m--> 166\u001b[0;31m             \u001b[0mmlflow\u001b[0m\u001b[0;34m.\u001b[0m\u001b[0msklearn\u001b[0m\u001b[0;34m.\u001b[0m\u001b[0mlog_model\u001b[0m\u001b[0;34m(\u001b[0m\u001b[0mcl\u001b[0m\u001b[0;34m,\u001b[0m \u001b[0martifact_path\u001b[0m\u001b[0;34m=\u001b[0m\u001b[0;34m'model'\u001b[0m\u001b[0;34m)\u001b[0m\u001b[0;34m\u001b[0m\u001b[0;34m\u001b[0m\u001b[0m\n\u001b[0m\u001b[1;32m    167\u001b[0m \u001b[0;34m\u001b[0m\u001b[0m\n\u001b[1;32m    168\u001b[0m             \u001b[0;32mreturn\u001b[0m \u001b[0;34m{\u001b[0m\u001b[0;34m'loss'\u001b[0m\u001b[0;34m:\u001b[0m \u001b[0mcl_metrics\u001b[0m\u001b[0;34m[\u001b[0m\u001b[0;34m'roc_auc_test'\u001b[0m\u001b[0;34m]\u001b[0m\u001b[0;34m,\u001b[0m \u001b[0;34m'status'\u001b[0m\u001b[0;34m:\u001b[0m \u001b[0mSTATUS_OK\u001b[0m\u001b[0;34m}\u001b[0m\u001b[0;34m\u001b[0m\u001b[0;34m\u001b[0m\u001b[0m\n",
      "\u001b[0;32m~/.pyenv/versions/3.10.9/envs/mlops/lib/python3.10/site-packages/mlflow/sklearn/__init__.py\u001b[0m in \u001b[0;36mlog_model\u001b[0;34m(sk_model, artifact_path, conda_env, code_paths, serialization_format, registered_model_name, signature, input_example, await_registration_for, pip_requirements, extra_pip_requirements)\u001b[0m\n\u001b[1;32m    391\u001b[0m         \u001b[0mmlflow\u001b[0m\u001b[0;34m.\u001b[0m\u001b[0msklearn\u001b[0m\u001b[0;34m.\u001b[0m\u001b[0mlog_model\u001b[0m\u001b[0;34m(\u001b[0m\u001b[0msk_model\u001b[0m\u001b[0;34m,\u001b[0m \u001b[0;34m\"sk_models\"\u001b[0m\u001b[0;34m)\u001b[0m\u001b[0;34m\u001b[0m\u001b[0;34m\u001b[0m\u001b[0m\n\u001b[1;32m    392\u001b[0m     \"\"\"\n\u001b[0;32m--> 393\u001b[0;31m     return Model.log(\n\u001b[0m\u001b[1;32m    394\u001b[0m         \u001b[0martifact_path\u001b[0m\u001b[0;34m=\u001b[0m\u001b[0martifact_path\u001b[0m\u001b[0;34m,\u001b[0m\u001b[0;34m\u001b[0m\u001b[0;34m\u001b[0m\u001b[0m\n\u001b[1;32m    395\u001b[0m         \u001b[0mflavor\u001b[0m\u001b[0;34m=\u001b[0m\u001b[0mmlflow\u001b[0m\u001b[0;34m.\u001b[0m\u001b[0msklearn\u001b[0m\u001b[0;34m,\u001b[0m\u001b[0;34m\u001b[0m\u001b[0;34m\u001b[0m\u001b[0m\n",
      "\u001b[0;32m~/.pyenv/versions/3.10.9/envs/mlops/lib/python3.10/site-packages/mlflow/models/model.py\u001b[0m in \u001b[0;36mlog\u001b[0;34m(cls, artifact_path, flavor, registered_model_name, await_registration_for, **kwargs)\u001b[0m\n\u001b[1;32m    292\u001b[0m             \u001b[0mrun_id\u001b[0m \u001b[0;34m=\u001b[0m \u001b[0mmlflow\u001b[0m\u001b[0;34m.\u001b[0m\u001b[0mtracking\u001b[0m\u001b[0;34m.\u001b[0m\u001b[0mfluent\u001b[0m\u001b[0;34m.\u001b[0m\u001b[0m_get_or_start_run\u001b[0m\u001b[0;34m(\u001b[0m\u001b[0;34m)\u001b[0m\u001b[0;34m.\u001b[0m\u001b[0minfo\u001b[0m\u001b[0;34m.\u001b[0m\u001b[0mrun_id\u001b[0m\u001b[0;34m\u001b[0m\u001b[0;34m\u001b[0m\u001b[0m\n\u001b[1;32m    293\u001b[0m             \u001b[0mmlflow_model\u001b[0m \u001b[0;34m=\u001b[0m \u001b[0mcls\u001b[0m\u001b[0;34m(\u001b[0m\u001b[0martifact_path\u001b[0m\u001b[0;34m=\u001b[0m\u001b[0martifact_path\u001b[0m\u001b[0;34m,\u001b[0m \u001b[0mrun_id\u001b[0m\u001b[0;34m=\u001b[0m\u001b[0mrun_id\u001b[0m\u001b[0;34m)\u001b[0m\u001b[0;34m\u001b[0m\u001b[0;34m\u001b[0m\u001b[0m\n\u001b[0;32m--> 294\u001b[0;31m             \u001b[0mflavor\u001b[0m\u001b[0;34m.\u001b[0m\u001b[0msave_model\u001b[0m\u001b[0;34m(\u001b[0m\u001b[0mpath\u001b[0m\u001b[0;34m=\u001b[0m\u001b[0mlocal_path\u001b[0m\u001b[0;34m,\u001b[0m \u001b[0mmlflow_model\u001b[0m\u001b[0;34m=\u001b[0m\u001b[0mmlflow_model\u001b[0m\u001b[0;34m,\u001b[0m \u001b[0;34m**\u001b[0m\u001b[0mkwargs\u001b[0m\u001b[0;34m)\u001b[0m\u001b[0;34m\u001b[0m\u001b[0;34m\u001b[0m\u001b[0m\n\u001b[0m\u001b[1;32m    295\u001b[0m             \u001b[0mmlflow\u001b[0m\u001b[0;34m.\u001b[0m\u001b[0mtracking\u001b[0m\u001b[0;34m.\u001b[0m\u001b[0mfluent\u001b[0m\u001b[0;34m.\u001b[0m\u001b[0mlog_artifacts\u001b[0m\u001b[0;34m(\u001b[0m\u001b[0mlocal_path\u001b[0m\u001b[0;34m,\u001b[0m \u001b[0martifact_path\u001b[0m\u001b[0;34m)\u001b[0m\u001b[0;34m\u001b[0m\u001b[0;34m\u001b[0m\u001b[0m\n\u001b[1;32m    296\u001b[0m             \u001b[0;32mtry\u001b[0m\u001b[0;34m:\u001b[0m\u001b[0;34m\u001b[0m\u001b[0;34m\u001b[0m\u001b[0m\n",
      "\u001b[0;32m~/.pyenv/versions/3.10.9/envs/mlops/lib/python3.10/site-packages/mlflow/sklearn/__init__.py\u001b[0m in \u001b[0;36msave_model\u001b[0;34m(sk_model, path, conda_env, code_paths, mlflow_model, serialization_format, signature, input_example, pip_requirements, extra_pip_requirements)\u001b[0m\n\u001b[1;32m    278\u001b[0m             \u001b[0;31m# To ensure `_load_pyfunc` can successfully load the model during the dependency\u001b[0m\u001b[0;34m\u001b[0m\u001b[0;34m\u001b[0m\u001b[0m\n\u001b[1;32m    279\u001b[0m             \u001b[0;31m# inference, `mlflow_model.save` must be called beforehand to save an MLmodel file.\u001b[0m\u001b[0;34m\u001b[0m\u001b[0;34m\u001b[0m\u001b[0m\n\u001b[0;32m--> 280\u001b[0;31m             inferred_reqs = mlflow.models.infer_pip_requirements(\n\u001b[0m\u001b[1;32m    281\u001b[0m                 \u001b[0mmodel_data_path\u001b[0m\u001b[0;34m,\u001b[0m\u001b[0;34m\u001b[0m\u001b[0;34m\u001b[0m\u001b[0m\n\u001b[1;32m    282\u001b[0m                 \u001b[0mFLAVOR_NAME\u001b[0m\u001b[0;34m,\u001b[0m\u001b[0;34m\u001b[0m\u001b[0;34m\u001b[0m\u001b[0m\n",
      "\u001b[0;32m~/.pyenv/versions/3.10.9/envs/mlops/lib/python3.10/site-packages/mlflow/utils/environment.py\u001b[0m in \u001b[0;36minfer_pip_requirements\u001b[0;34m(model_uri, flavor, fallback)\u001b[0m\n\u001b[1;32m    376\u001b[0m     \"\"\"\n\u001b[1;32m    377\u001b[0m     \u001b[0;32mtry\u001b[0m\u001b[0;34m:\u001b[0m\u001b[0;34m\u001b[0m\u001b[0;34m\u001b[0m\u001b[0m\n\u001b[0;32m--> 378\u001b[0;31m         \u001b[0;32mreturn\u001b[0m \u001b[0m_infer_requirements\u001b[0m\u001b[0;34m(\u001b[0m\u001b[0mmodel_uri\u001b[0m\u001b[0;34m,\u001b[0m \u001b[0mflavor\u001b[0m\u001b[0;34m)\u001b[0m\u001b[0;34m\u001b[0m\u001b[0;34m\u001b[0m\u001b[0m\n\u001b[0m\u001b[1;32m    379\u001b[0m     \u001b[0;32mexcept\u001b[0m \u001b[0mException\u001b[0m\u001b[0;34m:\u001b[0m\u001b[0;34m\u001b[0m\u001b[0;34m\u001b[0m\u001b[0m\n\u001b[1;32m    380\u001b[0m         \u001b[0;32mif\u001b[0m \u001b[0mfallback\u001b[0m \u001b[0;32mis\u001b[0m \u001b[0;32mnot\u001b[0m \u001b[0;32mNone\u001b[0m\u001b[0;34m:\u001b[0m\u001b[0;34m\u001b[0m\u001b[0;34m\u001b[0m\u001b[0m\n",
      "\u001b[0;32m~/.pyenv/versions/3.10.9/envs/mlops/lib/python3.10/site-packages/mlflow/utils/requirements_utils.py\u001b[0m in \u001b[0;36m_infer_requirements\u001b[0;34m(model_uri, flavor)\u001b[0m\n\u001b[1;32m    343\u001b[0m         \u001b[0m_PYPI_PACKAGE_INDEX\u001b[0m \u001b[0;34m=\u001b[0m \u001b[0m_load_pypi_package_index\u001b[0m\u001b[0;34m(\u001b[0m\u001b[0;34m)\u001b[0m\u001b[0;34m\u001b[0m\u001b[0;34m\u001b[0m\u001b[0m\n\u001b[1;32m    344\u001b[0m \u001b[0;34m\u001b[0m\u001b[0m\n\u001b[0;32m--> 345\u001b[0;31m     \u001b[0mmodules\u001b[0m \u001b[0;34m=\u001b[0m \u001b[0m_capture_imported_modules\u001b[0m\u001b[0;34m(\u001b[0m\u001b[0mmodel_uri\u001b[0m\u001b[0;34m,\u001b[0m \u001b[0mflavor\u001b[0m\u001b[0;34m)\u001b[0m\u001b[0;34m\u001b[0m\u001b[0;34m\u001b[0m\u001b[0m\n\u001b[0m\u001b[1;32m    346\u001b[0m     \u001b[0mpackages\u001b[0m \u001b[0;34m=\u001b[0m \u001b[0m_flatten\u001b[0m\u001b[0;34m(\u001b[0m\u001b[0;34m[\u001b[0m\u001b[0m_MODULES_TO_PACKAGES\u001b[0m\u001b[0;34m.\u001b[0m\u001b[0mget\u001b[0m\u001b[0;34m(\u001b[0m\u001b[0mmodule\u001b[0m\u001b[0;34m,\u001b[0m \u001b[0;34m[\u001b[0m\u001b[0;34m]\u001b[0m\u001b[0;34m)\u001b[0m \u001b[0;32mfor\u001b[0m \u001b[0mmodule\u001b[0m \u001b[0;32min\u001b[0m \u001b[0mmodules\u001b[0m\u001b[0;34m]\u001b[0m\u001b[0;34m)\u001b[0m\u001b[0;34m\u001b[0m\u001b[0;34m\u001b[0m\u001b[0m\n\u001b[1;32m    347\u001b[0m     \u001b[0mpackages\u001b[0m \u001b[0;34m=\u001b[0m \u001b[0mmap\u001b[0m\u001b[0;34m(\u001b[0m\u001b[0m_normalize_package_name\u001b[0m\u001b[0;34m,\u001b[0m \u001b[0mpackages\u001b[0m\u001b[0;34m)\u001b[0m\u001b[0;34m\u001b[0m\u001b[0;34m\u001b[0m\u001b[0m\n",
      "\u001b[0;32m~/.pyenv/versions/3.10.9/envs/mlops/lib/python3.10/site-packages/mlflow/utils/requirements_utils.py\u001b[0m in \u001b[0;36m_capture_imported_modules\u001b[0;34m(model_uri, flavor)\u001b[0m\n\u001b[1;32m    264\u001b[0m     \u001b[0;32mwith\u001b[0m \u001b[0mtempfile\u001b[0m\u001b[0;34m.\u001b[0m\u001b[0mTemporaryDirectory\u001b[0m\u001b[0;34m(\u001b[0m\u001b[0;34m)\u001b[0m \u001b[0;32mas\u001b[0m \u001b[0mtmpdir\u001b[0m\u001b[0;34m:\u001b[0m\u001b[0;34m\u001b[0m\u001b[0;34m\u001b[0m\u001b[0m\n\u001b[1;32m    265\u001b[0m         \u001b[0moutput_file\u001b[0m \u001b[0;34m=\u001b[0m \u001b[0mos\u001b[0m\u001b[0;34m.\u001b[0m\u001b[0mpath\u001b[0m\u001b[0;34m.\u001b[0m\u001b[0mjoin\u001b[0m\u001b[0;34m(\u001b[0m\u001b[0mtmpdir\u001b[0m\u001b[0;34m,\u001b[0m \u001b[0;34m\"imported_modules.txt\"\u001b[0m\u001b[0;34m)\u001b[0m\u001b[0;34m\u001b[0m\u001b[0;34m\u001b[0m\u001b[0m\n\u001b[0;32m--> 266\u001b[0;31m         _run_command(\n\u001b[0m\u001b[1;32m    267\u001b[0m             [\n\u001b[1;32m    268\u001b[0m                 \u001b[0msys\u001b[0m\u001b[0;34m.\u001b[0m\u001b[0mexecutable\u001b[0m\u001b[0;34m,\u001b[0m\u001b[0;34m\u001b[0m\u001b[0;34m\u001b[0m\u001b[0m\n",
      "\u001b[0;32m~/.pyenv/versions/3.10.9/envs/mlops/lib/python3.10/site-packages/mlflow/utils/requirements_utils.py\u001b[0m in \u001b[0;36m_run_command\u001b[0;34m(cmd)\u001b[0m\n\u001b[1;32m    204\u001b[0m     \"\"\"\n\u001b[1;32m    205\u001b[0m     \u001b[0mproc\u001b[0m \u001b[0;34m=\u001b[0m \u001b[0msubprocess\u001b[0m\u001b[0;34m.\u001b[0m\u001b[0mPopen\u001b[0m\u001b[0;34m(\u001b[0m\u001b[0mcmd\u001b[0m\u001b[0;34m,\u001b[0m \u001b[0mstdout\u001b[0m\u001b[0;34m=\u001b[0m\u001b[0msubprocess\u001b[0m\u001b[0;34m.\u001b[0m\u001b[0mPIPE\u001b[0m\u001b[0;34m,\u001b[0m \u001b[0mstderr\u001b[0m\u001b[0;34m=\u001b[0m\u001b[0msubprocess\u001b[0m\u001b[0;34m.\u001b[0m\u001b[0mPIPE\u001b[0m\u001b[0;34m)\u001b[0m\u001b[0;34m\u001b[0m\u001b[0;34m\u001b[0m\u001b[0m\n\u001b[0;32m--> 206\u001b[0;31m     \u001b[0mstdout\u001b[0m\u001b[0;34m,\u001b[0m \u001b[0mstderr\u001b[0m \u001b[0;34m=\u001b[0m \u001b[0mproc\u001b[0m\u001b[0;34m.\u001b[0m\u001b[0mcommunicate\u001b[0m\u001b[0;34m(\u001b[0m\u001b[0;34m)\u001b[0m\u001b[0;34m\u001b[0m\u001b[0;34m\u001b[0m\u001b[0m\n\u001b[0m\u001b[1;32m    207\u001b[0m     \u001b[0mstdout\u001b[0m \u001b[0;34m=\u001b[0m \u001b[0mstdout\u001b[0m\u001b[0;34m.\u001b[0m\u001b[0mdecode\u001b[0m\u001b[0;34m(\u001b[0m\u001b[0;34m\"utf-8\"\u001b[0m\u001b[0;34m)\u001b[0m\u001b[0;34m\u001b[0m\u001b[0;34m\u001b[0m\u001b[0m\n\u001b[1;32m    208\u001b[0m     \u001b[0mstderr\u001b[0m \u001b[0;34m=\u001b[0m \u001b[0mstderr\u001b[0m\u001b[0;34m.\u001b[0m\u001b[0mdecode\u001b[0m\u001b[0;34m(\u001b[0m\u001b[0;34m\"utf-8\"\u001b[0m\u001b[0;34m)\u001b[0m\u001b[0;34m\u001b[0m\u001b[0;34m\u001b[0m\u001b[0m\n",
      "\u001b[0;32m~/.pyenv/versions/3.10.9/lib/python3.10/subprocess.py\u001b[0m in \u001b[0;36mcommunicate\u001b[0;34m(self, input, timeout)\u001b[0m\n\u001b[1;32m   1152\u001b[0m \u001b[0;34m\u001b[0m\u001b[0m\n\u001b[1;32m   1153\u001b[0m             \u001b[0;32mtry\u001b[0m\u001b[0;34m:\u001b[0m\u001b[0;34m\u001b[0m\u001b[0;34m\u001b[0m\u001b[0m\n\u001b[0;32m-> 1154\u001b[0;31m                 \u001b[0mstdout\u001b[0m\u001b[0;34m,\u001b[0m \u001b[0mstderr\u001b[0m \u001b[0;34m=\u001b[0m \u001b[0mself\u001b[0m\u001b[0;34m.\u001b[0m\u001b[0m_communicate\u001b[0m\u001b[0;34m(\u001b[0m\u001b[0minput\u001b[0m\u001b[0;34m,\u001b[0m \u001b[0mendtime\u001b[0m\u001b[0;34m,\u001b[0m \u001b[0mtimeout\u001b[0m\u001b[0;34m)\u001b[0m\u001b[0;34m\u001b[0m\u001b[0;34m\u001b[0m\u001b[0m\n\u001b[0m\u001b[1;32m   1155\u001b[0m             \u001b[0;32mexcept\u001b[0m \u001b[0mKeyboardInterrupt\u001b[0m\u001b[0;34m:\u001b[0m\u001b[0;34m\u001b[0m\u001b[0;34m\u001b[0m\u001b[0m\n\u001b[1;32m   1156\u001b[0m                 \u001b[0;31m# https://bugs.python.org/issue25942\u001b[0m\u001b[0;34m\u001b[0m\u001b[0;34m\u001b[0m\u001b[0m\n",
      "\u001b[0;32m~/.pyenv/versions/3.10.9/lib/python3.10/subprocess.py\u001b[0m in \u001b[0;36m_communicate\u001b[0;34m(self, input, endtime, orig_timeout)\u001b[0m\n\u001b[1;32m   2003\u001b[0m                             'failed to raise TimeoutExpired.')\n\u001b[1;32m   2004\u001b[0m \u001b[0;34m\u001b[0m\u001b[0m\n\u001b[0;32m-> 2005\u001b[0;31m                     \u001b[0mready\u001b[0m \u001b[0;34m=\u001b[0m \u001b[0mselector\u001b[0m\u001b[0;34m.\u001b[0m\u001b[0mselect\u001b[0m\u001b[0;34m(\u001b[0m\u001b[0mtimeout\u001b[0m\u001b[0;34m)\u001b[0m\u001b[0;34m\u001b[0m\u001b[0;34m\u001b[0m\u001b[0m\n\u001b[0m\u001b[1;32m   2006\u001b[0m                     \u001b[0mself\u001b[0m\u001b[0;34m.\u001b[0m\u001b[0m_check_timeout\u001b[0m\u001b[0;34m(\u001b[0m\u001b[0mendtime\u001b[0m\u001b[0;34m,\u001b[0m \u001b[0morig_timeout\u001b[0m\u001b[0;34m,\u001b[0m \u001b[0mstdout\u001b[0m\u001b[0;34m,\u001b[0m \u001b[0mstderr\u001b[0m\u001b[0;34m)\u001b[0m\u001b[0;34m\u001b[0m\u001b[0;34m\u001b[0m\u001b[0m\n\u001b[1;32m   2007\u001b[0m \u001b[0;34m\u001b[0m\u001b[0m\n",
      "\u001b[0;32m~/.pyenv/versions/3.10.9/lib/python3.10/selectors.py\u001b[0m in \u001b[0;36mselect\u001b[0;34m(self, timeout)\u001b[0m\n\u001b[1;32m    414\u001b[0m         \u001b[0mready\u001b[0m \u001b[0;34m=\u001b[0m \u001b[0;34m[\u001b[0m\u001b[0;34m]\u001b[0m\u001b[0;34m\u001b[0m\u001b[0;34m\u001b[0m\u001b[0m\n\u001b[1;32m    415\u001b[0m         \u001b[0;32mtry\u001b[0m\u001b[0;34m:\u001b[0m\u001b[0;34m\u001b[0m\u001b[0;34m\u001b[0m\u001b[0m\n\u001b[0;32m--> 416\u001b[0;31m             \u001b[0mfd_event_list\u001b[0m \u001b[0;34m=\u001b[0m \u001b[0mself\u001b[0m\u001b[0;34m.\u001b[0m\u001b[0m_selector\u001b[0m\u001b[0;34m.\u001b[0m\u001b[0mpoll\u001b[0m\u001b[0;34m(\u001b[0m\u001b[0mtimeout\u001b[0m\u001b[0;34m)\u001b[0m\u001b[0;34m\u001b[0m\u001b[0;34m\u001b[0m\u001b[0m\n\u001b[0m\u001b[1;32m    417\u001b[0m         \u001b[0;32mexcept\u001b[0m \u001b[0mInterruptedError\u001b[0m\u001b[0;34m:\u001b[0m\u001b[0;34m\u001b[0m\u001b[0;34m\u001b[0m\u001b[0m\n\u001b[1;32m    418\u001b[0m             \u001b[0;32mreturn\u001b[0m \u001b[0mready\u001b[0m\u001b[0;34m\u001b[0m\u001b[0;34m\u001b[0m\u001b[0m\n",
      "\u001b[0;31mKeyboardInterrupt\u001b[0m: "
     ]
    }
   ],
   "source": [
    "for B in np.arange(10,600,100, dtype=int):\n",
    "    \n",
    "    max_evals = 1\n",
    "                   \n",
    "    # Here we can decide which hyperparameters we want to tune\n",
    "    rf_parameters_search = {\n",
    "        'n_estimators': B,\n",
    "        'max_depth': 10\n",
    "    }\n",
    "\n",
    "    random_forest_training.set_hyperparameter_space(rf_parameters_search)\n",
    "                   \n",
    "    trials = Trials()\n",
    "\n",
    "    best_result = fmin(\n",
    "        fn=partial(random_forest_training.objective_random_forest, \n",
    "            X_train=X_train_ohe,\n",
    "            X_test=X_test_ohe,\n",
    "            Y_train=Y_train,\n",
    "            Y_test=Y_test,\n",
    "            run_name=run_name,\n",
    "            threshold=0.89),\n",
    "        space=random_forest_training.hp_space,\n",
    "        algo=tpe.suggest,\n",
    "        max_evals=max_evals,\n",
    "        trials=trials,\n",
    "        rstate=np.random.default_rng(seed)\n",
    "    )\n",
    "\n",
    "    best_result"
   ]
  },
  {
   "cell_type": "code",
   "execution_count": null,
   "id": "9b328101",
   "metadata": {},
   "outputs": [],
   "source": [
    "rg = np.arange(10,100,10, dtype=int)"
   ]
  },
  {
   "cell_type": "code",
   "execution_count": null,
   "id": "38988339",
   "metadata": {},
   "outputs": [],
   "source": [
    "run_name = 'base'\n",
    "rg = np.arange(10,100,10, dtype=int)\n",
    "\n",
    "for md in rg:\n",
    "    \n",
    "    max_evals = 1\n",
    "                   \n",
    "    # Here we can decide which hyperparameters we want to tune\n",
    "    rf_parameters_search = {\n",
    "        'n_estimators': 210,\n",
    "        'max_depth': md\n",
    "    }\n",
    "\n",
    "    random_forest_training.set_hyperparameter_space(rf_parameters_search)\n",
    "                   \n",
    "    trials = Trials()\n",
    "\n",
    "    best_result = fmin(\n",
    "        fn=partial(random_forest_training.objective_random_forest, \n",
    "            X_train=X_train_ohe,\n",
    "            X_test=X_test_ohe,\n",
    "            Y_train=Y_train,\n",
    "            Y_test=Y_test,\n",
    "            run_name=run_name,\n",
    "            threshold=0.89),\n",
    "        space=random_forest_training.hp_space,\n",
    "        algo=tpe.suggest,\n",
    "        max_evals=max_evals,\n",
    "        trials=trials,\n",
    "        rstate=np.random.default_rng(seed)\n",
    "    )\n",
    "\n",
    "    best_result"
   ]
  },
  {
   "cell_type": "code",
   "execution_count": 12,
   "id": "fca8ee28",
   "metadata": {},
   "outputs": [],
   "source": [
    "from sklearn.ensemble import RandomForestClassifier"
   ]
  },
  {
   "cell_type": "code",
   "execution_count": 13,
   "id": "60acd0c9",
   "metadata": {},
   "outputs": [],
   "source": [
    "rf = RandomForestClassifier(n_estimators=210, max_depth=30)"
   ]
  },
  {
   "cell_type": "code",
   "execution_count": 14,
   "id": "7e236a23",
   "metadata": {},
   "outputs": [
    {
     "data": {
      "text/plain": [
       "RandomForestClassifier(max_depth=30, n_estimators=210)"
      ]
     },
     "execution_count": 14,
     "metadata": {},
     "output_type": "execute_result"
    }
   ],
   "source": [
    "rf.fit(X_train_ohe,\n",
    "            Y_train)"
   ]
  },
  {
   "cell_type": "code",
   "execution_count": 15,
   "id": "0abb98c4",
   "metadata": {},
   "outputs": [],
   "source": [
    "Y_pred_train_prob = rf.predict_proba(X_train_ohe)\n",
    "Y_pred_test_prob = rf.predict_proba(X_test_ohe)"
   ]
  },
  {
   "cell_type": "code",
   "execution_count": 16,
   "id": "21bad034",
   "metadata": {
    "scrolled": true
   },
   "outputs": [
    {
     "data": {
      "text/html": [
       "<div>\n",
       "<style scoped>\n",
       "    .dataframe tbody tr th:only-of-type {\n",
       "        vertical-align: middle;\n",
       "    }\n",
       "\n",
       "    .dataframe tbody tr th {\n",
       "        vertical-align: top;\n",
       "    }\n",
       "\n",
       "    .dataframe thead th {\n",
       "        text-align: right;\n",
       "    }\n",
       "</style>\n",
       "<table border=\"1\" class=\"dataframe\">\n",
       "  <thead>\n",
       "    <tr style=\"text-align: right;\">\n",
       "      <th></th>\n",
       "      <th>passenger_count</th>\n",
       "      <th>trip_distance</th>\n",
       "      <th>fare_amount</th>\n",
       "      <th>extra</th>\n",
       "      <th>mta_tax</th>\n",
       "      <th>improvement_surcharge</th>\n",
       "      <th>tolls_amount</th>\n",
       "      <th>lpep_pickup_datetime_week</th>\n",
       "      <th>lpep_pickup_datetime_day</th>\n",
       "      <th>lpep_pickup_datetime_hour</th>\n",
       "      <th>...</th>\n",
       "      <th>PU_DO_97_97</th>\n",
       "      <th>store_and_fwd_flag_N</th>\n",
       "      <th>store_and_fwd_flag_Y</th>\n",
       "      <th>RatecodeID_1.0</th>\n",
       "      <th>RatecodeID_2.0</th>\n",
       "      <th>RatecodeID_3.0</th>\n",
       "      <th>RatecodeID_4.0</th>\n",
       "      <th>RatecodeID_5.0</th>\n",
       "      <th>trip_type_1.0</th>\n",
       "      <th>trip_type_2.0</th>\n",
       "    </tr>\n",
       "  </thead>\n",
       "  <tbody>\n",
       "    <tr>\n",
       "      <th>20502</th>\n",
       "      <td>-0.284099</td>\n",
       "      <td>0.547784</td>\n",
       "      <td>0.558253</td>\n",
       "      <td>0.730899</td>\n",
       "      <td>0.195794</td>\n",
       "      <td>0.050084</td>\n",
       "      <td>-0.108879</td>\n",
       "      <td>-0.054555</td>\n",
       "      <td>1.251474</td>\n",
       "      <td>0.618498</td>\n",
       "      <td>...</td>\n",
       "      <td>0.0</td>\n",
       "      <td>1.0</td>\n",
       "      <td>0.0</td>\n",
       "      <td>1.0</td>\n",
       "      <td>0.0</td>\n",
       "      <td>0.0</td>\n",
       "      <td>0.0</td>\n",
       "      <td>0.0</td>\n",
       "      <td>1.0</td>\n",
       "      <td>0.0</td>\n",
       "    </tr>\n",
       "    <tr>\n",
       "      <th>39305</th>\n",
       "      <td>-0.284099</td>\n",
       "      <td>-0.025228</td>\n",
       "      <td>-0.042358</td>\n",
       "      <td>0.730899</td>\n",
       "      <td>0.195794</td>\n",
       "      <td>0.050084</td>\n",
       "      <td>-0.108879</td>\n",
       "      <td>-0.261701</td>\n",
       "      <td>-0.488720</td>\n",
       "      <td>0.822487</td>\n",
       "      <td>...</td>\n",
       "      <td>0.0</td>\n",
       "      <td>1.0</td>\n",
       "      <td>0.0</td>\n",
       "      <td>1.0</td>\n",
       "      <td>0.0</td>\n",
       "      <td>0.0</td>\n",
       "      <td>0.0</td>\n",
       "      <td>0.0</td>\n",
       "      <td>1.0</td>\n",
       "      <td>0.0</td>\n",
       "    </tr>\n",
       "    <tr>\n",
       "      <th>32533</th>\n",
       "      <td>-0.284099</td>\n",
       "      <td>-0.333358</td>\n",
       "      <td>-0.342663</td>\n",
       "      <td>-0.600097</td>\n",
       "      <td>0.195794</td>\n",
       "      <td>0.050084</td>\n",
       "      <td>-0.108879</td>\n",
       "      <td>-0.261701</td>\n",
       "      <td>-0.256694</td>\n",
       "      <td>-1.013414</td>\n",
       "      <td>...</td>\n",
       "      <td>0.0</td>\n",
       "      <td>1.0</td>\n",
       "      <td>0.0</td>\n",
       "      <td>1.0</td>\n",
       "      <td>0.0</td>\n",
       "      <td>0.0</td>\n",
       "      <td>0.0</td>\n",
       "      <td>0.0</td>\n",
       "      <td>1.0</td>\n",
       "      <td>0.0</td>\n",
       "    </tr>\n",
       "    <tr>\n",
       "      <th>58</th>\n",
       "      <td>-0.284099</td>\n",
       "      <td>-1.192877</td>\n",
       "      <td>-0.417739</td>\n",
       "      <td>-0.600097</td>\n",
       "      <td>-5.107421</td>\n",
       "      <td>0.050084</td>\n",
       "      <td>-0.108879</td>\n",
       "      <td>-0.365274</td>\n",
       "      <td>-1.300811</td>\n",
       "      <td>-2.237348</td>\n",
       "      <td>...</td>\n",
       "      <td>0.0</td>\n",
       "      <td>1.0</td>\n",
       "      <td>0.0</td>\n",
       "      <td>0.0</td>\n",
       "      <td>0.0</td>\n",
       "      <td>0.0</td>\n",
       "      <td>0.0</td>\n",
       "      <td>1.0</td>\n",
       "      <td>0.0</td>\n",
       "      <td>1.0</td>\n",
       "    </tr>\n",
       "    <tr>\n",
       "      <th>22103</th>\n",
       "      <td>-0.284099</td>\n",
       "      <td>-0.468502</td>\n",
       "      <td>-0.342663</td>\n",
       "      <td>-0.600097</td>\n",
       "      <td>0.195794</td>\n",
       "      <td>0.050084</td>\n",
       "      <td>-0.108879</td>\n",
       "      <td>-0.054555</td>\n",
       "      <td>1.251474</td>\n",
       "      <td>-1.013414</td>\n",
       "      <td>...</td>\n",
       "      <td>0.0</td>\n",
       "      <td>1.0</td>\n",
       "      <td>0.0</td>\n",
       "      <td>1.0</td>\n",
       "      <td>0.0</td>\n",
       "      <td>0.0</td>\n",
       "      <td>0.0</td>\n",
       "      <td>0.0</td>\n",
       "      <td>1.0</td>\n",
       "      <td>0.0</td>\n",
       "    </tr>\n",
       "  </tbody>\n",
       "</table>\n",
       "<p>5 rows × 797 columns</p>\n",
       "</div>"
      ],
      "text/plain": [
       "       passenger_count  trip_distance  fare_amount     extra   mta_tax  \\\n",
       "20502        -0.284099       0.547784     0.558253  0.730899  0.195794   \n",
       "39305        -0.284099      -0.025228    -0.042358  0.730899  0.195794   \n",
       "32533        -0.284099      -0.333358    -0.342663 -0.600097  0.195794   \n",
       "58           -0.284099      -1.192877    -0.417739 -0.600097 -5.107421   \n",
       "22103        -0.284099      -0.468502    -0.342663 -0.600097  0.195794   \n",
       "\n",
       "       improvement_surcharge  tolls_amount  lpep_pickup_datetime_week  \\\n",
       "20502               0.050084     -0.108879                  -0.054555   \n",
       "39305               0.050084     -0.108879                  -0.261701   \n",
       "32533               0.050084     -0.108879                  -0.261701   \n",
       "58                  0.050084     -0.108879                  -0.365274   \n",
       "22103               0.050084     -0.108879                  -0.054555   \n",
       "\n",
       "       lpep_pickup_datetime_day  lpep_pickup_datetime_hour  ...  PU_DO_97_97  \\\n",
       "20502                  1.251474                   0.618498  ...          0.0   \n",
       "39305                 -0.488720                   0.822487  ...          0.0   \n",
       "32533                 -0.256694                  -1.013414  ...          0.0   \n",
       "58                    -1.300811                  -2.237348  ...          0.0   \n",
       "22103                  1.251474                  -1.013414  ...          0.0   \n",
       "\n",
       "       store_and_fwd_flag_N  store_and_fwd_flag_Y  RatecodeID_1.0  \\\n",
       "20502                   1.0                   0.0             1.0   \n",
       "39305                   1.0                   0.0             1.0   \n",
       "32533                   1.0                   0.0             1.0   \n",
       "58                      1.0                   0.0             0.0   \n",
       "22103                   1.0                   0.0             1.0   \n",
       "\n",
       "       RatecodeID_2.0  RatecodeID_3.0  RatecodeID_4.0  RatecodeID_5.0  \\\n",
       "20502             0.0             0.0             0.0             0.0   \n",
       "39305             0.0             0.0             0.0             0.0   \n",
       "32533             0.0             0.0             0.0             0.0   \n",
       "58                0.0             0.0             0.0             1.0   \n",
       "22103             0.0             0.0             0.0             0.0   \n",
       "\n",
       "       trip_type_1.0  trip_type_2.0  \n",
       "20502            1.0            0.0  \n",
       "39305            1.0            0.0  \n",
       "32533            1.0            0.0  \n",
       "58               0.0            1.0  \n",
       "22103            1.0            0.0  \n",
       "\n",
       "[5 rows x 797 columns]"
      ]
     },
     "execution_count": 16,
     "metadata": {},
     "output_type": "execute_result"
    }
   ],
   "source": [
    "X_train_ohe.head()"
   ]
  },
  {
   "cell_type": "code",
   "execution_count": 17,
   "id": "5af4087d",
   "metadata": {},
   "outputs": [],
   "source": [
    "powers = rf.feature_importances_"
   ]
  },
  {
   "cell_type": "code",
   "execution_count": 18,
   "id": "a6749e81",
   "metadata": {},
   "outputs": [],
   "source": [
    "dd = {label: importance for label, importance \n",
    " in zip(X_train_ohe.columns, powers)}"
   ]
  },
  {
   "cell_type": "code",
   "execution_count": 19,
   "id": "16e2f571",
   "metadata": {},
   "outputs": [
    {
     "data": {
      "text/plain": [
       "0.14675799255867994"
      ]
     },
     "execution_count": 19,
     "metadata": {},
     "output_type": "execute_result"
    }
   ],
   "source": [
    "dd['trip_distance']"
   ]
  },
  {
   "cell_type": "code",
   "execution_count": 20,
   "id": "0be292c0",
   "metadata": {},
   "outputs": [
    {
     "data": {
      "text/plain": [
       "True"
      ]
     },
     "execution_count": 20,
     "metadata": {},
     "output_type": "execute_result"
    }
   ],
   "source": [
    "dd['trip_distance'] == dd.get('trip_distance')"
   ]
  },
  {
   "cell_type": "code",
   "execution_count": 21,
   "id": "9e8f9063",
   "metadata": {},
   "outputs": [
    {
     "data": {
      "text/plain": [
       "array([[0.93433643, 0.06566357],\n",
       "       [0.92165421, 0.07834579],\n",
       "       [0.91177203, 0.08822797],\n",
       "       ...,\n",
       "       [0.92219963, 0.07780037],\n",
       "       [0.89397866, 0.10602134],\n",
       "       [0.91770289, 0.08229711]])"
      ]
     },
     "execution_count": 21,
     "metadata": {},
     "output_type": "execute_result"
    }
   ],
   "source": [
    "Y_pred_test_prob"
   ]
  },
  {
   "cell_type": "code",
   "execution_count": 22,
   "id": "423a1497",
   "metadata": {},
   "outputs": [],
   "source": [
    "threshold = 0.5"
   ]
  },
  {
   "cell_type": "code",
   "execution_count": 23,
   "id": "f3aa5e34",
   "metadata": {},
   "outputs": [],
   "source": [
    "Y_pred_train = [0 if x>=threshold else 1 for x in Y_pred_train_prob[:, 0]]\n",
    "Y_pred_test = [0 if x>=threshold else 1 for x in Y_pred_test_prob[:, 0]]"
   ]
  },
  {
   "cell_type": "code",
   "execution_count": 24,
   "id": "45642f28",
   "metadata": {},
   "outputs": [
    {
     "data": {
      "text/plain": [
       "0    8324\n",
       "1      69\n",
       "dtype: int64"
      ]
     },
     "execution_count": 24,
     "metadata": {},
     "output_type": "execute_result"
    }
   ],
   "source": [
    "pd.Series(Y_pred_test).value_counts()"
   ]
  },
  {
   "cell_type": "code",
   "execution_count": 25,
   "id": "fb64facb",
   "metadata": {},
   "outputs": [
    {
     "data": {
      "text/plain": [
       "0    7496\n",
       "1     897\n",
       "Name: tipped, dtype: int64"
      ]
     },
     "execution_count": 25,
     "metadata": {},
     "output_type": "execute_result"
    }
   ],
   "source": [
    "Y_test.value_counts()"
   ]
  },
  {
   "cell_type": "code",
   "execution_count": 26,
   "id": "d0171100",
   "metadata": {},
   "outputs": [],
   "source": [
    "fi = pd.DataFrame([pd.Series(rf.feature_importances_), pd.Series(rf.feature_names_in_)])"
   ]
  },
  {
   "cell_type": "code",
   "execution_count": 27,
   "id": "5ae15f47",
   "metadata": {},
   "outputs": [],
   "source": [
    "fi_t = fi.T"
   ]
  },
  {
   "cell_type": "code",
   "execution_count": 28,
   "id": "2f54ec03",
   "metadata": {},
   "outputs": [
    {
     "data": {
      "text/html": [
       "<div>\n",
       "<style scoped>\n",
       "    .dataframe tbody tr th:only-of-type {\n",
       "        vertical-align: middle;\n",
       "    }\n",
       "\n",
       "    .dataframe tbody tr th {\n",
       "        vertical-align: top;\n",
       "    }\n",
       "\n",
       "    .dataframe thead th {\n",
       "        text-align: right;\n",
       "    }\n",
       "</style>\n",
       "<table border=\"1\" class=\"dataframe\">\n",
       "  <thead>\n",
       "    <tr style=\"text-align: right;\">\n",
       "      <th></th>\n",
       "      <th>0</th>\n",
       "      <th>1</th>\n",
       "    </tr>\n",
       "  </thead>\n",
       "  <tbody>\n",
       "    <tr>\n",
       "      <th>0</th>\n",
       "      <td>0.017629</td>\n",
       "      <td>passenger_count</td>\n",
       "    </tr>\n",
       "    <tr>\n",
       "      <th>1</th>\n",
       "      <td>0.146758</td>\n",
       "      <td>trip_distance</td>\n",
       "    </tr>\n",
       "    <tr>\n",
       "      <th>2</th>\n",
       "      <td>0.103992</td>\n",
       "      <td>fare_amount</td>\n",
       "    </tr>\n",
       "    <tr>\n",
       "      <th>3</th>\n",
       "      <td>0.023254</td>\n",
       "      <td>extra</td>\n",
       "    </tr>\n",
       "    <tr>\n",
       "      <th>4</th>\n",
       "      <td>0.027362</td>\n",
       "      <td>mta_tax</td>\n",
       "    </tr>\n",
       "    <tr>\n",
       "      <th>...</th>\n",
       "      <td>...</td>\n",
       "      <td>...</td>\n",
       "    </tr>\n",
       "    <tr>\n",
       "      <th>792</th>\n",
       "      <td>0.000315</td>\n",
       "      <td>RatecodeID_3.0</td>\n",
       "    </tr>\n",
       "    <tr>\n",
       "      <th>793</th>\n",
       "      <td>0.000167</td>\n",
       "      <td>RatecodeID_4.0</td>\n",
       "    </tr>\n",
       "    <tr>\n",
       "      <th>794</th>\n",
       "      <td>0.015257</td>\n",
       "      <td>RatecodeID_5.0</td>\n",
       "    </tr>\n",
       "    <tr>\n",
       "      <th>795</th>\n",
       "      <td>0.017001</td>\n",
       "      <td>trip_type_1.0</td>\n",
       "    </tr>\n",
       "    <tr>\n",
       "      <th>796</th>\n",
       "      <td>0.019152</td>\n",
       "      <td>trip_type_2.0</td>\n",
       "    </tr>\n",
       "  </tbody>\n",
       "</table>\n",
       "<p>797 rows × 2 columns</p>\n",
       "</div>"
      ],
      "text/plain": [
       "            0                1\n",
       "0    0.017629  passenger_count\n",
       "1    0.146758    trip_distance\n",
       "2    0.103992      fare_amount\n",
       "3    0.023254            extra\n",
       "4    0.027362          mta_tax\n",
       "..        ...              ...\n",
       "792  0.000315   RatecodeID_3.0\n",
       "793  0.000167   RatecodeID_4.0\n",
       "794  0.015257   RatecodeID_5.0\n",
       "795  0.017001    trip_type_1.0\n",
       "796  0.019152    trip_type_2.0\n",
       "\n",
       "[797 rows x 2 columns]"
      ]
     },
     "execution_count": 28,
     "metadata": {},
     "output_type": "execute_result"
    }
   ],
   "source": [
    "fi_t"
   ]
  },
  {
   "cell_type": "code",
   "execution_count": 29,
   "id": "404c5f4e",
   "metadata": {},
   "outputs": [],
   "source": [
    "fi_t.rename(columns = {0:'importance', 1:'name'}, inplace=True)"
   ]
  },
  {
   "cell_type": "code",
   "execution_count": 30,
   "id": "fc7d8882",
   "metadata": {},
   "outputs": [
    {
     "data": {
      "text/html": [
       "<div>\n",
       "<style scoped>\n",
       "    .dataframe tbody tr th:only-of-type {\n",
       "        vertical-align: middle;\n",
       "    }\n",
       "\n",
       "    .dataframe tbody tr th {\n",
       "        vertical-align: top;\n",
       "    }\n",
       "\n",
       "    .dataframe thead th {\n",
       "        text-align: right;\n",
       "    }\n",
       "</style>\n",
       "<table border=\"1\" class=\"dataframe\">\n",
       "  <thead>\n",
       "    <tr style=\"text-align: right;\">\n",
       "      <th></th>\n",
       "      <th>importance</th>\n",
       "      <th>name</th>\n",
       "    </tr>\n",
       "  </thead>\n",
       "  <tbody>\n",
       "    <tr>\n",
       "      <th>1</th>\n",
       "      <td>0.146758</td>\n",
       "      <td>trip_distance</td>\n",
       "    </tr>\n",
       "    <tr>\n",
       "      <th>2</th>\n",
       "      <td>0.103992</td>\n",
       "      <td>fare_amount</td>\n",
       "    </tr>\n",
       "    <tr>\n",
       "      <th>10</th>\n",
       "      <td>0.081053</td>\n",
       "      <td>lpep_pickup_datetime_minute</td>\n",
       "    </tr>\n",
       "    <tr>\n",
       "      <th>9</th>\n",
       "      <td>0.072737</td>\n",
       "      <td>lpep_pickup_datetime_hour</td>\n",
       "    </tr>\n",
       "    <tr>\n",
       "      <th>8</th>\n",
       "      <td>0.062506</td>\n",
       "      <td>lpep_pickup_datetime_day</td>\n",
       "    </tr>\n",
       "    <tr>\n",
       "      <th>...</th>\n",
       "      <td>...</td>\n",
       "      <td>...</td>\n",
       "    </tr>\n",
       "    <tr>\n",
       "      <th>307</th>\n",
       "      <td>0.0</td>\n",
       "      <td>PU_DO_260_223</td>\n",
       "    </tr>\n",
       "    <tr>\n",
       "      <th>728</th>\n",
       "      <td>0.0</td>\n",
       "      <td>PU_DO_95_131</td>\n",
       "    </tr>\n",
       "    <tr>\n",
       "      <th>110</th>\n",
       "      <td>0.0</td>\n",
       "      <td>PU_DO_152_74</td>\n",
       "    </tr>\n",
       "    <tr>\n",
       "      <th>209</th>\n",
       "      <td>0.0</td>\n",
       "      <td>PU_DO_226_82</td>\n",
       "    </tr>\n",
       "    <tr>\n",
       "      <th>427</th>\n",
       "      <td>0.0</td>\n",
       "      <td>PU_DO_42_47</td>\n",
       "    </tr>\n",
       "  </tbody>\n",
       "</table>\n",
       "<p>797 rows × 2 columns</p>\n",
       "</div>"
      ],
      "text/plain": [
       "    importance                         name\n",
       "1     0.146758                trip_distance\n",
       "2     0.103992                  fare_amount\n",
       "10    0.081053  lpep_pickup_datetime_minute\n",
       "9     0.072737    lpep_pickup_datetime_hour\n",
       "8     0.062506     lpep_pickup_datetime_day\n",
       "..         ...                          ...\n",
       "307        0.0                PU_DO_260_223\n",
       "728        0.0                 PU_DO_95_131\n",
       "110        0.0                 PU_DO_152_74\n",
       "209        0.0                 PU_DO_226_82\n",
       "427        0.0                  PU_DO_42_47\n",
       "\n",
       "[797 rows x 2 columns]"
      ]
     },
     "execution_count": 30,
     "metadata": {},
     "output_type": "execute_result"
    }
   ],
   "source": [
    "fi_t.sort_values('importance', ascending=False)"
   ]
  },
  {
   "cell_type": "code",
   "execution_count": 31,
   "id": "46880825",
   "metadata": {},
   "outputs": [],
   "source": [
    "from sklearn.decomposition import PCA"
   ]
  },
  {
   "cell_type": "code",
   "execution_count": 45,
   "id": "b2f34a44",
   "metadata": {},
   "outputs": [],
   "source": [
    "pca = PCA(n_components=20)"
   ]
  },
  {
   "cell_type": "code",
   "execution_count": 46,
   "id": "f84e234a",
   "metadata": {},
   "outputs": [
    {
     "data": {
      "text/plain": [
       "PCA(n_components=20)"
      ]
     },
     "execution_count": 46,
     "metadata": {},
     "output_type": "execute_result"
    }
   ],
   "source": [
    "pca.fit(X_train_ohe)"
   ]
  },
  {
   "cell_type": "code",
   "execution_count": 47,
   "id": "b1488d00",
   "metadata": {},
   "outputs": [
    {
     "data": {
      "text/plain": [
       "<Figure size 640x480 with 0 Axes>"
      ]
     },
     "metadata": {},
     "output_type": "display_data"
    }
   ],
   "source": [
    "import matplotlib.pyplot as plt\n",
    "fig = plt.figure()"
   ]
  },
  {
   "cell_type": "code",
   "execution_count": 48,
   "id": "f498b8ff",
   "metadata": {},
   "outputs": [
    {
     "data": {
      "text/plain": [
       "[<matplotlib.lines.Line2D at 0x29d0aadd0>]"
      ]
     },
     "execution_count": 48,
     "metadata": {},
     "output_type": "execute_result"
    },
    {
     "data": {
      "image/png": "[encoded data removed]",
      "text/plain": [
       "<Figure size 640x480 with 1 Axes>"
      ]
     },
     "metadata": {},
     "output_type": "display_data"
    }
   ],
   "source": [
    "plt.plot(pca.explained_variance_ratio_)"
   ]
  },
  {
   "cell_type": "code",
   "execution_count": 49,
   "id": "6899dcc2",
   "metadata": {},
   "outputs": [],
   "source": [
    "l = 11"
   ]
  },
  {
   "cell_type": "code",
   "execution_count": 50,
   "id": "f5d84bbd",
   "metadata": {},
   "outputs": [],
   "source": [
    "pca_2 = PCA(n_components=l)"
   ]
  },
  {
   "cell_type": "code",
   "execution_count": 51,
   "id": "abba74a8",
   "metadata": {},
   "outputs": [
    {
     "data": {
      "text/plain": [
       "PCA(n_components=11)"
      ]
     },
     "execution_count": 51,
     "metadata": {},
     "output_type": "execute_result"
    }
   ],
   "source": [
    "pca_2.fit(X_train_ohe)"
   ]
  },
  {
   "cell_type": "code",
   "execution_count": 52,
   "id": "7e20d4ee",
   "metadata": {},
   "outputs": [],
   "source": [
    "Z_train = pca_2.transform(X_train_ohe)"
   ]
  },
  {
   "cell_type": "code",
   "execution_count": 76,
   "id": "e9d02d0e",
   "metadata": {},
   "outputs": [
    {
     "data": {
      "text/html": [
       "<div>\n",
       "<style scoped>\n",
       "    .dataframe tbody tr th:only-of-type {\n",
       "        vertical-align: middle;\n",
       "    }\n",
       "\n",
       "    .dataframe tbody tr th {\n",
       "        vertical-align: top;\n",
       "    }\n",
       "\n",
       "    .dataframe thead th {\n",
       "        text-align: right;\n",
       "    }\n",
       "</style>\n",
       "<table border=\"1\" class=\"dataframe\">\n",
       "  <thead>\n",
       "    <tr style=\"text-align: right;\">\n",
       "      <th></th>\n",
       "      <th>0</th>\n",
       "      <th>1</th>\n",
       "      <th>2</th>\n",
       "      <th>3</th>\n",
       "      <th>4</th>\n",
       "      <th>5</th>\n",
       "      <th>6</th>\n",
       "      <th>7</th>\n",
       "      <th>8</th>\n",
       "      <th>9</th>\n",
       "      <th>10</th>\n",
       "    </tr>\n",
       "  </thead>\n",
       "  <tbody>\n",
       "    <tr>\n",
       "      <th>0</th>\n",
       "      <td>0.681080</td>\n",
       "      <td>-0.869172</td>\n",
       "      <td>0.113771</td>\n",
       "      <td>0.438378</td>\n",
       "      <td>-0.685263</td>\n",
       "      <td>-1.011341</td>\n",
       "      <td>1.217417</td>\n",
       "      <td>-0.120554</td>\n",
       "      <td>-0.310435</td>\n",
       "      <td>0.132603</td>\n",
       "      <td>0.376270</td>\n",
       "    </tr>\n",
       "    <tr>\n",
       "      <th>1</th>\n",
       "      <td>-0.076366</td>\n",
       "      <td>-0.750682</td>\n",
       "      <td>-0.227808</td>\n",
       "      <td>0.591851</td>\n",
       "      <td>0.531216</td>\n",
       "      <td>-1.255687</td>\n",
       "      <td>0.192018</td>\n",
       "      <td>-0.211262</td>\n",
       "      <td>0.297994</td>\n",
       "      <td>-0.294681</td>\n",
       "      <td>-0.050237</td>\n",
       "    </tr>\n",
       "    <tr>\n",
       "      <th>2</th>\n",
       "      <td>-0.532241</td>\n",
       "      <td>0.550659</td>\n",
       "      <td>-0.032764</td>\n",
       "      <td>-0.721034</td>\n",
       "      <td>-0.662250</td>\n",
       "      <td>1.274095</td>\n",
       "      <td>-1.082320</td>\n",
       "      <td>0.211939</td>\n",
       "      <td>-0.338101</td>\n",
       "      <td>-0.106292</td>\n",
       "      <td>-0.696473</td>\n",
       "    </tr>\n",
       "    <tr>\n",
       "      <th>3</th>\n",
       "      <td>-0.438472</td>\n",
       "      <td>3.752857</td>\n",
       "      <td>2.931553</td>\n",
       "      <td>0.431643</td>\n",
       "      <td>0.820118</td>\n",
       "      <td>0.599613</td>\n",
       "      <td>-1.516016</td>\n",
       "      <td>-2.542113</td>\n",
       "      <td>0.975680</td>\n",
       "      <td>1.585853</td>\n",
       "      <td>-1.601448</td>\n",
       "    </tr>\n",
       "    <tr>\n",
       "      <th>4</th>\n",
       "      <td>-0.601145</td>\n",
       "      <td>0.131393</td>\n",
       "      <td>0.650274</td>\n",
       "      <td>-0.958344</td>\n",
       "      <td>-1.076085</td>\n",
       "      <td>0.511275</td>\n",
       "      <td>0.028784</td>\n",
       "      <td>0.255950</td>\n",
       "      <td>-0.351520</td>\n",
       "      <td>0.542992</td>\n",
       "      <td>0.208029</td>\n",
       "    </tr>\n",
       "    <tr>\n",
       "      <th>...</th>\n",
       "      <td>...</td>\n",
       "      <td>...</td>\n",
       "      <td>...</td>\n",
       "      <td>...</td>\n",
       "      <td>...</td>\n",
       "      <td>...</td>\n",
       "      <td>...</td>\n",
       "      <td>...</td>\n",
       "      <td>...</td>\n",
       "      <td>...</td>\n",
       "      <td>...</td>\n",
       "    </tr>\n",
       "    <tr>\n",
       "      <th>19578</th>\n",
       "      <td>-0.049067</td>\n",
       "      <td>-0.408219</td>\n",
       "      <td>1.037910</td>\n",
       "      <td>-1.036932</td>\n",
       "      <td>0.050446</td>\n",
       "      <td>-0.765865</td>\n",
       "      <td>0.065479</td>\n",
       "      <td>-0.049910</td>\n",
       "      <td>-0.104803</td>\n",
       "      <td>0.351678</td>\n",
       "      <td>1.147074</td>\n",
       "    </tr>\n",
       "    <tr>\n",
       "      <th>19579</th>\n",
       "      <td>-0.612448</td>\n",
       "      <td>0.477977</td>\n",
       "      <td>-0.206958</td>\n",
       "      <td>-0.729708</td>\n",
       "      <td>0.524011</td>\n",
       "      <td>-0.685109</td>\n",
       "      <td>-0.407997</td>\n",
       "      <td>-0.050820</td>\n",
       "      <td>0.341601</td>\n",
       "      <td>-0.640924</td>\n",
       "      <td>-0.509318</td>\n",
       "    </tr>\n",
       "    <tr>\n",
       "      <th>19580</th>\n",
       "      <td>-0.125652</td>\n",
       "      <td>-1.102798</td>\n",
       "      <td>0.075482</td>\n",
       "      <td>0.675576</td>\n",
       "      <td>0.933019</td>\n",
       "      <td>-0.677769</td>\n",
       "      <td>-0.817591</td>\n",
       "      <td>-0.228030</td>\n",
       "      <td>0.293273</td>\n",
       "      <td>-0.148536</td>\n",
       "      <td>0.375437</td>\n",
       "    </tr>\n",
       "    <tr>\n",
       "      <th>19581</th>\n",
       "      <td>-0.691718</td>\n",
       "      <td>0.029338</td>\n",
       "      <td>0.689076</td>\n",
       "      <td>-1.612788</td>\n",
       "      <td>2.081403</td>\n",
       "      <td>1.906809</td>\n",
       "      <td>3.393883</td>\n",
       "      <td>0.599114</td>\n",
       "      <td>-0.173061</td>\n",
       "      <td>0.827641</td>\n",
       "      <td>0.105349</td>\n",
       "    </tr>\n",
       "    <tr>\n",
       "      <th>19582</th>\n",
       "      <td>0.396761</td>\n",
       "      <td>-0.910021</td>\n",
       "      <td>0.222470</td>\n",
       "      <td>0.821287</td>\n",
       "      <td>-0.906348</td>\n",
       "      <td>0.592008</td>\n",
       "      <td>-0.022646</td>\n",
       "      <td>-0.040165</td>\n",
       "      <td>0.005779</td>\n",
       "      <td>-0.273852</td>\n",
       "      <td>1.006170</td>\n",
       "    </tr>\n",
       "  </tbody>\n",
       "</table>\n",
       "<p>19583 rows × 11 columns</p>\n",
       "</div>"
      ],
      "text/plain": [
       "             0         1         2         3         4         5         6   \\\n",
       "0      0.681080 -0.869172  0.113771  0.438378 -0.685263 -1.011341  1.217417   \n",
       "1     -0.076366 -0.750682 -0.227808  0.591851  0.531216 -1.255687  0.192018   \n",
       "2     -0.532241  0.550659 -0.032764 -0.721034 -0.662250  1.274095 -1.082320   \n",
       "3     -0.438472  3.752857  2.931553  0.431643  0.820118  0.599613 -1.516016   \n",
       "4     -0.601145  0.131393  0.650274 -0.958344 -1.076085  0.511275  0.028784   \n",
       "...         ...       ...       ...       ...       ...       ...       ...   \n",
       "19578 -0.049067 -0.408219  1.037910 -1.036932  0.050446 -0.765865  0.065479   \n",
       "19579 -0.612448  0.477977 -0.206958 -0.729708  0.524011 -0.685109 -0.407997   \n",
       "19580 -0.125652 -1.102798  0.075482  0.675576  0.933019 -0.677769 -0.817591   \n",
       "19581 -0.691718  0.029338  0.689076 -1.612788  2.081403  1.906809  3.393883   \n",
       "19582  0.396761 -0.910021  0.222470  0.821287 -0.906348  0.592008 -0.022646   \n",
       "\n",
       "             7         8         9         10  \n",
       "0     -0.120554 -0.310435  0.132603  0.376270  \n",
       "1     -0.211262  0.297994 -0.294681 -0.050237  \n",
       "2      0.211939 -0.338101 -0.106292 -0.696473  \n",
       "3     -2.542113  0.975680  1.585853 -1.601448  \n",
       "4      0.255950 -0.351520  0.542992  0.208029  \n",
       "...         ...       ...       ...       ...  \n",
       "19578 -0.049910 -0.104803  0.351678  1.147074  \n",
       "19579 -0.050820  0.341601 -0.640924 -0.509318  \n",
       "19580 -0.228030  0.293273 -0.148536  0.375437  \n",
       "19581  0.599114 -0.173061  0.827641  0.105349  \n",
       "19582 -0.040165  0.005779 -0.273852  1.006170  \n",
       "\n",
       "[19583 rows x 11 columns]"
      ]
     },
     "execution_count": 76,
     "metadata": {},
     "output_type": "execute_result"
    }
   ],
   "source": [
    "pd.DataFrame(Z_train)"
   ]
  },
  {
   "cell_type": "code",
   "execution_count": 53,
   "id": "dace4fe0",
   "metadata": {},
   "outputs": [],
   "source": [
    "Z_test = pca_2.transform(X_test_ohe)"
   ]
  },
  {
   "cell_type": "code",
   "execution_count": 54,
   "id": "82194147",
   "metadata": {},
   "outputs": [],
   "source": [
    "rf_on_pca_components = RandomForestClassifier()"
   ]
  },
  {
   "cell_type": "code",
   "execution_count": 55,
   "id": "b8d44450",
   "metadata": {},
   "outputs": [
    {
     "data": {
      "text/plain": [
       "RandomForestClassifier()"
      ]
     },
     "execution_count": 55,
     "metadata": {},
     "output_type": "execute_result"
    }
   ],
   "source": [
    "rf_on_pca_components.fit(Z_train, Y_train)"
   ]
  },
  {
   "cell_type": "code",
   "execution_count": 65,
   "id": "7156e461",
   "metadata": {},
   "outputs": [],
   "source": [
    "y_rf_pca_predictions_test = rf_on_pca_components.predict_proba(Z_test)\n",
    "y_rf_pca_predictions_train = rf_on_pca_components.predict_proba(Z_train)"
   ]
  },
  {
   "cell_type": "code",
   "execution_count": 66,
   "id": "438e6afb",
   "metadata": {},
   "outputs": [],
   "source": [
    "from sklearn.metrics import (accuracy_score,\n",
    "        precision_score,\n",
    "        recall_score,\n",
    "        roc_auc_score,\n",
    "        f1_score)"
   ]
  },
  {
   "cell_type": "code",
   "execution_count": 67,
   "id": "a2332c4d",
   "metadata": {},
   "outputs": [],
   "source": [
    "threshold = 0.5 \n",
    "\n",
    "Y_pred_train = [0 if x>=threshold else 1 for x in y_rf_pca_predictions_train[:, 0]]\n",
    "Y_pred_test = [0 if x>=threshold else 1 for x in y_rf_pca_predictions_test[:, 0]]\n",
    "\n",
    "accuracy_train = accuracy_score(Y_train, Y_pred_train)\n",
    "accuracy_test = accuracy_score(Y_test, Y_pred_test)\n",
    "\n",
    "precision_train = precision_score(Y_train, Y_pred_train)\n",
    "precision_test = precision_score(Y_test, Y_pred_test)\n",
    "\n",
    "recall_train = recall_score(Y_train, Y_pred_train)\n",
    "recall_test = recall_score(Y_test, Y_pred_test)\n",
    "\n",
    "f1_score_train = f1_score(Y_train, Y_pred_train)\n",
    "f1_score_test = f1_score(Y_test, Y_pred_test)\n",
    "\n",
    "roc_auc_train = roc_auc_score(Y_train, Y_pred_train_prob[:, 1])\n",
    "roc_auc_test = roc_auc_score(Y_test, Y_pred_test_prob[:, 1])\n",
    "\n",
    "results = {'accuracy_train': accuracy_train,\n",
    "'accuracy_test': accuracy_test,\n",
    "'precision_train': precision_train,\n",
    "'precision_test': precision_test,\n",
    "'recall_train': recall_train,\n",
    "'recall_test': recall_test,\n",
    "'roc_auc_train': roc_auc_train,\n",
    "'roc_auc_test': roc_auc_test,\n",
    "'f1_score_train': f1_score_train,\n",
    "'f1_score_test': f1_score_test}"
   ]
  },
  {
   "cell_type": "code",
   "execution_count": 68,
   "id": "1b90b9b3",
   "metadata": {},
   "outputs": [
    {
     "data": {
      "text/plain": [
       "{'accuracy_train': 1.0,\n",
       " 'accuracy_test': 0.8951507208387942,\n",
       " 'precision_train': 1.0,\n",
       " 'precision_test': 0.5702479338842975,\n",
       " 'recall_train': 1.0,\n",
       " 'recall_test': 0.07692307692307693,\n",
       " 'roc_auc_train': 0.9408998674915324,\n",
       " 'roc_auc_test': 0.7341340874181577,\n",
       " 'f1_score_train': 1.0,\n",
       " 'f1_score_test': 0.13555992141453832}"
      ]
     },
     "execution_count": 68,
     "metadata": {},
     "output_type": "execute_result"
    }
   ],
   "source": [
    "results"
   ]
  },
  {
   "cell_type": "code",
   "execution_count": 75,
   "id": "17ee21c6",
   "metadata": {},
   "outputs": [
    {
     "data": {
      "text/plain": [
       "{'bootstrap': True,\n",
       " 'ccp_alpha': 0.0,\n",
       " 'class_weight': None,\n",
       " 'criterion': 'gini',\n",
       " 'max_depth': None,\n",
       " 'max_features': 'auto',\n",
       " 'max_leaf_nodes': None,\n",
       " 'max_samples': None,\n",
       " 'min_impurity_decrease': 0.0,\n",
       " 'min_samples_leaf': 1,\n",
       " 'min_samples_split': 2,\n",
       " 'min_weight_fraction_leaf': 0.0,\n",
       " 'n_estimators': 100,\n",
       " 'n_jobs': None,\n",
       " 'oob_score': False,\n",
       " 'random_state': None,\n",
       " 'verbose': 0,\n",
       " 'warm_start': False}"
      ]
     },
     "execution_count": 75,
     "metadata": {},
     "output_type": "execute_result"
    }
   ],
   "source": [
    "rf_on_pca_components.get_params()"
   ]
  },
  {
   "cell_type": "code",
   "execution_count": null,
   "id": "5ea904e2",
   "metadata": {},
   "outputs": [],
   "source": []
  }
 ],
 "metadata": {
  "kernelspec": {
   "display_name": "Python 3 (ipykernel)",
   "language": "python",
   "name": "python3"
  },
  "language_info": {
   "codemirror_mode": {
    "name": "ipython",
    "version": 3
   },
   "file_extension": ".py",
   "mimetype": "text/x-python",
   "name": "python",
   "nbconvert_exporter": "python",
   "pygments_lexer": "ipython3",
   "version": "3.10.9"
  }
 },
 "nbformat": 4,
 "nbformat_minor": 5
}
