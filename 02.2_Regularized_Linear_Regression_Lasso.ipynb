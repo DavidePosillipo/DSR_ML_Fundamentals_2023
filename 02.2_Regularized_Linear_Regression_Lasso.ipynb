{
 "cells": [
  {
   "cell_type": "code",
   "execution_count": 12,
   "id": "36445b86",
   "metadata": {},
   "outputs": [],
   "source": [
    "import mlflow\n",
    "import os\n",
    "import numpy as np\n",
    "from sklearn.linear_model import Lasso\n",
    "from sklearn.model_selection import train_test_split\n",
    "from sklearn.metrics import mean_squared_error, mean_absolute_error\n",
    "\n",
    "from pickle import dump\n",
    "\n",
    "from hyperopt import fmin, tpe, Trials, STATUS_OK, hp, space_eval\n",
    "from functools import partial\n",
    "\n",
    "from scripts.preprocessing_regression_models import Preprocess\n",
    "from scripts.model_registry import ModelRegistry\n",
    "from scripts.config_regression import (year_month_train,\n",
    "    model_name_pref,\n",
    "    input_data_path_train,\n",
    "    local_path_save,\n",
    "    seed)"
   ]
  },
  {
   "cell_type": "code",
   "execution_count": null,
   "id": "4d3016c7",
   "metadata": {},
   "outputs": [],
   "source": [
    "local_path_save = './local_artifacts_tmp/02_2_Lasso_Regression/'"
   ]
  },
  {
   "cell_type": "markdown",
   "id": "0b32d9f2",
   "metadata": {},
   "source": [
    "### MLFlow setting"
   ]
  },
  {
   "cell_type": "code",
   "execution_count": 2,
   "id": "ebde894d",
   "metadata": {},
   "outputs": [
    {
     "name": "stderr",
     "output_type": "stream",
     "text": [
      "2023/01/01 10:39:46 INFO mlflow.tracking.fluent: Experiment with name '02.2 - Regularized Linear Regression - Lasso' does not exist. Creating a new experiment.\n"
     ]
    }
   ],
   "source": [
    "if not os.path.exists(local_path_save):\n",
    "    os.makedirs(local_path_save)\n",
    "\n",
    "#save all metadata in a sqlite db. Artifacts will be saved on local folder ./mlflow    \n",
    "mlflow.set_tracking_uri(\"sqlite:///mlflow.db\")\n",
    "\n",
    "# Name of the experiment\n",
    "exp_name = \"02.2 - Regularized Linear Regression - Lasso\"\n",
    "# set up MlFlow axperiment\n",
    "experiment_id = mlflow.set_experiment(exp_name)"
   ]
  },
  {
   "cell_type": "code",
   "execution_count": 3,
   "id": "569c1085",
   "metadata": {},
   "outputs": [],
   "source": [
    "year_month = year_month_train\n",
    "input_data_path = input_data_path_train"
   ]
  },
  {
   "cell_type": "markdown",
   "id": "8da53181",
   "metadata": {},
   "source": [
    "### Fitting and evaluation functions"
   ]
  },
  {
   "cell_type": "code",
   "execution_count": 4,
   "id": "6a8dc721",
   "metadata": {
    "scrolled": true
   },
   "outputs": [],
   "source": [
    "def lr_evaluation(Y_train, Y_test, Y_pred_train, Y_pred_test):\n",
    "        ''' \n",
    "        Function for evaluation of Linear Regression goodness\n",
    "        '''\n",
    "        rmse_train = mean_squared_error(Y_train,Y_pred_train)**0.5\n",
    "        rmse_test = mean_squared_error(Y_test,Y_pred_test)**0.5\n",
    "        \n",
    "        mae_train = mean_absolute_error(Y_train, Y_pred_train)\n",
    "        mae_test = mean_absolute_error(Y_test, Y_pred_test)\n",
    "    \n",
    "        return rmse_train, rmse_test, mae_train, mae_test"
   ]
  },
  {
   "cell_type": "code",
   "execution_count": 5,
   "id": "79a07ae9",
   "metadata": {},
   "outputs": [],
   "source": [
    "def objective_lr_lasso(params, X_train, X_test, Y_train, Y_test):\n",
    "    '''\n",
    "    Fitting function for Linear Regression with \n",
    "    Lasso Regularization\n",
    "    '''\n",
    "    with mlflow.start_run():\n",
    "        mlflow.set_tag('model_type','LassoLinearRegression')\n",
    "        mlflow.set_tag('year_month',year_month)\n",
    "        mlflow.log_param('model_type','LassoLinearRegression')\n",
    "        mlflow.log_param('data',input_data_path)\n",
    "        mlflow.log_params(params)\n",
    "\n",
    "        lr = Lasso(**params)\n",
    "\n",
    "        lr.fit(X_train, Y_train)\n",
    "\n",
    "        Y_pred_train = lr.predict(X_train)\n",
    "        Y_pred_test = lr.predict(X_test)\n",
    "        rmse_train, rmse_test, mae_train, mae_test = lr_evaluation(\n",
    "                Y_train, Y_test, Y_pred_train, Y_pred_test\n",
    "        )\n",
    "\n",
    "        mlflow.log_metrics({'rmse_train': rmse_train, \n",
    "                            'rmse_test': rmse_test,\n",
    "                            'mae_train': mae_train,\n",
    "                            'mae_test': mae_test})\n",
    "\n",
    "        print('rmse_train = ', rmse_train, \n",
    "              '\\n rmse_test', rmse_test,\n",
    "              '\\n mae_train', mae_train,\n",
    "              '\\n mae_test', mae_test)\n",
    "\n",
    "        mlflow.log_artifact(local_path = local_path_save + run_name + '_ohe.pkl', artifact_path='preprocessing') \n",
    "        mlflow.sklearn.log_model(lr, artifact_path='model')\n",
    "    \n",
    "    return {'loss': rmse_test, 'status': STATUS_OK}\n",
    "    "
   ]
  },
  {
   "cell_type": "markdown",
   "id": "9cd22cc8",
   "metadata": {},
   "source": [
    "### Experiment"
   ]
  },
  {
   "cell_type": "code",
   "execution_count": null,
   "id": "babd4fb6",
   "metadata": {},
   "outputs": [],
   "source": [
    "run_name = 'base'"
   ]
  },
  {
   "cell_type": "code",
   "execution_count": 6,
   "id": "a4f2e9f8",
   "metadata": {},
   "outputs": [],
   "source": [
    "max_evals = 5\n",
    "\n",
    "# Here we can decide which hyperparameters we want to tune\n",
    "# For the Lasso regression, alpha tunes the amount of regularization\n",
    "# Alpha = 0 means no regularization == Linear Regression\n",
    "lasso_parameters_search = {\n",
    "    'alpha': hp.lognormal('alpha', 0, 1),\n",
    "    'random_state': seed\n",
    "}"
   ]
  },
  {
   "cell_type": "code",
   "execution_count": 7,
   "id": "9e387976",
   "metadata": {
    "scrolled": true
   },
   "outputs": [
    {
     "name": "stdout",
     "output_type": "stream",
     "text": [
      "df shape (3576, 20)\n"
     ]
    }
   ],
   "source": [
    "#### Data Preprocessing ####\n",
    "\n",
    "prepr = Preprocess(input_data_path_train)\n",
    "X, Y = prepr.read_dataframe(request_tgt=True)\n",
    "\n",
    "X_train, X_test, Y_train, Y_test = train_test_split(X, Y, test_size=0.3, random_state=seed)\n",
    "\n",
    "#preprocessing ohe\n",
    "shapes_pre = (X_train.shape[0], X_test.shape[0])\n",
    "X_train_ohe, ohe = prepr.preprocess(df=X_train, fit_ohe=True)\n",
    "X_test_ohe, _ = prepr.preprocess(df=X_test, fit_ohe=False, ohe=ohe)\n",
    "assert shapes_pre == (X_train.shape[0], X_test.shape[0])\n",
    "dump(ohe, open(local_path_save + run_name + '_ohe.pkl', 'wb'))"
   ]
  },
  {
   "cell_type": "code",
   "execution_count": 8,
   "id": "6094dc2e",
   "metadata": {
    "scrolled": true
   },
   "outputs": [
    {
     "name": "stdout",
     "output_type": "stream",
     "text": [
      "rmse_train =                                                                                                           \n",
      "4.072108132393185                                                                                                      \n",
      "                                                                                                                       \n",
      " rmse_test\n",
      "13968.741194617507                                                                                                     \n",
      "                                                                                                                       \n",
      " mae_train\n",
      "2.879083536523874                                                                                                      \n",
      "                                                                                                                       \n",
      " mae_test\n",
      "440.8363830925089                                                                                                      \n",
      "rmse_train =                                                                                                           \n",
      "4.076718345053748                                                                                                      \n",
      "                                                                                                                       \n",
      " rmse_test\n",
      "13641.31905567446                                                                                                      \n",
      "                                                                                                                       \n",
      " mae_train\n",
      "2.8922753133119694                                                                                                     \n",
      "                                                                                                                       \n",
      " mae_test\n",
      "430.58667631446775                                                                                                     \n",
      " 20%|██████████                                        | 1/5 [00:02<00:07,  1.86s/trial, best loss: 13968.741194617507]"
     ]
    },
    {
     "name": "stderr",
     "output_type": "stream",
     "text": [
      "/Users/davideposillipo/.pyenv/versions/3.10.9/envs/mlops/lib/python3.10/site-packages/_distutils_hack/__init__.py:33: UserWarning: Setuptools is replacing distutils.\n",
      "  warnings.warn(\"Setuptools is replacing distutils.\")\n",
      "\n"
     ]
    },
    {
     "name": "stdout",
     "output_type": "stream",
     "text": [
      "rmse_train =                                                                                                           \n",
      "4.1435708271297855                                                                                                     \n",
      "                                                                                                                       \n",
      " rmse_test\n",
      "11762.519747425804                                                                                                     \n",
      "                                                                                                                       \n",
      " mae_train\n",
      "2.991282940538627                                                                                                      \n",
      "                                                                                                                       \n",
      " mae_test\n",
      "371.7861031930195                                                                                                      \n",
      "rmse_train =                                                                                                           \n",
      "4.089759476243833                                                                                                      \n",
      "                                                                                                                       \n",
      " rmse_test\n",
      "13071.81681421235                                                                                                      \n",
      "                                                                                                                       \n",
      " mae_train\n",
      "2.9177539366149086                                                                                                     \n",
      "                                                                                                                       \n",
      " mae_test\n",
      "412.7607770446161                                                                                                      \n",
      "rmse_train =                                                                                                           \n",
      "4.328791936437094                                                                                                      \n",
      "                                                                                                                       \n",
      " rmse_test\n",
      "9314.75945642963                                                                                                       \n",
      "                                                                                                                       \n",
      " mae_train\n",
      "3.172944819488376                                                                                                      \n",
      "                                                                                                                       \n",
      " mae_test\n",
      "295.21395316636597                                                                                                     \n",
      "100%|████████████████████████████████████████████████████| 5/5 [00:06<00:00,  1.32s/trial, best loss: 9314.75945642963]\n"
     ]
    },
    {
     "data": {
      "text/plain": [
       "{'alpha': 1.7708875603575491}"
      ]
     },
     "execution_count": 8,
     "metadata": {},
     "output_type": "execute_result"
    }
   ],
   "source": [
    "trials = Trials()\n",
    "\n",
    "best_result = fmin(\n",
    "    fn=partial(objective_lr_lasso, \n",
    "        X_train=X_train_ohe,\n",
    "        X_test=X_test_ohe,\n",
    "        Y_train=Y_train,\n",
    "        Y_test=Y_test),\n",
    "    space=lasso_parameters_search,\n",
    "    algo=tpe.suggest,\n",
    "    max_evals=max_evals,\n",
    "    trials=trials,\n",
    "    rstate=np.random.default_rng(seed)\n",
    ")\n",
    "\n",
    "best_result"
   ]
  },
  {
   "cell_type": "code",
   "execution_count": 23,
   "id": "f8ed7288",
   "metadata": {},
   "outputs": [],
   "source": [
    "from sklearn.linear_model import lasso_path\n",
    "alphas_lasso, coefs_lasso, _ = lasso_path(X_train_ohe, Y_train, n_alphas=30)"
   ]
  },
  {
   "cell_type": "code",
   "execution_count": 55,
   "id": "223ef20f",
   "metadata": {},
   "outputs": [
    {
     "data": {
      "text/plain": [
       "(-1.5210772527585794, 1.7789227472414204, -15.567875167779, 6.106911206419408)"
      ]
     },
     "execution_count": 55,
     "metadata": {},
     "output_type": "execute_result"
    },
    {
     "data": {
      "image/png": "[encoded data removed]",
      "text/plain": [
       "<Figure size 640x480 with 1 Axes>"
      ]
     },
     "metadata": {},
     "output_type": "display_data"
    }
   ],
   "source": [
    "import matplotlib.pyplot as plt\n",
    "from itertools import cycle\n",
    "\n",
    "colors = cycle([\"b\", \"r\", \"g\", \"c\", \"k\"])\n",
    "neg_log_alphas_lasso = -np.log10(alphas_lasso)\n",
    "\n",
    "for coef_l, c in zip(coefs_lasso, colors):\n",
    "    l1 = plt.plot(neg_log_alphas_lasso, coef_l, c=c)\n",
    "    \n",
    "\n",
    "plt.xlabel(\"-Log(alpha)\")\n",
    "plt.ylabel(\"coefficients\")\n",
    "plt.title(\"Lasso Path\")\n",
    "plt.axis(\"tight\")"
   ]
  }
 ],
 "metadata": {
  "kernelspec": {
   "display_name": "Python 3 (ipykernel)",
   "language": "python",
   "name": "python3"
  },
  "language_info": {
   "codemirror_mode": {
    "name": "ipython",
    "version": 3
   },
   "file_extension": ".py",
   "mimetype": "text/x-python",
   "name": "python",
   "nbconvert_exporter": "python",
   "pygments_lexer": "ipython3",
   "version": "3.10.9"
  }
 },
 "nbformat": 4,
 "nbformat_minor": 5
}
