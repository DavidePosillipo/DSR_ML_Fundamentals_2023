{
 "cells": [
  {
   "cell_type": "code",
   "execution_count": 1,
   "id": "36445b86",
   "metadata": {},
   "outputs": [],
   "source": [
    "import mlflow\n",
    "import os\n",
    "import numpy as np\n",
    "from sklearn.linear_model import Ridge\n",
    "from sklearn.model_selection import train_test_split\n",
    "from sklearn.metrics import mean_squared_error, mean_absolute_error\n",
    "\n",
    "from hyperopt import hp\n",
    "\n",
    "from pickle import dump\n",
    "\n",
    "from hyperopt import fmin, tpe, Trials, STATUS_OK, hp, space_eval\n",
    "from functools import partial\n",
    "\n",
    "from scripts.preprocessing_regression_models import Preprocess\n",
    "from scripts.model_registry import ModelRegistry\n",
    "from scripts.scoring import Scoring\n",
    "from scripts.monitoring import Monitoring\n",
    "from scripts.config_regression import (year_month_train, \n",
    "    input_data_path_train,\n",
    "    local_path_save,\n",
    "    seed)"
   ]
  },
  {
   "cell_type": "markdown",
   "id": "0b32d9f2",
   "metadata": {},
   "source": [
    "### MLFlow setting"
   ]
  },
  {
   "cell_type": "code",
   "execution_count": 2,
   "id": "ebde894d",
   "metadata": {},
   "outputs": [],
   "source": [
    "if not os.path.exists(local_path_save):\n",
    "    os.makedirs(local_path_save)\n",
    "\n",
    "#save all metadata in a sqlite db. Artifacts will be saved on local folder ./mlflow    \n",
    "mlflow.set_tracking_uri(\"sqlite:///mlflow.db\")\n",
    "\n",
    "# Name of the experiment\n",
    "exp_name = \"02 - Regularized Linear Regression\"\n",
    "# set up MlFlow axperiment\n",
    "experiment_id = mlflow.set_experiment(exp_name)"
   ]
  },
  {
   "cell_type": "code",
   "execution_count": 3,
   "id": "569c1085",
   "metadata": {},
   "outputs": [],
   "source": [
    "year_month = year_month_train\n",
    "input_data_path = input_data_path_train"
   ]
  },
  {
   "cell_type": "markdown",
   "id": "8da53181",
   "metadata": {},
   "source": [
    "### Fitting and evaluation functions"
   ]
  },
  {
   "cell_type": "code",
   "execution_count": 4,
   "id": "6a8dc721",
   "metadata": {
    "scrolled": true
   },
   "outputs": [],
   "source": [
    "def lr_evaluation(Y_train, Y_test, Y_pred_train, Y_pred_test):\n",
    "        ''' \n",
    "        Function for evaluation of Linear Regression goodness\n",
    "        '''\n",
    "        rmse_train = mean_squared_error(Y_train,Y_pred_train)**0.5\n",
    "        rmse_test = mean_squared_error(Y_test,Y_pred_test)**0.5\n",
    "        \n",
    "        mae_train = mean_absolute_error(Y_train, Y_pred_train)\n",
    "        mae_test = mean_absolute_error(Y_test, Y_pred_test)\n",
    "    \n",
    "        return rmse_train, rmse_test, mae_train, mae_test"
   ]
  },
  {
   "cell_type": "code",
   "execution_count": 22,
   "id": "79a07ae9",
   "metadata": {},
   "outputs": [],
   "source": [
    "def objective_lr_ridge(params, X_train, X_test, Y_train, Y_test):\n",
    "    '''\n",
    "    Fitting function for Linear Regression with \n",
    "    Ridge Regularization\n",
    "    '''\n",
    "    with mlflow.start_run():\n",
    "        mlflow.set_tag('model_type','RidgeLinearRegression')\n",
    "        mlflow.set_tag('year_month',year_month)\n",
    "        mlflow.log_param('model_type','RidgeLinearRegression')\n",
    "        mlflow.log_param('data',input_data_path)\n",
    "        print(\"parametri qui: \", params)\n",
    "        mlflow.log_params(params)\n",
    "\n",
    "        lr = Ridge(**params)\n",
    "\n",
    "        lr.fit(X_train, Y_train)\n",
    "\n",
    "        Y_pred_train = lr.predict(X_train)\n",
    "        Y_pred_test = lr.predict(X_test)\n",
    "        rmse_train, rmse_test, mae_train, mae_test = lr_evaluation(\n",
    "                Y_train, Y_test, Y_pred_train, Y_pred_test\n",
    "        )\n",
    "\n",
    "        mlflow.log_metrics({'rmse_train': rmse_train, \n",
    "                            'rmse_test': rmse_test,\n",
    "                            'mae_train': mae_train,\n",
    "                            'mae_test': mae_test})\n",
    "\n",
    "        print('rmse_train = ', rmse_train, \n",
    "              '\\n rmse_test', rmse_test,\n",
    "              '\\n mae_train', mae_train,\n",
    "              '\\n mae_test', mae_test)\n",
    "\n",
    "        mlflow.log_artifact(local_path = local_path_save+\"ohe.pkl\", artifact_path='preprocessing') \n",
    "        mlflow.sklearn.log_model(lr, artifact_path='model')\n",
    "    \n",
    "    return {'loss': rmse_test, 'status': STATUS_OK}\n",
    "    "
   ]
  },
  {
   "cell_type": "markdown",
   "id": "9cd22cc8",
   "metadata": {},
   "source": [
    "### Experiment"
   ]
  },
  {
   "cell_type": "code",
   "execution_count": 23,
   "id": "99264efd",
   "metadata": {},
   "outputs": [],
   "source": [
    "max_evals = 5\n",
    "\n",
    "ridge_parameters_search = {\n",
    "    'alpha': hp.lognormal('alpha', 0, 1),\n",
    "    'random_state': seed\n",
    "}"
   ]
  },
  {
   "cell_type": "code",
   "execution_count": 24,
   "id": "9e387976",
   "metadata": {
    "scrolled": true
   },
   "outputs": [
    {
     "name": "stdout",
     "output_type": "stream",
     "text": [
      "df shape (3576, 20)\n"
     ]
    }
   ],
   "source": [
    "prepr = Preprocess(input_data_path_train)\n",
    "X, Y = prepr.read_dataframe(request_tgt=True)\n",
    "\n",
    "X_train, X_test, Y_train, Y_test = train_test_split(X, Y, test_size=0.3, random_state=seed)\n",
    "\n",
    "#preprocessing ohe\n",
    "shapes_pre = (X_train.shape[0], X_test.shape[0])\n",
    "X_train_ohe, ohe = prepr.preprocess(df=X_train, fit_ohe=True)\n",
    "X_test_ohe, _ = prepr.preprocess(df=X_test, fit_ohe=False, ohe=ohe)\n",
    "assert shapes_pre == (X_train.shape[0], X_test.shape[0])\n",
    "dump(ohe, open(local_path_save+'ohe.pkl', 'wb'))"
   ]
  },
  {
   "cell_type": "code",
   "execution_count": 25,
   "id": "6094dc2e",
   "metadata": {
    "scrolled": true
   },
   "outputs": [
    {
     "name": "stdout",
     "output_type": "stream",
     "text": [
      "parametri qui:                                                                                                         \n",
      "{'alpha': 0.18664685239980144, 'random_state': 123}                                                                    \n",
      "rmse_train =                                                                                                           \n",
      "3.3417412100368336                                                                                                     \n",
      "                                                                                                                       \n",
      " rmse_test\n",
      "16078.420480351486                                                                                                     \n",
      "                                                                                                                       \n",
      " mae_train\n",
      "2.3264314700237856                                                                                                     \n",
      "                                                                                                                       \n",
      " mae_test\n",
      "506.632018012471                                                                                                       \n",
      "parametri qui:                                                                                                         \n",
      "{'alpha': 0.29810312605021877, 'random_state': 123}                                                                    \n",
      " 20%|██████████                                        | 1/5 [00:02<00:09,  2.30s/trial, best loss: 16078.420480351486]"
     ]
    },
    {
     "name": "stderr",
     "output_type": "stream",
     "text": [
      "/Users/davideposillipo/.pyenv/versions/3.10.9/envs/mlops/lib/python3.10/site-packages/_distutils_hack/__init__.py:33: UserWarning: Setuptools is replacing distutils.\n",
      "  warnings.warn(\"Setuptools is replacing distutils.\")\n",
      "\n"
     ]
    },
    {
     "name": "stdout",
     "output_type": "stream",
     "text": [
      "rmse_train =                                                                                                           \n",
      "3.3437131896347987                                                                                                     \n",
      "                                                                                                                       \n",
      " rmse_test\n",
      "15969.703320644589                                                                                                     \n",
      "                                                                                                                       \n",
      " mae_train\n",
      "2.328351416322692                                                                                                      \n",
      "                                                                                                                       \n",
      " mae_test\n",
      "503.2205380027892                                                                                                      \n",
      "parametri qui:                                                                                                         \n",
      "{'alpha': 0.937656619933378, 'random_state': 123}                                                                      \n",
      "rmse_train =                                                                                                           \n",
      "3.3612903553424833                                                                                                     \n",
      "                                                                                                                       \n",
      " rmse_test\n",
      "15513.65519667973                                                                                                      \n",
      "                                                                                                                       \n",
      " mae_train\n",
      "2.3431986531879647                                                                                                     \n",
      "                                                                                                                       \n",
      " mae_test\n",
      "488.91355803253094                                                                                                     \n",
      "parametri qui:                                                                                                         \n",
      "{'alpha': 0.491964781886115, 'random_state': 123}                                                                      \n",
      "rmse_train =                                                                                                           \n",
      "3.348223834017346                                                                                                      \n",
      "                                                                                                                       \n",
      " rmse_test\n",
      "15805.505738012595                                                                                                     \n",
      "                                                                                                                       \n",
      " mae_train\n",
      "2.3317555184118075                                                                                                     \n",
      "                                                                                                                       \n",
      " mae_test\n",
      "498.06849352002916                                                                                                     \n",
      "parametri qui:                                                                                                         \n",
      "{'alpha': 1.7708875603575491, 'random_state': 123}                                                                     \n",
      "rmse_train =                                                                                                           \n",
      "3.3889991927219367                                                                                                     \n",
      "                                                                                                                       \n",
      " rmse_test\n",
      "15156.184952584155                                                                                                     \n",
      "                                                                                                                       \n",
      " mae_train\n",
      "2.3662504832881974                                                                                                     \n",
      "                                                                                                                       \n",
      " mae_test\n",
      "477.70309875040385                                                                                                     \n",
      "100%|██████████████████████████████████████████████████| 5/5 [00:09<00:00,  1.81s/trial, best loss: 15156.184952584155]\n"
     ]
    },
    {
     "data": {
      "text/plain": [
       "{'alpha': 1.7708875603575491}"
      ]
     },
     "execution_count": 25,
     "metadata": {},
     "output_type": "execute_result"
    }
   ],
   "source": [
    "trials = Trials()\n",
    "\n",
    "best_result = fmin(\n",
    "    fn=partial(objective_lr_ridge, \n",
    "        X_train=X_train_ohe,\n",
    "        X_test=X_test_ohe,\n",
    "        Y_train=Y_train,\n",
    "        Y_test=Y_test),\n",
    "    space=ridge_parameters_search,\n",
    "    algo=tpe.suggest,\n",
    "    max_evals=max_evals,\n",
    "    trials=trials,\n",
    "    rstate=np.random.default_rng(seed)\n",
    ")\n",
    "\n",
    "best_result"
   ]
  },
  {
   "cell_type": "code",
   "execution_count": null,
   "id": "01c5dcb2",
   "metadata": {},
   "outputs": [],
   "source": []
  }
 ],
 "metadata": {
  "kernelspec": {
   "display_name": "Python 3 (ipykernel)",
   "language": "python",
   "name": "python3"
  },
  "language_info": {
   "codemirror_mode": {
    "name": "ipython",
    "version": 3
   },
   "file_extension": ".py",
   "mimetype": "text/x-python",
   "name": "python",
   "nbconvert_exporter": "python",
   "pygments_lexer": "ipython3",
   "version": "3.10.9"
  }
 },
 "nbformat": 4,
 "nbformat_minor": 5
}
