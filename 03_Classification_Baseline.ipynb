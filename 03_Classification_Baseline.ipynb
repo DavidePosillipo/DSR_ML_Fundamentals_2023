{
 "cells": [
  {
   "cell_type": "code",
   "execution_count": 1,
   "id": "36445b86",
   "metadata": {},
   "outputs": [],
   "source": [
    "import mlflow\n",
    "import os\n",
    "import numpy as np\n",
    "import pandas as pd\n",
    "\n",
    "from sklearn.model_selection import train_test_split\n",
    "\n",
    "import seaborn as sns\n",
    "import matplotlib.pyplot as plt\n",
    "\n",
    "from pickle import dump\n",
    "\n",
    "from scripts.Preprocessing import Preprocessing\n",
    "from scripts.BinaryClassificationTraining import BinaryClassificationTraining\n",
    "\n",
    "from scripts.config import (year_month_train, \n",
    "    input_data_path_train,\n",
    "    seed)"
   ]
  },
  {
   "cell_type": "code",
   "execution_count": 9,
   "id": "36b31eef",
   "metadata": {},
   "outputs": [],
   "source": [
    "local_path_save = './local_artifacts_tmp/03_Classification_Baseline/'\n",
    "year_month = year_month_train\n",
    "input_data_path = input_data_path_train"
   ]
  },
  {
   "cell_type": "markdown",
   "id": "0b32d9f2",
   "metadata": {},
   "source": [
    "### MLFlow setting"
   ]
  },
  {
   "cell_type": "code",
   "execution_count": 10,
   "id": "ebde894d",
   "metadata": {},
   "outputs": [],
   "source": [
    "if not os.path.exists(local_path_save):\n",
    "    os.makedirs(local_path_save)\n",
    "\n",
    "#save all metadata in a sqlite db. Artifacts will be saved on local folder ./mlflow    \n",
    "mlflow.set_tracking_uri(\"sqlite:///mlflow.db\")\n",
    "\n",
    "# Name of the experiment\n",
    "exp_name = \"03 - Classification Baseline\"\n",
    "# set up MlFlow axperiment\n",
    "experiment_id = mlflow.set_experiment(exp_name)"
   ]
  },
  {
   "cell_type": "markdown",
   "id": "c8350492",
   "metadata": {},
   "source": [
    "### Experiments"
   ]
  },
  {
   "cell_type": "code",
   "execution_count": 11,
   "id": "d19c1039",
   "metadata": {},
   "outputs": [],
   "source": [
    "run_name = 'base'"
   ]
  },
  {
   "cell_type": "code",
   "execution_count": 12,
   "id": "9d2ee31d",
   "metadata": {},
   "outputs": [],
   "source": [
    "baseline_classification_training = BinaryClassificationTraining(\n",
    "    input_data_path,\n",
    "    local_path_save,\n",
    "    year_month,\n",
    "    'baseline_classification')"
   ]
  },
  {
   "cell_type": "code",
   "execution_count": 13,
   "id": "598eb429",
   "metadata": {},
   "outputs": [
    {
     "name": "stderr",
     "output_type": "stream",
     "text": [
      "/Users/davideposillipo/Documents/Didattica.nosync/DSR_ML_Fundamentals_2023/scripts/Preprocessing.py:150: FutureWarning: Series.dt.weekofyear and Series.dt.week have been deprecated.  Please use Series.dt.isocalendar().week instead.\n",
      "  df['lpep_pickup_datetime_week'] = df['lpep_pickup_datetime'].dt.week\n",
      "/Users/davideposillipo/Documents/Didattica.nosync/DSR_ML_Fundamentals_2023/scripts/Preprocessing.py:150: FutureWarning: Series.dt.weekofyear and Series.dt.week have been deprecated.  Please use Series.dt.isocalendar().week instead.\n",
      "  df['lpep_pickup_datetime_week'] = df['lpep_pickup_datetime'].dt.week\n"
     ]
    }
   ],
   "source": [
    "prepr = Preprocessing(input_data_path_train, task_type='classification')\n",
    "X, Y = prepr.read_dataframe(request_tgt=True)\n",
    "\n",
    "X_train, X_test, Y_train, Y_test = train_test_split(X,Y, test_size=0.3, random_state=seed)\n",
    "\n",
    "#preprocessing ohe\n",
    "shapes_pre = (X_train.shape[0], X_test.shape[0])\n",
    "X_train_ohe, ohe = prepr.preprocess_for_classification(df=X_train, fit_ohe=True, drop_first_column=True)\n",
    "X_test_ohe, _ = prepr.preprocess_for_classification(df=X_test, fit_ohe=False, drop_first_column=True, ohe=ohe)\n",
    "assert shapes_pre == (X_train.shape[0], X_test.shape[0])\n",
    "dump(ohe, open(local_path_save + run_name + '_ohe.pkl', 'wb'))"
   ]
  },
  {
   "cell_type": "code",
   "execution_count": 14,
   "id": "83f056b7",
   "metadata": {},
   "outputs": [
    {
     "name": "stderr",
     "output_type": "stream",
     "text": [
      "/Users/davideposillipo/.pyenv/versions/3.10.9/envs/mlops/lib/python3.10/site-packages/sklearn/metrics/_classification.py:1318: UndefinedMetricWarning: Precision is ill-defined and being set to 0.0 due to no predicted samples. Use `zero_division` parameter to control this behavior.\n",
      "  _warn_prf(average, modifier, msg_start, len(result))\n",
      "/Users/davideposillipo/.pyenv/versions/3.10.9/envs/mlops/lib/python3.10/site-packages/sklearn/metrics/_classification.py:1318: UndefinedMetricWarning: Precision is ill-defined and being set to 0.0 due to no predicted samples. Use `zero_division` parameter to control this behavior.\n",
      "  _warn_prf(average, modifier, msg_start, len(result))\n"
     ]
    },
    {
     "name": "stdout",
     "output_type": "stream",
     "text": [
      "{'accuracy_train': 0.9808173477898249, 'accuracy_test': 0.97568093385214, 'precision_train': 0.0, 'precision_test': 0.0, 'recall_train': 0.0, 'recall_test': 0.0, 'f1_score_train': 0.0, 'f1_score_test': 0.0}\n"
     ]
    },
    {
     "data": {
      "text/plain": [
       "{'loss': 0.97568093385214, 'status': 'ok'}"
      ]
     },
     "execution_count": 14,
     "metadata": {},
     "output_type": "execute_result"
    }
   ],
   "source": [
    "baseline_classification_training.calculate_classification_baseline(Y_train=Y_train, Y_test=Y_test, run_name=run_name)"
   ]
  },
  {
   "cell_type": "code",
   "execution_count": null,
   "id": "192a4c5c",
   "metadata": {},
   "outputs": [],
   "source": []
  }
 ],
 "metadata": {
  "kernelspec": {
   "display_name": "Python 3 (ipykernel)",
   "language": "python",
   "name": "python3"
  },
  "language_info": {
   "codemirror_mode": {
    "name": "ipython",
    "version": 3
   },
   "file_extension": ".py",
   "mimetype": "text/x-python",
   "name": "python",
   "nbconvert_exporter": "python",
   "pygments_lexer": "ipython3",
   "version": "3.10.9"
  }
 },
 "nbformat": 4,
 "nbformat_minor": 5
}
