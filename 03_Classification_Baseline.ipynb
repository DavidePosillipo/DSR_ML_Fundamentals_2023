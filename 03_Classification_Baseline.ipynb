{
 "cells": [
  {
   "cell_type": "code",
   "execution_count": null,
   "id": "36445b86",
   "metadata": {},
   "outputs": [],
   "source": [
    "import mlflow\n",
    "import os\n",
    "import numpy as np\n",
    "import pandas as pd\n",
    "\n",
    "from sklearn.model_selection import train_test_split\n",
    "\n",
    "import seaborn as sns\n",
    "import matplotlib.pyplot as plt\n",
    "\n",
    "from pickle import dump\n",
    "\n",
    "from scripts.Preprocessing import Preprocessing\n",
    "from scripts.BinaryClassificationTraining import BinaryClassificationTraining\n",
    "\n",
    "from scripts.config import (year_month_train, \n",
    "    input_data_path_train,\n",
    "    seed)"
   ]
  },
  {
   "cell_type": "code",
   "execution_count": null,
   "id": "36b31eef",
   "metadata": {},
   "outputs": [],
   "source": [
    "local_path_save = './local_artifacts_tmp/03_Classification_Baseline/'\n",
    "year_month = year_month_train\n",
    "input_data_path = input_data_path_train"
   ]
  },
  {
   "cell_type": "markdown",
   "id": "0b32d9f2",
   "metadata": {},
   "source": [
    "### MLFlow setting"
   ]
  },
  {
   "cell_type": "code",
   "execution_count": null,
   "id": "ebde894d",
   "metadata": {},
   "outputs": [],
   "source": [
    "if not os.path.exists(local_path_save):\n",
    "    os.makedirs(local_path_save)\n",
    "\n",
    "#save all metadata in a sqlite db. Artifacts will be saved on local folder ./mlflow    \n",
    "mlflow.set_tracking_uri(\"sqlite:///mlflow.db\")\n",
    "\n",
    "# Name of the experiment\n",
    "exp_name = \"03 - Classification Baseline\"\n",
    "# set up MlFlow axperiment\n",
    "experiment_id = mlflow.set_experiment(exp_name)"
   ]
  },
  {
   "cell_type": "markdown",
   "id": "baab07a2",
   "metadata": {},
   "source": [
    "### Experiments"
   ]
  },
  {
   "cell_type": "code",
   "execution_count": null,
   "id": "d9faad7f",
   "metadata": {},
   "outputs": [],
   "source": [
    "run_name = 'base'"
   ]
  },
  {
   "cell_type": "code",
   "execution_count": null,
   "id": "2f21478a",
   "metadata": {},
   "outputs": [],
   "source": [
    "baseline_classification_training = BinaryClassificationTraining(\n",
    "    input_data_path,\n",
    "    local_path_save,\n",
    "    year_month,\n",
    "    'baseline_classification')"
   ]
  },
  {
   "cell_type": "code",
   "execution_count": null,
   "id": "fecde496",
   "metadata": {},
   "outputs": [],
   "source": [
    "prepr = Preprocessing(input_data_path_train, task_type='classification')\n",
    "X, Y = prepr.read_dataframe(request_tgt=True)\n",
    "\n",
    "X_train, X_test, Y_train, Y_test = train_test_split(X,Y, test_size=0.3, random_state=seed)"
   ]
  },
  {
   "cell_type": "code",
   "execution_count": null,
   "id": "eb9b0d7c",
   "metadata": {
    "scrolled": false
   },
   "outputs": [],
   "source": [
    "baseline_classification_training.calculate_classification_baseline(Y_train=Y_train, Y_test=Y_test, run_name=run_name)"
   ]
  }
 ],
 "metadata": {
  "kernelspec": {
   "display_name": "Python 3 (ipykernel)",
   "language": "python",
   "name": "python3"
  },
  "language_info": {
   "codemirror_mode": {
    "name": "ipython",
    "version": 3
   },
   "file_extension": ".py",
   "mimetype": "text/x-python",
   "name": "python",
   "nbconvert_exporter": "python",
   "pygments_lexer": "ipython3",
   "version": "3.10.9"
  }
 },
 "nbformat": 4,
 "nbformat_minor": 5
}
