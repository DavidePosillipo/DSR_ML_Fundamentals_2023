{
 "cells": [
  {
   "cell_type": "code",
   "execution_count": 1,
   "id": "36445b86",
   "metadata": {},
   "outputs": [],
   "source": [
    "import mlflow\n",
    "import os\n",
    "import numpy as np\n",
    "import pandas as pd\n",
    "\n",
    "from sklearn.linear_model import LinearRegression\n",
    "from sklearn.model_selection import train_test_split\n",
    "from sklearn.metrics import mean_squared_error, mean_absolute_error\n",
    "\n",
    "import seaborn as sns\n",
    "import matplotlib.pyplot as plt\n",
    "\n",
    "from pickle import dump\n",
    "\n",
    "from hyperopt import STATUS_OK\n",
    "\n",
    "from scripts.preprocessing_regression_models import Preprocess\n",
    "from scripts.model_registry import ModelRegistry\n",
    "from scripts.scoring import Scoring\n",
    "from scripts.monitoring import Monitoring\n",
    "from scripts.config_regression import (year_month_train, \n",
    "    input_data_path_train,\n",
    "    seed)"
   ]
  },
  {
   "cell_type": "code",
   "execution_count": 2,
   "id": "36b31eef",
   "metadata": {},
   "outputs": [],
   "source": [
    "local_path_save = './local_artifacts_tmp/01_Linear_Regression/'"
   ]
  },
  {
   "cell_type": "markdown",
   "id": "0b32d9f2",
   "metadata": {},
   "source": [
    "### MLFlow setting"
   ]
  },
  {
   "cell_type": "code",
   "execution_count": 3,
   "id": "ebde894d",
   "metadata": {},
   "outputs": [],
   "source": [
    "if not os.path.exists(local_path_save):\n",
    "    os.makedirs(local_path_save)\n",
    "\n",
    "#save all metadata in a sqlite db. Artifacts will be saved on local folder ./mlflow    \n",
    "mlflow.set_tracking_uri(\"sqlite:///mlflow.db\")\n",
    "\n",
    "# Name of the experiment\n",
    "exp_name = \"01 - Linear Regression\"\n",
    "# set up MlFlow axperiment\n",
    "experiment_id = mlflow.set_experiment(exp_name)"
   ]
  },
  {
   "cell_type": "code",
   "execution_count": 4,
   "id": "569c1085",
   "metadata": {},
   "outputs": [],
   "source": [
    "year_month = year_month_train\n",
    "input_data_path = input_data_path_train"
   ]
  },
  {
   "cell_type": "markdown",
   "id": "8da53181",
   "metadata": {},
   "source": [
    "### Fitting and evaluation functions"
   ]
  },
  {
   "cell_type": "code",
   "execution_count": 5,
   "id": "6a8dc721",
   "metadata": {
    "scrolled": true
   },
   "outputs": [],
   "source": [
    "def lr_evaluation(Y_train, Y_test, Y_pred_train, Y_pred_test):\n",
    "        ''' \n",
    "        Function for evaluation of Linear Regression goodness\n",
    "        '''\n",
    "        rmse_train = mean_squared_error(Y_train,Y_pred_train)**0.5\n",
    "        rmse_test = mean_squared_error(Y_test,Y_pred_test)**0.5\n",
    "        \n",
    "        mae_train = mean_absolute_error(Y_train, Y_pred_train)\n",
    "        mae_test = mean_absolute_error(Y_test, Y_pred_test)\n",
    "    \n",
    "        return rmse_train, rmse_test, mae_train, mae_test"
   ]
  },
  {
   "cell_type": "code",
   "execution_count": 6,
   "id": "79a07ae9",
   "metadata": {},
   "outputs": [],
   "source": [
    "def objective_lr(X_train, X_test, Y_train, Y_test, run_name: str = 'Unnamed'):\n",
    "    '''\n",
    "    Fitting function for Linear Regression\n",
    "    '''\n",
    "    with mlflow.start_run(run_name=run_name):\n",
    "        mlflow.set_tag('model_type','LinearRegression')\n",
    "        mlflow.set_tag('year_month',year_month)\n",
    "        \n",
    "        mlflow.log_param('model_type','LinearRegression')\n",
    "        mlflow.log_param('data',input_data_path)\n",
    "\n",
    "        lr = LinearRegression()\n",
    "\n",
    "        lr.fit(X_train, Y_train)\n",
    "\n",
    "        Y_pred_train = lr.predict(X_train)\n",
    "        Y_pred_test = lr.predict(X_test)\n",
    "        rmse_train, rmse_test, mae_train, mae_test = lr_evaluation(\n",
    "                Y_train, Y_test, Y_pred_train, Y_pred_test\n",
    "        )\n",
    "\n",
    "        mlflow.log_metrics({'rmse_train': rmse_train, \n",
    "                            'rmse_test': rmse_test,\n",
    "                            'mae_train': mae_train,\n",
    "                            'mae_test': mae_test})\n",
    "\n",
    "        print('rmse_train = ', rmse_train, \n",
    "              '\\n rmse_test', rmse_test,\n",
    "              '\\n mae_train', mae_train,\n",
    "              '\\n mae_test', mae_test)\n",
    "\n",
    "        mlflow.log_artifact(local_path = local_path_save + run_name + '_ohe.pkl', artifact_path='preprocessing') \n",
    "        mlflow.sklearn.log_model(lr, artifact_path='model')\n",
    "    \n",
    "    return {'loss': rmse_test, 'status': STATUS_OK}\n",
    "    "
   ]
  },
  {
   "cell_type": "markdown",
   "id": "7c9e386a",
   "metadata": {},
   "source": [
    "## Experiments"
   ]
  },
  {
   "cell_type": "markdown",
   "id": "2f28071e",
   "metadata": {},
   "source": [
    "### Experiment 1: base (keeping all observations)"
   ]
  },
  {
   "cell_type": "code",
   "execution_count": null,
   "id": "96c6a53b",
   "metadata": {},
   "outputs": [],
   "source": [
    "run_name = \"base\""
   ]
  },
  {
   "cell_type": "code",
   "execution_count": 7,
   "id": "9e387976",
   "metadata": {
    "scrolled": true
   },
   "outputs": [],
   "source": [
    "prepr = Preprocess(input_data_path_train)\n",
    "X, Y = prepr.read_dataframe(request_tgt=True)\n",
    "\n",
    "X_train, X_test, Y_train, Y_test = train_test_split(X,Y, test_size=0.3, random_state=seed)\n",
    "\n",
    "#preprocessing ohe\n",
    "shapes_pre = (X_train.shape[0], X_test.shape[0])\n",
    "X_train_ohe, ohe = prepr.preprocess(df=X_train, fit_ohe=True, drop_first_column=False)\n",
    "X_test_ohe, _ = prepr.preprocess(df=X_test, fit_ohe=False, drop_first_column=False, ohe=ohe)\n",
    "assert shapes_pre == (X_train.shape[0], X_test.shape[0])\n",
    "dump(ohe, open(local_path_save + run_name + '_ohe.pkl', 'wb'))"
   ]
  },
  {
   "cell_type": "code",
   "execution_count": 8,
   "id": "6094dc2e",
   "metadata": {
    "scrolled": true
   },
   "outputs": [
    {
     "name": "stdout",
     "output_type": "stream",
     "text": [
      "rmse_train =  3.340266027366716 \n",
      " rmse_test 16291.005898020625 \n",
      " mae_train 2.3235100430914657 \n",
      " mae_test 513.3030565867936\n"
     ]
    },
    {
     "name": "stderr",
     "output_type": "stream",
     "text": [
      "/Users/davideposillipo/.pyenv/versions/3.10.9/envs/mlops/lib/python3.10/site-packages/_distutils_hack/__init__.py:33: UserWarning: Setuptools is replacing distutils.\n",
      "  warnings.warn(\"Setuptools is replacing distutils.\")\n"
     ]
    },
    {
     "data": {
      "text/plain": [
       "{'loss': 16291.005898020625, 'status': 'ok'}"
      ]
     },
     "execution_count": 8,
     "metadata": {},
     "output_type": "execute_result"
    }
   ],
   "source": [
    "objective_lr(X_train=X_train_ohe,\n",
    "             X_test=X_test_ohe,\n",
    "             Y_train=Y_train,\n",
    "             Y_test=Y_test,\n",
    "             run_name=run_name)"
   ]
  },
  {
   "cell_type": "markdown",
   "id": "0ff3921a",
   "metadata": {},
   "source": [
    "### Experiment 2: no outliers (removing outliers from trip_distance)"
   ]
  },
  {
   "cell_type": "code",
   "execution_count": null,
   "id": "8f0eb2de",
   "metadata": {},
   "outputs": [],
   "source": [
    "run_name = \"no_outliers\""
   ]
  },
  {
   "cell_type": "code",
   "execution_count": 9,
   "id": "564d0a93",
   "metadata": {},
   "outputs": [],
   "source": [
    "prepr = Preprocess(input_data_path_train)\n",
    "X, Y = prepr.read_dataframe(request_tgt=True)\n",
    "\n",
    "X_train, X_test, Y_train, Y_test = train_test_split(X,Y, test_size=0.3, random_state=seed)\n",
    "\n",
    "X_train.loc[X_train['trip_distance']>1000, 'trip_distance'] = X_train['trip_distance'].median()\n",
    "\n",
    "#preprocessing ohe\n",
    "shapes_pre = (X_train.shape[0], X_test.shape[0])\n",
    "X_train_ohe, ohe = prepr.preprocess(df=X_train, fit_ohe=True, drop_first_column=False)\n",
    "X_test_ohe, _ = prepr.preprocess(df=X_test, fit_ohe=False, drop_first_column=False, ohe=ohe)\n",
    "assert shapes_pre == (X_train.shape[0], X_test.shape[0])\n",
    "dump(ohe, open(local_path_save + run_name + '_ohe.pkl', 'wb'))"
   ]
  },
  {
   "cell_type": "code",
   "execution_count": 10,
   "id": "88022b32",
   "metadata": {},
   "outputs": [
    {
     "name": "stdout",
     "output_type": "stream",
     "text": [
      "rmse_train =  3.340266027366716 \n",
      " rmse_test 84.88740387525604 \n",
      " mae_train 2.3235100430914657 \n",
      " mae_test 5.209576851415573\n"
     ]
    },
    {
     "data": {
      "text/plain": [
       "{'loss': 84.88740387525604, 'status': 'ok'}"
      ]
     },
     "execution_count": 10,
     "metadata": {},
     "output_type": "execute_result"
    }
   ],
   "source": [
    "objective_lr(X_train=X_train_ohe,\n",
    "             X_test=X_test_ohe,\n",
    "             Y_train=Y_train,\n",
    "             Y_test=Y_test,\n",
    "             run_name=run_name)"
   ]
  }
 ],
 "metadata": {
  "kernelspec": {
   "display_name": "Python 3 (ipykernel)",
   "language": "python",
   "name": "python3"
  },
  "language_info": {
   "codemirror_mode": {
    "name": "ipython",
    "version": 3
   },
   "file_extension": ".py",
   "mimetype": "text/x-python",
   "name": "python",
   "nbconvert_exporter": "python",
   "pygments_lexer": "ipython3",
   "version": "3.10.9"
  }
 },
 "nbformat": 4,
 "nbformat_minor": 5
}
