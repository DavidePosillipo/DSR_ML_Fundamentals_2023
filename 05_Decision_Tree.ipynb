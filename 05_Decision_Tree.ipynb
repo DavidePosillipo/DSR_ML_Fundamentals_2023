{
 "cells": [
  {
   "cell_type": "code",
   "execution_count": 1,
   "id": "36445b86",
   "metadata": {},
   "outputs": [],
   "source": [
    "import mlflow\n",
    "import os\n",
    "import numpy as np\n",
    "import pandas as pd\n",
    "import matplotlib.pyplot as plt\n",
    "\n",
    "from sklearn.model_selection import train_test_split\n",
    "import seaborn as sns\n",
    "import matplotlib.pyplot as plt\n",
    "\n",
    "from hyperopt import fmin, tpe, Trials, STATUS_OK, hp, space_eval\n",
    "from functools import partial\n",
    "\n",
    "from pickle import dump\n",
    "\n",
    "from scripts.Preprocessing import Preprocessing\n",
    "from scripts.BinaryClassificationTraining import BinaryClassificationTraining\n",
    "\n",
    "from scripts.config import (year_month_train, \n",
    "    input_data_path_train,\n",
    "    seed)"
   ]
  },
  {
   "cell_type": "code",
   "execution_count": 2,
   "id": "36b31eef",
   "metadata": {},
   "outputs": [],
   "source": [
    "local_path_save = './local_artifacts_tmp/05_Decision_Tree/'\n",
    "year_month = year_month_train\n",
    "input_data_path = input_data_path_train"
   ]
  },
  {
   "cell_type": "markdown",
   "id": "0b32d9f2",
   "metadata": {},
   "source": [
    "### MLFlow setting"
   ]
  },
  {
   "cell_type": "code",
   "execution_count": 3,
   "id": "ebde894d",
   "metadata": {},
   "outputs": [
    {
     "name": "stderr",
     "output_type": "stream",
     "text": [
      "2023/04/25 15:19:28 INFO mlflow.tracking.fluent: Experiment with name '05 - Decision Tree' does not exist. Creating a new experiment.\n"
     ]
    }
   ],
   "source": [
    "if not os.path.exists(local_path_save):\n",
    "    os.makedirs(local_path_save)\n",
    "\n",
    "#save all metadata in a sqlite db. Artifacts will be saved on local folder ./mlflow    \n",
    "mlflow.set_tracking_uri(\"sqlite:///mlflow.db\")\n",
    "\n",
    "# Name of the experiment\n",
    "exp_name = \"05 - Decision Tree\"\n",
    "# set up MlFlow axperiment\n",
    "experiment_id = mlflow.set_experiment(exp_name)"
   ]
  },
  {
   "cell_type": "markdown",
   "id": "f28854fe",
   "metadata": {},
   "source": [
    "### Experiments"
   ]
  },
  {
   "cell_type": "code",
   "execution_count": 5,
   "id": "ec621add",
   "metadata": {},
   "outputs": [],
   "source": [
    "run_name = 'april2023_base'"
   ]
  },
  {
   "cell_type": "code",
   "execution_count": 6,
   "id": "364cb4ba",
   "metadata": {},
   "outputs": [],
   "source": [
    "decision_tree_training = BinaryClassificationTraining(\n",
    "    input_data_path,\n",
    "    local_path_save,\n",
    "    year_month,\n",
    "    'decision_tree')"
   ]
  },
  {
   "cell_type": "code",
   "execution_count": 7,
   "id": "60281d74",
   "metadata": {
    "scrolled": true
   },
   "outputs": [
    {
     "name": "stderr",
     "output_type": "stream",
     "text": [
      "/Users/davideposillipo/Documents/Didattica.nosync/DSR_ML_Fundamentals_2023/scripts/Preprocessing.py:161: FutureWarning: Series.dt.weekofyear and Series.dt.week have been deprecated.  Please use Series.dt.isocalendar().week instead.\n",
      "  df['lpep_pickup_datetime_week'] = df['lpep_pickup_datetime'].dt.week\n",
      "/Users/davideposillipo/Documents/Didattica.nosync/DSR_ML_Fundamentals_2023/scripts/Preprocessing.py:161: FutureWarning: Series.dt.weekofyear and Series.dt.week have been deprecated.  Please use Series.dt.isocalendar().week instead.\n",
      "  df['lpep_pickup_datetime_week'] = df['lpep_pickup_datetime'].dt.week\n"
     ]
    }
   ],
   "source": [
    "prepr = Preprocessing(input_data_path_train, task_type='classification')\n",
    "X, Y = prepr.read_dataframe(request_tgt=True)\n",
    "\n",
    "X_train, X_test, Y_train, Y_test = train_test_split(X,Y, test_size=0.3, random_state=seed)\n",
    "\n",
    "\n",
    "#preprocessing ohe\n",
    "shapes_pre = (X_train.shape[0], X_test.shape[0])\n",
    "X_train_ohe, ohe, scaler = prepr.preprocess_for_classification(df=X_train, fit_ohe=True, perform_scaling=True)\n",
    "X_test_ohe, _, _ = prepr.preprocess_for_classification(df=X_test, \n",
    "                                                    fit_ohe=False, \n",
    "                                                    ohe=ohe,\n",
    "                                                    perform_scaling=True,\n",
    "                                                    scaler=scaler)\n",
    "assert shapes_pre == (X_train.shape[0], X_test.shape[0])\n",
    "dump(ohe, open(local_path_save + run_name + '_ohe.pkl', 'wb'))\n",
    "dump(scaler, open(local_path_save + run_name + '_scaler.pkl', 'wb'))"
   ]
  },
  {
   "cell_type": "code",
   "execution_count": 8,
   "id": "80a8d945",
   "metadata": {},
   "outputs": [
    {
     "name": "stderr",
     "output_type": "stream",
     "text": [
      "/Users/davideposillipo/.pyenv/versions/3.10.9/envs/mlops/lib/python3.10/site-packages/sklearn/metrics/_classification.py:1318: UndefinedMetricWarning: Precision is ill-defined and being set to 0.0 due to no predicted samples. Use `zero_division` parameter to control this behavior.\n",
      "  _warn_prf(average, modifier, msg_start, len(result))\n",
      "/Users/davideposillipo/.pyenv/versions/3.10.9/envs/mlops/lib/python3.10/site-packages/sklearn/metrics/_classification.py:1318: UndefinedMetricWarning: Precision is ill-defined and being set to 0.0 due to no predicted samples. Use `zero_division` parameter to control this behavior.\n",
      "  _warn_prf(average, modifier, msg_start, len(result))\n"
     ]
    },
    {
     "data": {
      "text/plain": [
       "{'loss': 0.5, 'status': 'ok'}"
      ]
     },
     "execution_count": 8,
     "metadata": {},
     "output_type": "execute_result"
    }
   ],
   "source": [
    "# Calculating the baseline\n",
    "decision_tree_training.calculate_classification_baseline(Y_train=Y_train, Y_test=Y_test, run_name=run_name)\n"
   ]
  },
  {
   "cell_type": "code",
   "execution_count": 9,
   "id": "bbc2c960",
   "metadata": {},
   "outputs": [],
   "source": [
    "# TODO complete the experiment using your implementation from BinaryClassificationTraining"
   ]
  },
  {
   "cell_type": "code",
   "execution_count": 11,
   "id": "4403bf88",
   "metadata": {},
   "outputs": [
    {
     "name": "stdout",
     "output_type": "stream",
     "text": [
      "100%|██████████████████████████████████████████████████████████| 1/1 [00:01<00:00,  1.89s/trial, best loss: 0.5850768124270515]\n",
      "  0%|                                                                                    | 0/1 [00:00<?, ?trial/s, best loss=?]"
     ]
    },
    {
     "name": "stderr",
     "output_type": "stream",
     "text": [
      "/Users/davideposillipo/.pyenv/versions/3.10.9/envs/mlops/lib/python3.10/site-packages/_distutils_hack/__init__.py:33: UserWarning: Setuptools is replacing distutils.\n",
      "  warnings.warn(\"Setuptools is replacing distutils.\")\n",
      "\n"
     ]
    },
    {
     "name": "stdout",
     "output_type": "stream",
     "text": [
      "100%|██████████████████████████████████████████████████████████| 1/1 [00:01<00:00,  1.31s/trial, best loss: 0.5966125820801937]\n",
      "100%|██████████████████████████████████████████████████████████| 1/1 [00:01<00:00,  1.41s/trial, best loss: 0.5847588427689119]\n",
      "100%|██████████████████████████████████████████████████████████| 1/1 [00:01<00:00,  1.28s/trial, best loss: 0.5549439076537586]\n",
      "100%|███████████████████████████████████████████████████████████| 1/1 [00:01<00:00,  1.58s/trial, best loss: 0.539816999389641]\n",
      "100%|██████████████████████████████████████████████████████████| 1/1 [00:01<00:00,  1.61s/trial, best loss: 0.5314398820210614]\n"
     ]
    }
   ],
   "source": [
    "for d in np.arange(2,20,3, dtype=int):\n",
    "\n",
    "    max_evals = 1\n",
    "\n",
    "    # Here we can decide which hyperparameters we want to tune\n",
    "    classification_tree_parameters_search = {\n",
    "        'max_depth': d,\n",
    "        'random_state': seed\n",
    "    }\n",
    "\n",
    "    decision_tree_training.set_hyperparameter_space(classification_tree_parameters_search)\n",
    "\n",
    "    trials = Trials()\n",
    "\n",
    "    best_result = fmin(\n",
    "        fn=partial(decision_tree_training.objective_decision_tree, \n",
    "            X_train=X_train_ohe,\n",
    "            X_test=X_test_ohe,\n",
    "            Y_train=Y_train,\n",
    "            Y_test=Y_test,\n",
    "            run_name=run_name,\n",
    "            threshold=0.5),\n",
    "        space=decision_tree_training.hp_space,\n",
    "        algo=tpe.suggest,\n",
    "        max_evals=max_evals,\n",
    "        trials=trials,\n",
    "        rstate=np.random.default_rng(seed)\n",
    "    )\n",
    "\n",
    "    best_result"
   ]
  },
  {
   "cell_type": "code",
   "execution_count": null,
   "id": "e1e83fd8",
   "metadata": {},
   "outputs": [],
   "source": []
  }
 ],
 "metadata": {
  "kernelspec": {
   "display_name": "Python 3 (ipykernel)",
   "language": "python",
   "name": "python3"
  },
  "language_info": {
   "codemirror_mode": {
    "name": "ipython",
    "version": 3
   },
   "file_extension": ".py",
   "mimetype": "text/x-python",
   "name": "python",
   "nbconvert_exporter": "python",
   "pygments_lexer": "ipython3",
   "version": "3.10.9"
  }
 },
 "nbformat": 4,
 "nbformat_minor": 5
}
