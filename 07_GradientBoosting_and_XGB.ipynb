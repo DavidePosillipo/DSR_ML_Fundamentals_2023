{
 "cells": [
  {
   "cell_type": "code",
   "execution_count": null,
   "id": "36445b86",
   "metadata": {},
   "outputs": [],
   "source": [
    "import mlflow\n",
    "import os\n",
    "import numpy as np\n",
    "import pandas as pd\n",
    "import matplotlib.pyplot as plt\n",
    "\n",
    "from sklearn.model_selection import train_test_split\n",
    "import seaborn as sns\n",
    "import matplotlib.pyplot as plt\n",
    "\n",
    "from hyperopt import fmin, tpe, Trials, STATUS_OK, hp, space_eval\n",
    "from hyperopt.pyll import scope\n",
    "from functools import partial\n",
    "\n",
    "from pickle import dump\n",
    "\n",
    "from scripts.Preprocessing import Preprocessing\n",
    "from scripts.BinaryClassificationTraining import BinaryClassificationTraining\n",
    "\n",
    "from scripts.config import (year_month_train, \n",
    "    input_data_path_train,\n",
    "    seed)"
   ]
  },
  {
   "cell_type": "code",
   "execution_count": null,
   "id": "36b31eef",
   "metadata": {},
   "outputs": [],
   "source": [
    "local_path_save = './local_artifacts_tmp/07_GB_XGB/'\n",
    "year_month = year_month_train\n",
    "input_data_path = input_data_path_train"
   ]
  },
  {
   "cell_type": "markdown",
   "id": "0b32d9f2",
   "metadata": {},
   "source": [
    "### MLFlow setting"
   ]
  },
  {
   "cell_type": "code",
   "execution_count": null,
   "id": "ebde894d",
   "metadata": {},
   "outputs": [],
   "source": [
    "if not os.path.exists(local_path_save):\n",
    "    os.makedirs(local_path_save)\n",
    "\n",
    "#save all metadata in a sqlite db. Artifacts will be saved on local folder ./mlflow    \n",
    "mlflow.set_tracking_uri(\"sqlite:///mlflow.db\")\n",
    "\n",
    "# Name of the experiment\n",
    "exp_name = \"07 - GB and XGB\"\n",
    "# set up MlFlow axperiment\n",
    "experiment_id = mlflow.set_experiment(exp_name)"
   ]
  },
  {
   "cell_type": "markdown",
   "id": "45890c45",
   "metadata": {},
   "source": [
    "## Gradient Boosting (sklearn implementation)"
   ]
  },
  {
   "cell_type": "markdown",
   "id": "e9c23364",
   "metadata": {},
   "source": [
    "Write here your experiments, using what we have already done in the previous sections"
   ]
  },
  {
   "cell_type": "code",
   "execution_count": null,
   "id": "12fa7ae6",
   "metadata": {},
   "outputs": [],
   "source": [
    "#TODO"
   ]
  },
  {
   "cell_type": "code",
   "execution_count": null,
   "id": "a092af7a",
   "metadata": {},
   "outputs": [],
   "source": []
  },
  {
   "cell_type": "code",
   "execution_count": null,
   "id": "7952e295",
   "metadata": {},
   "outputs": [],
   "source": []
  },
  {
   "cell_type": "code",
   "execution_count": null,
   "id": "721dc843",
   "metadata": {},
   "outputs": [],
   "source": []
  },
  {
   "cell_type": "code",
   "execution_count": null,
   "id": "32cd519f",
   "metadata": {},
   "outputs": [],
   "source": []
  },
  {
   "cell_type": "markdown",
   "id": "f28854fe",
   "metadata": {},
   "source": [
    "## XGB with categorical variables"
   ]
  },
  {
   "cell_type": "code",
   "execution_count": null,
   "id": "ec621add",
   "metadata": {},
   "outputs": [],
   "source": [
    "run_name = 'xgb_categorical'"
   ]
  },
  {
   "cell_type": "code",
   "execution_count": null,
   "id": "364cb4ba",
   "metadata": {},
   "outputs": [],
   "source": [
    "xgb_cat_training = BinaryClassificationTraining(\n",
    "    input_data_path,\n",
    "    local_path_save,\n",
    "    year_month,\n",
    "    'xgb_cat')"
   ]
  },
  {
   "cell_type": "code",
   "execution_count": null,
   "id": "60281d74",
   "metadata": {
    "scrolled": true
   },
   "outputs": [],
   "source": [
    "prepr = Preprocessing(input_data_path_train, task_type='classification')\n",
    "X, Y = prepr.read_dataframe(request_tgt=True)\n",
    "\n",
    "X_train, X_test, Y_train, Y_test = train_test_split(X,Y, test_size=0.3, random_state=seed)\n",
    "\n",
    "\n",
    "#preprocessing ohe\n",
    "shapes_pre = (X_train.shape[0], X_test.shape[0])\n",
    "X_train_cat, _, scaler = prepr.preprocess_for_classification(df=X_train, \n",
    "                                                               enable_categorical=True, \n",
    "                                                               perform_scaling=True)\n",
    "X_test_cat, _, _ = prepr.preprocess_for_classification(df=X_test, \n",
    "                                                    enable_categorical=True,\n",
    "                                                    perform_scaling=True,\n",
    "                                                    scaler=scaler)\n",
    "assert shapes_pre == (X_train.shape[0], X_test.shape[0])\n",
    "dump(scaler, open(local_path_save + run_name + '_scaler.pkl', 'wb'))"
   ]
  },
  {
   "cell_type": "code",
   "execution_count": null,
   "id": "80a8d945",
   "metadata": {},
   "outputs": [],
   "source": [
    "# Calculating the baseline\n",
    "\n",
    "xgb_cat_training.calculate_classification_baseline(Y_train=Y_train, \n",
    "                                               Y_test=Y_test, run_name=run_name)\n"
   ]
  },
  {
   "cell_type": "code",
   "execution_count": null,
   "id": "a51e9adf",
   "metadata": {},
   "outputs": [],
   "source": [
    "max_evals = 3\n",
    "\n",
    "# Here we can decide which hyperparameters we want to tune\n",
    "xgboost_cat_parameters_search = {\n",
    "    # https://xgboost-clone.readthedocs.io/en/latest/parameter.html#learning-task-parameters\n",
    "    \"objective\":'binary:logistic',\n",
    "    \"tree_method\": \"hist\",\n",
    "    #\"n_estimators\": scope.int(hp.quniform('n_estimators', 5, 20, 1)),\n",
    "    \"n_estimators\": 100,\n",
    "    \"eval_metric\": \"auc\", \n",
    "    \"max_depth\": hp.choice('max_depth', np.arange(1, 5, dtype=int)), #xgb alllows only int max_depth (max_depth=1.0 will raise an error)\n",
    "    'eta': hp.uniform('eta', 0.5, 2),\n",
    "    #\"colsample_bylevel\": 0.7,# stocastic gb (at each split(level) randomly choose between 70% of features )\n",
    "    'enable_categorical': True, #if categorical data are present (i.e. fetures with pandas type='Category') they are managed, If they are not present and 'enable_categorical=True --> no problem\n",
    "    #\"early_stopping_rounds\": 10,\n",
    "    \"seed\": seed\n",
    "}\n",
    "\n",
    "xgb_cat_training.set_hyperparameter_space(xgboost_cat_parameters_search)"
   ]
  },
  {
   "cell_type": "code",
   "execution_count": null,
   "id": "beca486b",
   "metadata": {},
   "outputs": [],
   "source": [
    "trials = Trials()\n",
    "\n",
    "best_result = fmin(\n",
    "    fn=partial(xgb_cat_training.objective_xgb, \n",
    "        X_train=X_train_cat,\n",
    "        X_test=X_test_cat,\n",
    "        Y_train=Y_train,\n",
    "        Y_test=Y_test,\n",
    "        save_ohe=False,\n",
    "        run_name=run_name,\n",
    "        threshold=0.5),\n",
    "    space=xgb_cat_training.hp_space,\n",
    "    algo=tpe.suggest,\n",
    "    max_evals=max_evals,\n",
    "    trials=trials,\n",
    "    rstate=np.random.default_rng(seed)\n",
    ")\n",
    "\n",
    "best_result"
   ]
  },
  {
   "cell_type": "markdown",
   "id": "4966f472",
   "metadata": {},
   "source": [
    "## XGB with OHE"
   ]
  },
  {
   "cell_type": "code",
   "execution_count": null,
   "id": "cb70197a",
   "metadata": {},
   "outputs": [],
   "source": [
    "run_name = 'xgb_ohe'"
   ]
  },
  {
   "cell_type": "code",
   "execution_count": null,
   "id": "87bd453a",
   "metadata": {},
   "outputs": [],
   "source": [
    "xgb_ohe_training = BinaryClassificationTraining(\n",
    "    input_data_path,\n",
    "    local_path_save,\n",
    "    year_month,\n",
    "    'xgb_ohe')"
   ]
  },
  {
   "cell_type": "code",
   "execution_count": null,
   "id": "e1517859",
   "metadata": {
    "scrolled": true
   },
   "outputs": [],
   "source": [
    "prepr = Preprocessing(input_data_path_train, task_type='classification')\n",
    "X, Y = prepr.read_dataframe(request_tgt=True)\n",
    "\n",
    "X_train, X_test, Y_train, Y_test = train_test_split(X,Y, test_size=0.3, random_state=seed)\n",
    "\n",
    "\n",
    "#preprocessing ohe\n",
    "shapes_pre = (X_train.shape[0], X_test.shape[0])\n",
    "X_train_ohe, ohe, scaler = prepr.preprocess_for_classification(df=X_train, \n",
    "                                                               fit_ohe=True,\n",
    "                                                               perform_scaling=True)\n",
    "X_test_ohe, _, _ = prepr.preprocess_for_classification(df=X_test, \n",
    "                                                    ohe=ohe,\n",
    "                                                    perform_scaling=True,\n",
    "                                                    scaler=scaler)\n",
    "assert shapes_pre == (X_train.shape[0], X_test.shape[0])\n",
    "dump(ohe, open(local_path_save + run_name + '_ohe.pkl', 'wb'))\n",
    "dump(scaler, open(local_path_save + run_name + '_scaler.pkl', 'wb'))"
   ]
  },
  {
   "cell_type": "code",
   "execution_count": null,
   "id": "9adee2a6",
   "metadata": {},
   "outputs": [],
   "source": [
    "# Calculating the baseline\n",
    "\n",
    "xgb_ohe_training.calculate_classification_baseline(Y_train=Y_train, \n",
    "                                               Y_test=Y_test, run_name=run_name)\n"
   ]
  },
  {
   "cell_type": "code",
   "execution_count": null,
   "id": "29036ec3",
   "metadata": {},
   "outputs": [],
   "source": [
    "max_evals = 3\n",
    "\n",
    "# Here we can decide which hyperparameters we want to tune\n",
    "xgboost_ohe_parameters_search = {\n",
    "    # https://xgboost-clone.readthedocs.io/en/latest/parameter.html#learning-task-parameters\n",
    "    \"objective\":'binary:logistic',\n",
    "    \"tree_method\": \"hist\",\n",
    "    #\"n_estimators\": scope.int(hp.quniform('n_estimators', 5, 20, 1)),\n",
    "    \"n_estimators\": 100,\n",
    "    \"eval_metric\": \"auc\", \n",
    "    \"max_depth\": hp.choice('max_depth', np.arange(1, 5, dtype=int)), #xgb alllows only int max_depth (max_depth=1.0 will raise an error)\n",
    "    'eta': hp.uniform('eta', 0.5, 2),\n",
    "    #\"colsample_bylevel\": 0.7,# stocastic gb (at each split(level) randomly choose between 70% of features )\n",
    "    'enable_categorical': False, #if categorical data are present (i.e. fetures with pandas type='Category') they are managed, If they are not present and 'enable_categorical=True --> no problem\n",
    "    #\"early_stopping_rounds\": 10,\n",
    "    \"seed\": seed\n",
    "}\n",
    "\n",
    "xgb_ohe_training.set_hyperparameter_space(xgboost_ohe_parameters_search)"
   ]
  },
  {
   "cell_type": "code",
   "execution_count": null,
   "id": "1ead37ea",
   "metadata": {},
   "outputs": [],
   "source": [
    "trials = Trials()\n",
    "\n",
    "best_result = fmin(\n",
    "    fn=partial(xgb_ohe_training.objective_xgb, \n",
    "        X_train=X_train_ohe,\n",
    "        X_test=X_test_ohe,\n",
    "        Y_train=Y_train,\n",
    "        Y_test=Y_test,\n",
    "        run_name=run_name,\n",
    "        threshold=0.5),\n",
    "    space=xgb_ohe_training.hp_space,\n",
    "    algo=tpe.suggest,\n",
    "    max_evals=max_evals,\n",
    "    trials=trials,\n",
    "    rstate=np.random.default_rng(seed)\n",
    ")\n",
    "\n",
    "best_result"
   ]
  },
  {
   "cell_type": "markdown",
   "id": "121a66d0",
   "metadata": {},
   "source": [
    "### Learning Curve of the best model"
   ]
  },
  {
   "cell_type": "code",
   "execution_count": null,
   "id": "5f212ceb",
   "metadata": {},
   "outputs": [],
   "source": [
    "from sklearn.model_selection import learning_curve\n",
    "from xgboost import XGBClassifier\n",
    "from sklearn.metrics import roc_auc_score, make_scorer"
   ]
  },
  {
   "cell_type": "code",
   "execution_count": null,
   "id": "f0e21940",
   "metadata": {},
   "outputs": [],
   "source": [
    "roc_auc_scorer = make_scorer(roc_auc_score, needs_proba=True)"
   ]
  },
  {
   "cell_type": "code",
   "execution_count": null,
   "id": "2241c58c",
   "metadata": {},
   "outputs": [],
   "source": [
    "best_hps = xgboost_ohe_parameters_search.copy()\n",
    "best_hps['eta'] = best_result['eta']\n",
    "best_hps['max_depth'] = best_result['max_depth']"
   ]
  },
  {
   "cell_type": "code",
   "execution_count": null,
   "id": "a8423f0a",
   "metadata": {
    "scrolled": true
   },
   "outputs": [],
   "source": [
    "best_hps"
   ]
  },
  {
   "cell_type": "code",
   "execution_count": null,
   "id": "6a16a9bc",
   "metadata": {},
   "outputs": [],
   "source": [
    "best_xgb_ohe = XGBClassifier(**best_hps)"
   ]
  },
  {
   "cell_type": "code",
   "execution_count": null,
   "id": "00af49db",
   "metadata": {},
   "outputs": [],
   "source": [
    "train_sizes, train_scores, test_scores = learning_curve(estimator=best_xgb_ohe, X=X_train_ohe, y=Y_train,\n",
    "                                                       cv=10, train_sizes=np.linspace(0.1, 1.0, 10),\n",
    "                                                     n_jobs=-1,\n",
    "                                                       scoring=roc_auc_scorer)"
   ]
  },
  {
   "cell_type": "code",
   "execution_count": null,
   "id": "20593d84",
   "metadata": {},
   "outputs": [],
   "source": [
    "train_mean = np.mean(train_scores, axis=1)\n",
    "train_std = np.std(train_scores, axis=1)\n",
    "test_mean = np.mean(test_scores, axis=1)\n",
    "test_std = np.std(test_scores, axis=1)"
   ]
  },
  {
   "cell_type": "code",
   "execution_count": null,
   "id": "68b787a3",
   "metadata": {},
   "outputs": [],
   "source": [
    "plt.plot(train_sizes, train_mean, color='blue', marker='o', markersize=5, label='Training ROC AUC')\n",
    "plt.fill_between(train_sizes, train_mean + train_std, train_mean - train_std, alpha=0.15, color='blue')\n",
    "plt.plot(train_sizes, test_mean, color='green', marker='+', markersize=5, linestyle='--', label='Validation ROC AUC')\n",
    "plt.fill_between(train_sizes, test_mean + test_std, test_mean - test_std, alpha=0.15, color='green')\n",
    "plt.title('Learning Curve')\n",
    "plt.xlabel('Training Data Size')\n",
    "plt.ylabel('Model ROC AUC')\n",
    "plt.grid()\n",
    "plt.legend(loc='lower right')\n",
    "plt.show()"
   ]
  },
  {
   "cell_type": "code",
   "execution_count": null,
   "id": "b7998cea",
   "metadata": {},
   "outputs": [],
   "source": []
  },
  {
   "cell_type": "code",
   "execution_count": null,
   "id": "920a1eb9",
   "metadata": {},
   "outputs": [],
   "source": []
  }
 ],
 "metadata": {
  "kernelspec": {
   "display_name": "Python 3 (ipykernel)",
   "language": "python",
   "name": "python3"
  },
  "language_info": {
   "codemirror_mode": {
    "name": "ipython",
    "version": 3
   },
   "file_extension": ".py",
   "mimetype": "text/x-python",
   "name": "python",
   "nbconvert_exporter": "python",
   "pygments_lexer": "ipython3",
   "version": "3.10.9"
  }
 },
 "nbformat": 4,
 "nbformat_minor": 5
}
