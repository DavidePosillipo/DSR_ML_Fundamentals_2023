{
 "cells": [
  {
   "cell_type": "code",
   "execution_count": null,
   "id": "36445b86",
   "metadata": {},
   "outputs": [],
   "source": [
    "import mlflow\n",
    "import os\n",
    "import numpy as np\n",
    "from sklearn.model_selection import train_test_split\n",
    "\n",
    "from pickle import dump\n",
    "\n",
    "from hyperopt import fmin, tpe, Trials, STATUS_OK, hp, space_eval\n",
    "from functools import partial\n",
    "\n",
    "from scripts.Preprocessing import Preprocessing\n",
    "from scripts.LinearRegressionTraining import LinearRegressionTraining\n",
    "\n",
    "from scripts.config import (year_month_train,\n",
    "    model_name_pref,\n",
    "    input_data_path_train,\n",
    "    seed)"
   ]
  },
  {
   "cell_type": "code",
   "execution_count": null,
   "id": "bb8cf94f",
   "metadata": {},
   "outputs": [],
   "source": [
    "local_path_save = './local_artifacts_tmp/02_4_LinearRegression_comparison/'\n",
    "year_month = year_month_train\n",
    "input_data_path = input_data_path_train"
   ]
  },
  {
   "cell_type": "markdown",
   "id": "0b32d9f2",
   "metadata": {},
   "source": [
    "### MLFlow setting"
   ]
  },
  {
   "cell_type": "code",
   "execution_count": null,
   "id": "ebde894d",
   "metadata": {},
   "outputs": [],
   "source": [
    "if not os.path.exists(local_path_save):\n",
    "    os.makedirs(local_path_save)\n",
    "\n",
    "#save all metadata in a sqlite db. Artifacts will be saved on local folder ./mlflow    \n",
    "mlflow.set_tracking_uri(\"sqlite:///mlflow.db\")\n",
    "\n",
    "# Name of the experiment\n",
    "exp_name = \"02.3 - LR comparison\"\n",
    "# set up MlFlow axperiment\n",
    "experiment_id = mlflow.set_experiment(exp_name)"
   ]
  },
  {
   "cell_type": "markdown",
   "id": "9cd22cc8",
   "metadata": {},
   "source": [
    "### Experiment"
   ]
  },
  {
   "cell_type": "code",
   "execution_count": null,
   "id": "babd4fb6",
   "metadata": {},
   "outputs": [],
   "source": [
    "run_name = 'base'"
   ]
  },
  {
   "cell_type": "code",
   "execution_count": null,
   "id": "6e5a94b6",
   "metadata": {},
   "outputs": [],
   "source": [
    "linear_regression_training = LinearRegressionTraining(\n",
    "    input_data_path,\n",
    "    local_path_save,\n",
    "    year_month,\n",
    "    'linear_regression')\n",
    "\n",
    "ridge_regression_training = LinearRegressionTraining(\n",
    "    input_data_path,\n",
    "    local_path_save,\n",
    "    year_month,\n",
    "    'ridge')\n",
    "\n",
    "lasso_regression_training = LinearRegressionTraining(\n",
    "    input_data_path,\n",
    "    local_path_save,\n",
    "    year_month,\n",
    "    'lasso')\n",
    "\n",
    "elastic_net_regression_training = LinearRegressionTraining(\n",
    "    input_data_path,\n",
    "    local_path_save,\n",
    "    year_month,\n",
    "    'elastic_net')"
   ]
  },
  {
   "cell_type": "code",
   "execution_count": null,
   "id": "a4f2e9f8",
   "metadata": {},
   "outputs": [],
   "source": [
    "max_evals = 5\n",
    "\n",
    "# Here we can decide which hyperparameters we want to tune\n",
    "# For the Elastic Net regression, alpha tunes the amount of regularization\n",
    "# Alpha = 0 means no regularization == Linear Regression\n",
    "# l1_ratio is the mixing parameter: 0 means only L2 reg, 1 means only L1 reg\n",
    "elastic_net_parameters_search = {\n",
    "    'alpha': hp.lognormal('alpha', 0, 1),\n",
    "    'l1_ratio': hp.uniform('l1_ratio', 0, 1),\n",
    "    'random_state': seed\n",
    "}\n",
    "\n",
    "elastic_net_regression_training.set_hyperparameter_space(elastic_net_parameters_search)\n",
    "\n",
    "# For the Ridge regression, alpha tunes the amount of regularization\n",
    "# Alpha = 0 means no regularization == Linear Regression\n",
    "ridge_parameters_search = {\n",
    "    'alpha': hp.lognormal('alpha', 0, 1),\n",
    "    'random_state': seed\n",
    "}\n",
    "\n",
    "ridge_regression_training.set_hyperparameter_space(ridge_parameters_search)\n",
    "\n",
    "# For the Lasso regression, alpha tunes the amount of regularization\n",
    "# Alpha = 0 means no regularization == Linear Regression\n",
    "lasso_parameters_search = {\n",
    "    'alpha': hp.lognormal('alpha', 0, 1),\n",
    "    'random_state': seed\n",
    "}\n",
    "\n",
    "lasso_regression_training.set_hyperparameter_space(lasso_parameters_search)"
   ]
  },
  {
   "cell_type": "code",
   "execution_count": null,
   "id": "9e387976",
   "metadata": {
    "scrolled": true
   },
   "outputs": [],
   "source": [
    "#### Data Preprocessing ####\n",
    "\n",
    "prepr = Preprocessing(input_data_path_train)\n",
    "X, Y = prepr.read_dataframe(request_tgt=True)\n",
    "\n",
    "X_train, X_test, Y_train, Y_test = train_test_split(X, Y, test_size=0.3, random_state=seed)\n",
    "\n",
    "#preprocessing ohe\n",
    "shapes_pre = (X_train.shape[0], X_test.shape[0])\n",
    "X_train_ohe, ohe = prepr.preprocess_for_regression(df=X_train, fit_ohe=True, drop_first_column=True)\n",
    "X_test_ohe, _ = prepr.preprocess_for_regression(df=X_test, fit_ohe=False, ohe=ohe, drop_first_column=True)\n",
    "\n",
    "assert shapes_pre == (X_train.shape[0], X_test.shape[0])\n",
    "dump(ohe, open(local_path_save + run_name + '_ohe.pkl', 'wb'))"
   ]
  },
  {
   "cell_type": "code",
   "execution_count": null,
   "id": "c0edf26d",
   "metadata": {},
   "outputs": [],
   "source": [
    "# Calculating regression baseline\n",
    "linear_regression_training.calculate_regression_baseline(Y_train=Y_train, Y_test=Y_test, run_name=run_name)"
   ]
  },
  {
   "cell_type": "code",
   "execution_count": null,
   "id": "6094dc2e",
   "metadata": {
    "scrolled": true
   },
   "outputs": [],
   "source": [
    "models = [linear_regression_training,\n",
    "         ridge_regression_training,\n",
    "         lasso_regression_training,\n",
    "         elastic_net_regression_training]\n",
    "\n",
    "for model in models:\n",
    "    trials = Trials() \n",
    "    if model.model_name == 'linear_regression':\n",
    "        best_result = model.objective_lr(X_train=X_train_ohe,\n",
    "             X_test=X_test_ohe,\n",
    "             Y_train=Y_train,\n",
    "             Y_test=Y_test,\n",
    "             run_name=run_name)\n",
    "    else:\n",
    "        objective_function = getattr(model, 'objective_lr_' + model.model_name)\n",
    "        \n",
    "        best_result = fmin(\n",
    "            fn=partial(objective_function, \n",
    "                X_train=X_train_ohe,\n",
    "                X_test=X_test_ohe,\n",
    "                Y_train=Y_train,\n",
    "                Y_test=Y_test,\n",
    "                run_name=run_name),\n",
    "            space=model.hp_space,\n",
    "            algo=tpe.suggest,\n",
    "            max_evals=max_evals,\n",
    "            trials=trials,\n",
    "            rstate=np.random.default_rng(seed)\n",
    "        )\n",
    "    \n",
    "    best_result"
   ]
  },
  {
   "cell_type": "code",
   "execution_count": null,
   "id": "54aa4841",
   "metadata": {},
   "outputs": [],
   "source": []
  }
 ],
 "metadata": {
  "kernelspec": {
   "display_name": "Python 3 (ipykernel)",
   "language": "python",
   "name": "python3"
  },
  "language_info": {
   "codemirror_mode": {
    "name": "ipython",
    "version": 3
   },
   "file_extension": ".py",
   "mimetype": "text/x-python",
   "name": "python",
   "nbconvert_exporter": "python",
   "pygments_lexer": "ipython3",
   "version": "3.10.9"
  }
 },
 "nbformat": 4,
 "nbformat_minor": 5
}
