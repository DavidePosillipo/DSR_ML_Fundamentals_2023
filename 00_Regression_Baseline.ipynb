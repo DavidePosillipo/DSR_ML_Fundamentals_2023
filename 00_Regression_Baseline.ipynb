{
 "cells": [
  {
   "cell_type": "code",
   "execution_count": 31,
   "id": "36445b86",
   "metadata": {},
   "outputs": [],
   "source": [
    "import mlflow\n",
    "import os\n",
    "import numpy as np\n",
    "import pandas as pd\n",
    "import seaborn as sns\n",
    "import matplotlib.pyplot as plt\n",
    "\n",
    "from sklearn.model_selection import train_test_split\n",
    "from sklearn.metrics import mean_squared_error, mean_absolute_error\n",
    "\n",
    "from pickle import dump\n",
    "\n",
    "from hyperopt import STATUS_OK\n",
    "\n",
    "from scripts.preprocessing_regression_models import Preprocess\n",
    "from scripts.model_registry import ModelRegistry\n",
    "from scripts.scoring import Scoring\n",
    "from scripts.monitoring import Monitoring\n",
    "from scripts.config_regression import (year_month_train,\n",
    "    model_name_pref,\n",
    "    input_data_path_train,\n",
    "    local_path_save,\n",
    "    seed)"
   ]
  },
  {
   "cell_type": "code",
   "execution_count": null,
   "id": "e1607bcd",
   "metadata": {},
   "outputs": [],
   "source": [
    "local_path_save = './local_artifacts_tmp/01_Linear_Regression/'"
   ]
  },
  {
   "cell_type": "markdown",
   "id": "0b32d9f2",
   "metadata": {},
   "source": [
    "### MLFlow setting"
   ]
  },
  {
   "cell_type": "code",
   "execution_count": 2,
   "id": "ebde894d",
   "metadata": {},
   "outputs": [
    {
     "name": "stderr",
     "output_type": "stream",
     "text": [
      "2023/01/02 10:34:52 INFO mlflow.tracking.fluent: Experiment with name '00 - Regression Baseline' does not exist. Creating a new experiment.\n"
     ]
    }
   ],
   "source": [
    "if not os.path.exists(local_path_save):\n",
    "    os.makedirs(local_path_save)\n",
    "\n",
    "#save all metadata in a sqlite db. Artifacts will be saved on local folder ./mlflow    \n",
    "mlflow.set_tracking_uri(\"sqlite:///mlflow.db\")\n",
    "\n",
    "# Name of the experiment\n",
    "exp_name = \"00 - Regression Baseline\"\n",
    "# set up MlFlow axperiment\n",
    "experiment_id = mlflow.set_experiment(exp_name)"
   ]
  },
  {
   "cell_type": "code",
   "execution_count": 3,
   "id": "569c1085",
   "metadata": {},
   "outputs": [],
   "source": [
    "year_month = year_month_train\n",
    "input_data_path = input_data_path_train"
   ]
  },
  {
   "cell_type": "markdown",
   "id": "8da53181",
   "metadata": {},
   "source": [
    "### Fitting and evaluation functions"
   ]
  },
  {
   "cell_type": "code",
   "execution_count": 4,
   "id": "6a8dc721",
   "metadata": {
    "scrolled": true
   },
   "outputs": [],
   "source": [
    "def lr_evaluation(Y_train, Y_test, Y_pred_train, Y_pred_test):\n",
    "        ''' \n",
    "        Function for evaluation of Linear Regression goodness\n",
    "        '''\n",
    "        rmse_train = mean_squared_error(Y_train,Y_pred_train)**0.5\n",
    "        rmse_test = mean_squared_error(Y_test,Y_pred_test)**0.5\n",
    "        \n",
    "        mae_train = mean_absolute_error(Y_train, Y_pred_train)\n",
    "        mae_test = mean_absolute_error(Y_test, Y_pred_test)\n",
    "    \n",
    "        return rmse_train, rmse_test, mae_train, mae_test"
   ]
  },
  {
   "cell_type": "code",
   "execution_count": 17,
   "id": "79a07ae9",
   "metadata": {},
   "outputs": [],
   "source": [
    "def objective_baseline(Y_train, Y_test, run_name: str = 'Unnamed'):\n",
    "    '''\n",
    "    Fitting function for Baseline\n",
    "    '''\n",
    "    with mlflow.start_run(run_name=run_name):\n",
    "        mlflow.set_tag('model_type','Baseline')\n",
    "        mlflow.set_tag('year_month',year_month)\n",
    "        mlflow.log_param('model_type','Baseline')\n",
    "        mlflow.log_param('data',input_data_path)\n",
    "\n",
    "        average_y_train = Y_train.mean()\n",
    "\n",
    "        Y_pred_train = np.repeat(average_y_train, Y_train.shape[0])\n",
    "        Y_pred_test = np.repeat(average_y_train, Y_test.shape[0])\n",
    "        rmse_train, rmse_test, mae_train, mae_test = lr_evaluation(\n",
    "                Y_train, Y_test, Y_pred_train, Y_pred_test\n",
    "        )\n",
    "\n",
    "        mlflow.log_metrics({'rmse_train': rmse_train, \n",
    "                            'rmse_test': rmse_test,\n",
    "                            'mae_train': mae_train,\n",
    "                            'mae_test': mae_test})\n",
    "\n",
    "        print('rmse_train = ', rmse_train, \n",
    "              '\\n rmse_test', rmse_test,\n",
    "              '\\n mae_train', mae_train,\n",
    "              '\\n mae_test', mae_test)\n",
    "\n",
    "        mlflow.log_artifact(local_path = local_path_save + run_name + '_ohe.pkl', artifact_path='preprocessing') \n",
    "        mlflow.sklearn.log_model(average_y_train, artifact_path='model')\n",
    "    \n",
    "    return {'loss': rmse_test, 'status': STATUS_OK}\n",
    "    "
   ]
  },
  {
   "cell_type": "markdown",
   "id": "9cd22cc8",
   "metadata": {},
   "source": [
    "## Experiments"
   ]
  },
  {
   "cell_type": "code",
   "execution_count": null,
   "id": "439a77f6",
   "metadata": {},
   "outputs": [],
   "source": [
    "run_name = 'base'"
   ]
  },
  {
   "cell_type": "code",
   "execution_count": 7,
   "id": "9e387976",
   "metadata": {
    "scrolled": true
   },
   "outputs": [
    {
     "name": "stdout",
     "output_type": "stream",
     "text": [
      "df shape (3576, 20)\n"
     ]
    }
   ],
   "source": [
    "prepr = Preprocess(input_data_path_train)\n",
    "X, Y = prepr.read_dataframe(request_tgt=True)\n",
    "\n",
    "X_train, X_test, Y_train, Y_test = train_test_split(X,Y, test_size=0.3, random_state=seed)\n",
    "\n",
    "#preprocessing ohe\n",
    "shapes_pre = (X_train.shape[0], X_test.shape[0])\n",
    "X_train_ohe, ohe = prepr.preprocess(df=X_train, fit_ohe=True)\n",
    "X_test_ohe, _ = prepr.preprocess(df=X_test, fit_ohe=False, ohe=ohe)\n",
    "assert shapes_pre == (X_train.shape[0], X_test.shape[0])\n",
    "dump(ohe, open(local_path_save + run_name + '_ohe.pkl', 'wb'))"
   ]
  },
  {
   "cell_type": "code",
   "execution_count": 37,
   "id": "35bf80f3",
   "metadata": {},
   "outputs": [
    {
     "data": {
      "image/png": "[encoded data removed]",
      "text/plain": [
       "<Figure size 640x480 with 2 Axes>"
      ]
     },
     "metadata": {},
     "output_type": "display_data"
    }
   ],
   "source": [
    "fig = plt.figure()\n",
    "fig.subplots_adjust(hspace=0.4, wspace=0.4)\n",
    "ax = fig.add_subplot(1, 2, 1)\n",
    "sns.histplot(Y_train,ax=ax).set_title('Y training set')\n",
    "ax = fig.add_subplot(1, 2, 2)\n",
    "sns.histplot(Y_test,ax=ax).set_title('Y test set')\n",
    "plt.show()"
   ]
  },
  {
   "cell_type": "code",
   "execution_count": 39,
   "id": "8a35a85e",
   "metadata": {},
   "outputs": [
    {
     "data": {
      "text/plain": [
       "count    2398.000000\n",
       "mean       10.286148\n",
       "std         5.792443\n",
       "min         1.000000\n",
       "25%         6.187500\n",
       "50%         9.100000\n",
       "75%        13.145833\n",
       "max        54.433333\n",
       "Name: duration, dtype: float64"
      ]
     },
     "execution_count": 39,
     "metadata": {},
     "output_type": "execute_result"
    }
   ],
   "source": [
    "Y_train.describe()"
   ]
  },
  {
   "cell_type": "code",
   "execution_count": 18,
   "id": "6094dc2e",
   "metadata": {
    "scrolled": true
   },
   "outputs": [
    {
     "name": "stdout",
     "output_type": "stream",
     "text": [
      "rmse_train =  5.791234966892877 \n",
      " rmse_test 5.487662729867075 \n",
      " mae_train 4.3753029120504685 \n",
      " mae_test 4.242818134221234\n"
     ]
    },
    {
     "name": "stderr",
     "output_type": "stream",
     "text": [
      "/Users/davideposillipo/.pyenv/versions/3.10.9/envs/mlops/lib/python3.10/site-packages/_distutils_hack/__init__.py:33: UserWarning: Setuptools is replacing distutils.\n",
      "  warnings.warn(\"Setuptools is replacing distutils.\")\n"
     ]
    },
    {
     "data": {
      "text/plain": [
       "{'loss': 5.487662729867075, 'status': 'ok'}"
      ]
     },
     "execution_count": 18,
     "metadata": {},
     "output_type": "execute_result"
    }
   ],
   "source": [
    "objective_baseline(Y_train=Y_train, Y_test=Y_test)"
   ]
  },
  {
   "cell_type": "code",
   "execution_count": null,
   "id": "058d4e44",
   "metadata": {},
   "outputs": [],
   "source": []
  }
 ],
 "metadata": {
  "kernelspec": {
   "display_name": "Python 3 (ipykernel)",
   "language": "python",
   "name": "python3"
  },
  "language_info": {
   "codemirror_mode": {
    "name": "ipython",
    "version": 3
   },
   "file_extension": ".py",
   "mimetype": "text/x-python",
   "name": "python",
   "nbconvert_exporter": "python",
   "pygments_lexer": "ipython3",
   "version": "3.10.9"
  }
 },
 "nbformat": 4,
 "nbformat_minor": 5
}
